{
 "cells": [
  {
   "cell_type": "code",
   "execution_count": null,
   "metadata": {
    "id": "BCd-8x9KZin4"
   },
   "outputs": [],
   "source": [
    "%matplotlib inline"
   ]
  },
  {
   "cell_type": "code",
   "execution_count": null,
   "metadata": {
    "id": "zZaVT5Z4ZioF"
   },
   "outputs": [],
   "source": [
    "# install other packages we need\n",
    "!pip install ratelim pandas tenacity"
   ]
  },
  {
   "cell_type": "markdown",
   "metadata": {
    "id": "EepbtdIgZioG"
   },
   "source": [
    "# Introduction to requests and API's"
   ]
  },
  {
   "cell_type": "markdown",
   "metadata": {
    "id": "LFpdlrfiZioK"
   },
   "source": [
    "## What you will be able to do after the tutorial\n",
    "\n",
    "- Understand what a (RESTful) API is\n",
    "- Understand what a HTTP request is\n",
    "- Use Python to make requests to an API\n",
    "- Use Python to work with JSON data\n",
    "- Use Python to read JSON data into a Dataframe and plot it\n",
    "- Understand how to overcome some real-world complexities when using API's\n",
    "      \n",
    "      "
   ]
  },
  {
   "cell_type": "markdown",
   "metadata": {
    "id": "0ttA5UxjZioN"
   },
   "source": [
    "## Prerequisites\n",
    "\n",
    "Before we get started with using API's in python we need to know a little more first."
   ]
  },
  {
   "cell_type": "markdown",
   "metadata": {
    "id": "opLHMZ57ZioP"
   },
   "source": [
    "### APIs : What and why\n",
    "    \n",
    "An API (Application Programming interface) is a way for two different applications to communicate. Whilst the term applies to any two programs we are using it to refer to the API of a web service that provides data.\n",
    "\n",
    "To retrieve data from an API, a request to a remote web server is made.\n",
    "\n",
    "For example, if you want to build an application which plots stock prices, you would use the API of something like google finance to request the current stock prices.\n",
    "\n",
    "APIs are useful where:\n",
    "* Data is changing quickly, e.g. stock prices\n",
    "* The whole dataset is not required, e.g. the tweets of one user\n",
    "* Repeated computation is involved, e.g. Spotify API that tells you the genre of a piece of music\n",
    "\n",
    "#### REST\n",
    "\n",
    "Most API's you come across will be RESTful, i.e. they provide a REST (REpresentational State Transfer) interface.\n",
    "\n",
    "REST uses standard HTTP commands which means that getting data from an API is similar to accessing a webpage. \n",
    "\n",
    "For example, When you type `www.duckduckgo.com` in your browser, your browser is asking the `www.duckduckgo.com` server for a webpage by making a `GET` HTTP (Hypertext Transfer Protocol) request. Making a `GET` request to a RESTful API instead retrieves data (rather than a webpage).\n",
    "\n",
    "Similarly, while your browser uses `POST` to submit the contents of a form, REST APIs use `POST` to update data.\n",
    "\n",
    "REST APIs also uses other HTTP commmands such as `PUT` - for creating data - and `DELETE` - for removing data.\n",
    "\n",
    "HTTP is a text-based protocol (the response is always text) and could return a response in any format - this is typically found in the API documentation - though data is more often than not returned in JSON format.\n",
    "\n",
    "As they are used to retrieve data `GET` requests are the most commonly used type of request, therefore we will restrict ourselves to `GET` in this tutorial.\n",
    "\n",
    "#### JSON\n",
    "\n",
    "JSON (JavaScript Object Notation) is a format for sending data, that is meant to be human readable and easy to parse (It was derived from JavaScript but is language-independent).\n",
    "\n",
    "It uses attribute-value pairs (e.g. python dictionaries `{\"name\": \"Pizza\", \"foodRanking\": 1}`) and array data-types (e.g. python lists `[1, 2, 3]`)\n",
    "\n",
    "Example JSON representation :\n",
    "```\n",
    "{\n",
    "  \"firstName\": \"Donald\",\n",
    "  \"lastName\": \"Trump\",\n",
    "  \"age\": 73,\n",
    "  \"isAlive\": true,\n",
    "  \"color\": \"orange\",\n",
    "  \"addresses\": [\n",
    "      {\n",
    "          \"streetAddress\": \"1600 Pennsylvania Avenue NW\",\n",
    "          \"city\": \"Washington, D.C.\",\n",
    "          \"state\": \"null\",\n",
    "          \"postalCode\": \"20500\",\n",
    "          \"country\": \"US\"\n",
    "      },\n",
    "      {\n",
    "          \"streetAddress\": \"721 Fifth Avenue\",\n",
    "          \"city\": \"NYC\",\n",
    "          \"state\": \"NY\",\n",
    "          \"postalCode\": \"10022\",\n",
    "          \"country\": \"US\"\n",
    "      }\n",
    "  ],\n",
    "}\n",
    "```\n",
    "\n",
    "\n",
    "#### Status codes\n",
    "\n",
    "So we've sent off some mystery `GET` request but how do we know the request was successful?\n",
    "\n",
    "Servers issue numeric [status codes](https://developer.mozilla.org/en-US/docs/Web/HTTP/Status) in response to HTTP requests that indicate whether a request has been successfully completed.\n",
    "\n",
    "Some common ones relating to `GET` requests are:\n",
    "* `200` - Success\n",
    "* `300` - The API is redirecting to a different endpoint\n",
    "* `400` - Bad request\n",
    "* `401` - Not authenticated\n",
    "* `403` - Forbidden\n",
    "* `404` - Not found\n",
    "* `429` - Too many requests"
   ]
  },
  {
   "cell_type": "markdown",
   "metadata": {
    "id": "3OXVpzQiZipF"
   },
   "source": [
    "## Example API: luchtmeetnet\n",
    "\n",
    "Let's dive in by looking at an API that can be of use to us, the [luchtmeetnet](https://api-docs.luchtmeetnet.nl/).\n",
    "\n",
    "The documentation linked gives a very useful summary of the structure of the requests:\n",
    "<!-- (![](https://github.com/nestauk/im-tutorials/blob/3-ysi-tutorial/notebooks/APIs/figures/eurostat_api.png?raw=1)) !-->\n",
    "![](https://github.com/Timmarh/intro-apis/blob/main/imgs/api_url.png?raw=1)\n",
    "\n",
    "The request consists of 2 parts. The first part is the url to the API itself. We will call this the base url, this url will stay the same for each request to this API. We can expand on this base url with a specification of what exactly we want from the api. This second part changes depending on what exactly we want from the API and how we want it. How exactly we have to specify this varies per API and can generally (if the API is set up well) be found in the [documentation](https://api-docs.luchtmeetnet.nl/) of the api. In our case it is."
   ]
  },
  {
   "cell_type": "markdown",
   "metadata": {
    "id": "5ynQczaFZipI"
   },
   "source": [
    "We'll learn by example how to use Python to get the data for a REST GET request on this dataset.\n",
    "\n",
    "We will use the Python library `requests` - https://github.com/psf/requests."
   ]
  },
  {
   "cell_type": "code",
   "execution_count": null,
   "metadata": {
    "id": "zpvrp7vaZipJ",
    "outputId": "c23e83ce-f86e-4f32-b21d-4ab14fa879c1"
   },
   "outputs": [],
   "source": [
    "import requests\n",
    "import pprint\n",
    "\n",
    "base_url = 'https://api.luchtmeetnet.nl/open_api/'\n",
    "\n",
    "response = requests.get(base_url + 'stations?order_by=&organisation_id=&page=')\n",
    "\n",
    "pp = pprint.PrettyPrinter(indent=1)\n",
    "pp.pprint(response.json())"
   ]
  },
  {
   "cell_type": "code",
   "execution_count": null,
   "outputs": [],
   "source": [
    "station = 'NL49557'\n",
    "response = requests.get(base_url + f'stations/{station}')\n",
    "pp.pprint(response.json())"
   ],
   "metadata": {
    "collapsed": false
   }
  },
  {
   "cell_type": "code",
   "execution_count": null,
   "outputs": [],
   "source": [
    "formula = 'C6H6'\n",
    "response = requests.get(base_url + f'stations/{station}/measurements?formula={formula}')\n",
    "pp.pprint(response.json())\n"
   ],
   "metadata": {
    "collapsed": false
   }
  },
  {
   "cell_type": "markdown",
   "source": [
    "## Convert the response to a dataframe.\n",
    "\n",
    "There are many ways to convert an API response, or another json, to a pandas dataframe.\n",
    "Here we will use the `json_normalize` fucntion, which comse in the pandas package.\n",
    "For some other options, see this [website](https://sparkbyexamples.com/pandas/pandas-convert-json-to-dataframe/)"
   ],
   "metadata": {
    "collapsed": false
   }
  },
  {
   "cell_type": "code",
   "execution_count": null,
   "outputs": [],
   "source": [
    "import pandas as pd\n",
    "\n",
    "response_data = response.json()['data']\n",
    "# pp.pprint(response_data)\n",
    "print(response_data[0].keys())\n",
    "\n",
    "\n",
    "response_df = pd.json_normalize(response_data)\n",
    "response_df\n",
    "\n",
    "\n",
    "response_df.value.plot(kind='bar')  # Make a bar plot\n"
   ],
   "metadata": {
    "collapsed": false
   }
  },
  {
   "cell_type": "markdown",
   "source": [
    "## CBS\n",
    "\n",
    "Another example"
   ],
   "metadata": {
    "collapsed": false
   }
  },
  {
   "cell_type": "code",
   "execution_count": 126,
   "outputs": [
    {
     "name": "stdout",
     "output_type": "stream",
     "text": [
      "https://beta-odata4.cbs.nl/CBS/83765NED/Observations?$top=100\n",
      "Request returned 200 : 'OK'\n",
      "{'@odata.context': 'https://beta-odata4.cbs.nl/CBS/83765NED/$metadata#Observations',\n",
      " 'value': [{'Id': 0,\n",
      "            'Measure': 'T001036',\n",
      "            'Value': 17081507.0,\n",
      "            'ValueAttribute': 'None',\n",
      "            'WijkenEnBuurten': 'NL00'},\n",
      "           {'Id': 1,\n",
      "            'Measure': '3000',\n",
      "            'Value': 8475102.0,\n",
      "            'ValueAttribute': 'None',\n",
      "            'WijkenEnBuurten': 'NL00'},\n",
      "           {'Id': 2,\n",
      "            'Measure': '4000',\n",
      "            'Value': 8606405.0,\n",
      "            'ValueAttribute': 'None',\n",
      "            'WijkenEnBuurten': 'NL00'},\n",
      "           {'Id': 3,\n",
      "            'Measure': '10680',\n",
      "            'Value': 2781768.0,\n",
      "            'ValueAttribute': 'None',\n",
      "            'WijkenEnBuurten': 'NL00'},\n",
      "           {'Id': 4,\n",
      "            'Measure': '53050',\n",
      "            'Value': 2101648.0,\n",
      "            'ValueAttribute': 'None',\n",
      "            'WijkenEnBuurten': 'NL00'},\n",
      "           {'Id': 5,\n",
      "            'Measure': '53310',\n",
      "            'Value': 4214276.0,\n",
      "            'ValueAttribute': 'None',\n",
      "            'WijkenEnBuurten': 'NL00'},\n",
      "           {'Id': 6,\n",
      "            'Measure': '53715',\n",
      "            'Value': 4824155.0,\n",
      "            'ValueAttribute': 'None',\n",
      "            'WijkenEnBuurten': 'NL00'},\n",
      "           {'Id': 7,\n",
      "            'Measure': '80200',\n",
      "            'Value': 3159660.0,\n",
      "            'ValueAttribute': 'None',\n",
      "            'WijkenEnBuurten': 'NL00'},\n",
      "           {'Id': 8,\n",
      "            'Measure': '1010',\n",
      "            'Value': 8201061.0,\n",
      "            'ValueAttribute': 'None',\n",
      "            'WijkenEnBuurten': 'NL00'},\n",
      "           {'Id': 9,\n",
      "            'Measure': '1020',\n",
      "            'Value': 6718468.0,\n",
      "            'ValueAttribute': 'None',\n",
      "            'WijkenEnBuurten': 'NL00'},\n",
      "           {'Id': 10,\n",
      "            'Measure': '1080',\n",
      "            'Value': 1302258.0,\n",
      "            'ValueAttribute': 'None',\n",
      "            'WijkenEnBuurten': 'NL00'},\n",
      "           {'Id': 11,\n",
      "            'Measure': '1050',\n",
      "            'Value': 859720.0,\n",
      "            'ValueAttribute': 'None',\n",
      "            'WijkenEnBuurten': 'NL00'},\n",
      "           {'Id': 12,\n",
      "            'Measure': '2012655',\n",
      "            'Value': 1689030.0,\n",
      "            'ValueAttribute': 'None',\n",
      "            'WijkenEnBuurten': 'NL00'},\n",
      "           {'Id': 13,\n",
      "            'Measure': '2012657_2',\n",
      "            'Value': 2173723.0,\n",
      "            'ValueAttribute': 'None',\n",
      "            'WijkenEnBuurten': 'NL00'},\n",
      "           {'Id': 14,\n",
      "            'Measure': 'H008673',\n",
      "            'Value': 391088.0,\n",
      "            'ValueAttribute': 'None',\n",
      "            'WijkenEnBuurten': 'NL00'},\n",
      "           {'Id': 15,\n",
      "            'Measure': 'H007119',\n",
      "            'Value': 152934.0,\n",
      "            'ValueAttribute': 'None',\n",
      "            'WijkenEnBuurten': 'NL00'},\n",
      "           {'Id': 16,\n",
      "            'Measure': 'H008751',\n",
      "            'Value': 349978.0,\n",
      "            'ValueAttribute': 'None',\n",
      "            'WijkenEnBuurten': 'NL00'},\n",
      "           {'Id': 17,\n",
      "            'Measure': 'H008766',\n",
      "            'Value': 400367.0,\n",
      "            'ValueAttribute': 'None',\n",
      "            'WijkenEnBuurten': 'NL00'},\n",
      "           {'Id': 18,\n",
      "            'Measure': 'A008187',\n",
      "            'Value': 879356.0,\n",
      "            'ValueAttribute': 'None',\n",
      "            'WijkenEnBuurten': 'NL00'},\n",
      "           {'Id': 19,\n",
      "            'Measure': 'M000173_1',\n",
      "            'Value': 169836.0,\n",
      "            'ValueAttribute': 'None',\n",
      "            'WijkenEnBuurten': 'NL00'},\n",
      "           {'Id': 20,\n",
      "            'Measure': 'M000173_2',\n",
      "            'Value': 9.0,\n",
      "            'ValueAttribute': 'None',\n",
      "            'WijkenEnBuurten': 'NL00'},\n",
      "           {'Id': 21,\n",
      "            'Measure': 'M000179_1',\n",
      "            'Value': 150214.0,\n",
      "            'ValueAttribute': 'None',\n",
      "            'WijkenEnBuurten': 'NL00'},\n",
      "           {'Id': 22,\n",
      "            'Measure': 'M000179_2',\n",
      "            'Value': 8.0,\n",
      "            'ValueAttribute': 'None',\n",
      "            'WijkenEnBuurten': 'NL00'},\n",
      "           {'Id': 23,\n",
      "            'Measure': '1050010_2',\n",
      "            'Value': 7794075.0,\n",
      "            'ValueAttribute': 'None',\n",
      "            'WijkenEnBuurten': 'NL00'},\n",
      "           {'Id': 24,\n",
      "            'Measure': '1050015',\n",
      "            'Value': 2961228.0,\n",
      "            'ValueAttribute': 'None',\n",
      "            'WijkenEnBuurten': 'NL00'},\n",
      "           {'Id': 25,\n",
      "            'Measure': '1016040',\n",
      "            'Value': 2247191.0,\n",
      "            'ValueAttribute': 'None',\n",
      "            'WijkenEnBuurten': 'NL00'},\n",
      "           {'Id': 26,\n",
      "            'Measure': '1016030',\n",
      "            'Value': 2585656.0,\n",
      "            'ValueAttribute': 'None',\n",
      "            'WijkenEnBuurten': 'NL00'},\n",
      "           {'Id': 27,\n",
      "            'Measure': 'M000114',\n",
      "            'Value': 2.2,\n",
      "            'ValueAttribute': 'None',\n",
      "            'WijkenEnBuurten': 'NL00'},\n",
      "           {'Id': 28,\n",
      "            'Measure': 'M000100',\n",
      "            'Value': 507.0,\n",
      "            'ValueAttribute': 'None',\n",
      "            'WijkenEnBuurten': 'NL00'},\n",
      "           {'Id': 29,\n",
      "            'Measure': 'M000297',\n",
      "            'Value': 7686175.0,\n",
      "            'ValueAttribute': 'None',\n",
      "            'WijkenEnBuurten': 'NL00'},\n",
      "           {'Id': 30,\n",
      "            'Measure': 'M003039',\n",
      "            'Value': 216.0,\n",
      "            'ValueAttribute': 'None',\n",
      "            'WijkenEnBuurten': 'NL00'},\n",
      "           {'Id': 31,\n",
      "            'Measure': 'ZW10290',\n",
      "            'Value': 64.0,\n",
      "            'ValueAttribute': 'None',\n",
      "            'WijkenEnBuurten': 'NL00'},\n",
      "           {'Id': 32,\n",
      "            'Measure': 'ZW10340',\n",
      "            'Value': 36.0,\n",
      "            'ValueAttribute': 'None',\n",
      "            'WijkenEnBuurten': 'NL00'},\n",
      "           {'Id': 33,\n",
      "            'Measure': 'A028725',\n",
      "            'Value': 95.0,\n",
      "            'ValueAttribute': 'None',\n",
      "            'WijkenEnBuurten': 'NL00'},\n",
      "           {'Id': 34,\n",
      "            'Measure': 'A028726',\n",
      "            'Value': 5.0,\n",
      "            'ValueAttribute': 'None',\n",
      "            'WijkenEnBuurten': 'NL00'},\n",
      "           {'Id': 35,\n",
      "            'Measure': '1014800_1',\n",
      "            'Value': 56.0,\n",
      "            'ValueAttribute': 'None',\n",
      "            'WijkenEnBuurten': 'NL00'},\n",
      "           {'Id': 36,\n",
      "            'Measure': '1014850_2',\n",
      "            'Value': 43.0,\n",
      "            'ValueAttribute': 'None',\n",
      "            'WijkenEnBuurten': 'NL00'},\n",
      "           {'Id': 37,\n",
      "            'Measure': 'A047047',\n",
      "            'Value': 29.0,\n",
      "            'ValueAttribute': 'None',\n",
      "            'WijkenEnBuurten': 'NL00'},\n",
      "           {'Id': 38,\n",
      "            'Measure': 'A047048',\n",
      "            'Value': 13.0,\n",
      "            'ValueAttribute': 'None',\n",
      "            'WijkenEnBuurten': 'NL00'},\n",
      "           {'Id': 39,\n",
      "            'Measure': 'A047051',\n",
      "            'Value': 1.0,\n",
      "            'ValueAttribute': 'None',\n",
      "            'WijkenEnBuurten': 'NL00'},\n",
      "           {'Id': 40,\n",
      "            'Measure': 'ZW25808',\n",
      "            'Value': 85.0,\n",
      "            'ValueAttribute': 'None',\n",
      "            'WijkenEnBuurten': 'NL00'},\n",
      "           {'Id': 41,\n",
      "            'Measure': 'ZW25807',\n",
      "            'Value': 15.0,\n",
      "            'ValueAttribute': 'None',\n",
      "            'WijkenEnBuurten': 'NL00'},\n",
      "           {'Id': 42,\n",
      "            'Measure': 'M000221_2',\n",
      "            'Value': 2860.0,\n",
      "            'ValueAttribute': 'None',\n",
      "            'WijkenEnBuurten': 'NL00'},\n",
      "           {'Id': 43,\n",
      "            'Measure': 'ZW25810_1',\n",
      "            'Value': 2050.0,\n",
      "            'ValueAttribute': 'None',\n",
      "            'WijkenEnBuurten': 'NL00'},\n",
      "           {'Id': 44,\n",
      "            'Measure': 'ZW25805_1',\n",
      "            'Value': 2990.0,\n",
      "            'ValueAttribute': 'None',\n",
      "            'WijkenEnBuurten': 'NL00'},\n",
      "           {'Id': 45,\n",
      "            'Measure': 'ZW25806_1',\n",
      "            'Value': 3100.0,\n",
      "            'ValueAttribute': 'None',\n",
      "            'WijkenEnBuurten': 'NL00'},\n",
      "           {'Id': 46,\n",
      "            'Measure': 'ZW10300_1',\n",
      "            'Value': 3430.0,\n",
      "            'ValueAttribute': 'None',\n",
      "            'WijkenEnBuurten': 'NL00'},\n",
      "           {'Id': 47,\n",
      "            'Measure': 'ZW10320_1',\n",
      "            'Value': 4040.0,\n",
      "            'ValueAttribute': 'None',\n",
      "            'WijkenEnBuurten': 'NL00'},\n",
      "           {'Id': 48,\n",
      "            'Measure': '1014850_3',\n",
      "            'Value': 2210.0,\n",
      "            'ValueAttribute': 'None',\n",
      "            'WijkenEnBuurten': 'NL00'},\n",
      "           {'Id': 49,\n",
      "            'Measure': '1014800_2',\n",
      "            'Value': 3330.0,\n",
      "            'ValueAttribute': 'None',\n",
      "            'WijkenEnBuurten': 'NL00'},\n",
      "           {'Id': 50,\n",
      "            'Measure': 'M000219_2',\n",
      "            'Value': 1240.0,\n",
      "            'ValueAttribute': 'None',\n",
      "            'WijkenEnBuurten': 'NL00'},\n",
      "           {'Id': 51,\n",
      "            'Measure': 'ZW25810_2',\n",
      "            'Value': 840.0,\n",
      "            'ValueAttribute': 'None',\n",
      "            'WijkenEnBuurten': 'NL00'},\n",
      "           {'Id': 52,\n",
      "            'Measure': 'ZW25805_2',\n",
      "            'Value': 1190.0,\n",
      "            'ValueAttribute': 'None',\n",
      "            'WijkenEnBuurten': 'NL00'},\n",
      "           {'Id': 53,\n",
      "            'Measure': 'ZW25806_2',\n",
      "            'Value': 1430.0,\n",
      "            'ValueAttribute': 'None',\n",
      "            'WijkenEnBuurten': 'NL00'},\n",
      "           {'Id': 54,\n",
      "            'Measure': 'ZW10300_2',\n",
      "            'Value': 1680.0,\n",
      "            'ValueAttribute': 'None',\n",
      "            'WijkenEnBuurten': 'NL00'},\n",
      "           {'Id': 55,\n",
      "            'Measure': 'ZW10320_2',\n",
      "            'Value': 2200.0,\n",
      "            'ValueAttribute': 'None',\n",
      "            'WijkenEnBuurten': 'NL00'},\n",
      "           {'Id': 56,\n",
      "            'Measure': '1014850_4',\n",
      "            'Value': 1010.0,\n",
      "            'ValueAttribute': 'None',\n",
      "            'WijkenEnBuurten': 'NL00'},\n",
      "           {'Id': 57,\n",
      "            'Measure': '1014800_3',\n",
      "            'Value': 1470.0,\n",
      "            'ValueAttribute': 'None',\n",
      "            'WijkenEnBuurten': 'NL00'},\n",
      "           {'Id': 58,\n",
      "            'Measure': 'M000369',\n",
      "            'Value': 5.6,\n",
      "            'ValueAttribute': 'None',\n",
      "            'WijkenEnBuurten': 'NL00'},\n",
      "           {'Id': 59,\n",
      "            'Measure': 'M000232',\n",
      "            'Value': 13396700.0,\n",
      "            'ValueAttribute': 'None',\n",
      "            'WijkenEnBuurten': 'NL00'},\n",
      "           {'Id': 60,\n",
      "            'Measure': 'M000223',\n",
      "            'Value': 32.0,\n",
      "            'ValueAttribute': 'None',\n",
      "            'WijkenEnBuurten': 'NL00'},\n",
      "           {'Id': 61,\n",
      "            'Measure': 'M000224',\n",
      "            'Value': 25.7,\n",
      "            'ValueAttribute': 'None',\n",
      "            'WijkenEnBuurten': 'NL00'},\n",
      "           {'Id': 62,\n",
      "            'Measure': 'D000187',\n",
      "            'Value': 40.0,\n",
      "            'ValueAttribute': 'None',\n",
      "            'WijkenEnBuurten': 'NL00'},\n",
      "           {'Id': 63,\n",
      "            'Measure': 'D000185',\n",
      "            'Value': 20.0,\n",
      "            'ValueAttribute': 'None',\n",
      "            'WijkenEnBuurten': 'NL00'},\n",
      "           {'Id': 64,\n",
      "            'Measure': 'M000302',\n",
      "            'Value': 59.3,\n",
      "            'ValueAttribute': 'None',\n",
      "            'WijkenEnBuurten': 'NL00'},\n",
      "           {'Id': 65,\n",
      "            'Measure': 'D000186',\n",
      "            'Value': 40.0,\n",
      "            'ValueAttribute': 'None',\n",
      "            'WijkenEnBuurten': 'NL00'},\n",
      "           {'Id': 66,\n",
      "            'Measure': 'D000184',\n",
      "            'Value': 20.0,\n",
      "            'ValueAttribute': 'None',\n",
      "            'WijkenEnBuurten': 'NL00'},\n",
      "           {'Id': 67,\n",
      "            'Measure': 'D000227',\n",
      "            'Value': 7.9,\n",
      "            'ValueAttribute': 'None',\n",
      "            'WijkenEnBuurten': 'NL00'},\n",
      "           {'Id': 68,\n",
      "            'Measure': 'M000226',\n",
      "            'Value': 7.2,\n",
      "            'ValueAttribute': 'None',\n",
      "            'WijkenEnBuurten': 'NL00'},\n",
      "           {'Id': 69,\n",
      "            'Measure': 'D006842',\n",
      "            'Value': 471190.0,\n",
      "            'ValueAttribute': 'None',\n",
      "            'WijkenEnBuurten': 'NL00'},\n",
      "           {'Id': 70,\n",
      "            'Measure': 'D006837',\n",
      "            'Value': 744330.0,\n",
      "            'ValueAttribute': 'None',\n",
      "            'WijkenEnBuurten': 'NL00'},\n",
      "           {'Id': 71,\n",
      "            'Measure': 'D001827',\n",
      "            'Value': 340610.0,\n",
      "            'ValueAttribute': 'None',\n",
      "            'WijkenEnBuurten': 'NL00'},\n",
      "           {'Id': 72,\n",
      "            'Measure': 'D000193',\n",
      "            'Value': 3015730.0,\n",
      "            'ValueAttribute': 'None',\n",
      "            'WijkenEnBuurten': 'NL00'},\n",
      "           {'Id': 73,\n",
      "            'Measure': 'M000200_2',\n",
      "            'Value': 1508540.0,\n",
      "            'ValueAttribute': 'None',\n",
      "            'WijkenEnBuurten': 'NL00'},\n",
      "           {'Id': 74,\n",
      "            'Measure': '301000',\n",
      "            'Value': 74815.0,\n",
      "            'ValueAttribute': 'None',\n",
      "            'WijkenEnBuurten': 'NL00'},\n",
      "           {'Id': 75,\n",
      "            'Measure': '300003',\n",
      "            'Value': 230745.0,\n",
      "            'ValueAttribute': 'None',\n",
      "            'WijkenEnBuurten': 'NL00'},\n",
      "           {'Id': 76,\n",
      "            'Measure': '300005',\n",
      "            'Value': 325275.0,\n",
      "            'ValueAttribute': 'None',\n",
      "            'WijkenEnBuurten': 'NL00'},\n",
      "           {'Id': 77,\n",
      "            'Measure': '383105',\n",
      "            'Value': 129490.0,\n",
      "            'ValueAttribute': 'None',\n",
      "            'WijkenEnBuurten': 'NL00'},\n",
      "           {'Id': 78,\n",
      "            'Measure': '300009',\n",
      "            'Value': 151660.0,\n",
      "            'ValueAttribute': 'None',\n",
      "            'WijkenEnBuurten': 'NL00'},\n",
      "           {'Id': 79,\n",
      "            'Measure': '300010',\n",
      "            'Value': 397200.0,\n",
      "            'ValueAttribute': 'None',\n",
      "            'WijkenEnBuurten': 'NL00'},\n",
      "           {'Id': 80,\n",
      "            'Measure': '300014',\n",
      "            'Value': 199360.0,\n",
      "            'ValueAttribute': 'None',\n",
      "            'WijkenEnBuurten': 'NL00'},\n",
      "           {'Id': 81,\n",
      "            'Measure': 'A018943_2',\n",
      "            'Value': 8222975.0,\n",
      "            'ValueAttribute': 'None',\n",
      "            'WijkenEnBuurten': 'NL00'},\n",
      "           {'Id': 82,\n",
      "            'Measure': '40001',\n",
      "            'Value': 2717530.0,\n",
      "            'ValueAttribute': 'None',\n",
      "            'WijkenEnBuurten': 'NL00'},\n",
      "           {'Id': 83,\n",
      "            'Measure': '72003',\n",
      "            'Value': 5505445.0,\n",
      "            'ValueAttribute': 'None',\n",
      "            'WijkenEnBuurten': 'NL00'},\n",
      "           {'Id': 84,\n",
      "            'Measure': 'A019276',\n",
      "            'Value': 6509000.0,\n",
      "            'ValueAttribute': 'None',\n",
      "            'WijkenEnBuurten': 'NL00'},\n",
      "           {'Id': 85,\n",
      "            'Measure': 'D001045',\n",
      "            'Value': 1713975.0,\n",
      "            'ValueAttribute': 'None',\n",
      "            'WijkenEnBuurten': 'NL00'},\n",
      "           {'Id': 86,\n",
      "            'Measure': 'M000368',\n",
      "            'Value': 1.1,\n",
      "            'ValueAttribute': 'None',\n",
      "            'WijkenEnBuurten': 'NL00'},\n",
      "           {'Id': 87,\n",
      "            'Measure': 'A018943_5',\n",
      "            'Value': 244.0,\n",
      "            'ValueAttribute': 'None',\n",
      "            'WijkenEnBuurten': 'NL00'},\n",
      "           {'Id': 88,\n",
      "            'Measure': 'A018944',\n",
      "            'Value': 655990.0,\n",
      "            'ValueAttribute': 'None',\n",
      "            'WijkenEnBuurten': 'NL00'},\n",
      "           {'Id': 89,\n",
      "            'Measure': 'D000028',\n",
      "            'Value': 1.0,\n",
      "            'ValueAttribute': 'None',\n",
      "            'WijkenEnBuurten': 'NL00'},\n",
      "           {'Id': 90,\n",
      "            'Measure': 'D000025',\n",
      "            'Value': 0.9,\n",
      "            'ValueAttribute': 'None',\n",
      "            'WijkenEnBuurten': 'NL00'},\n",
      "           {'Id': 91,\n",
      "            'Measure': 'D000029',\n",
      "            'Value': 0.8,\n",
      "            'ValueAttribute': 'None',\n",
      "            'WijkenEnBuurten': 'NL00'},\n",
      "           {'Id': 92,\n",
      "            'Measure': 'D000045',\n",
      "            'Value': 0.7,\n",
      "            'ValueAttribute': 'None',\n",
      "            'WijkenEnBuurten': 'NL00'},\n",
      "           {'Id': 93,\n",
      "            'Measure': 'D000263',\n",
      "            'Value': 11.2,\n",
      "            'ValueAttribute': 'None',\n",
      "            'WijkenEnBuurten': 'NL00'},\n",
      "           {'Id': 94,\n",
      "            'Measure': 'T001455_2',\n",
      "            'Value': 4154302.0,\n",
      "            'ValueAttribute': 'None',\n",
      "            'WijkenEnBuurten': 'NL00'},\n",
      "           {'Id': 95,\n",
      "            'Measure': 'A047044',\n",
      "            'Value': 3367996.0,\n",
      "            'ValueAttribute': 'None',\n",
      "            'WijkenEnBuurten': 'NL00'},\n",
      "           {'Id': 96,\n",
      "            'Measure': 'A047040',\n",
      "            'Value': 786306.0,\n",
      "            'ValueAttribute': 'None',\n",
      "            'WijkenEnBuurten': 'NL00'},\n",
      "           {'Id': 97,\n",
      "            'Measure': 'ST0001',\n",
      "            'Value': 2.0,\n",
      "            'ValueAttribute': 'None',\n",
      "            'WijkenEnBuurten': 'NL00'},\n",
      "           {'Id': 98,\n",
      "            'Measure': 'ST0003',\n",
      "            'Value': 1969.0,\n",
      "            'ValueAttribute': 'None',\n",
      "            'WijkenEnBuurten': 'NL00'},\n",
      "           {'Id': 99,\n",
      "            'Measure': 'T001036',\n",
      "            'Value': 25286.0,\n",
      "            'ValueAttribute': 'None',\n",
      "            'WijkenEnBuurten': 'GM1680'}]}\n"
     ]
    }
   ],
   "source": [
    "\n",
    "import requests  # Import the requests library\n",
    "import pandas as pd # Import pandas for later\n",
    "import geopandas as gpd\n",
    "import warnings\n",
    "warnings.filterwarnings(action='once') ## This line makes sure you see warnings only once\n",
    "\n",
    "# Downloaden van eerste 100 rijen uit de tabel\n",
    "\n",
    "howmany = 100\n",
    "base_url = \"https://beta-odata4.cbs.nl/CBS/83765NED\"\n",
    "url = base_url + f\"/Observations?$top={howmany}\"\n",
    "print(url)\n",
    "\n",
    "response = requests.get(url)  # Make a GET request to the URL\n",
    "\n",
    "# Print status code (and associated text)\n",
    "print(f\"Request returned {response.status_code} : '{response.reason}'\")\n",
    "\n",
    "# Print data returned (parsing as JSON)\n",
    "payload = response.json()  # Parse `response.text` into JSON\n",
    "\n",
    "import pprint\n",
    "pp = pprint.PrettyPrinter(indent=1)\n",
    "pp.pprint(payload)\n",
    "# NOTE: Could use print(response.json()) but this wouldn't be formatted nicely"
   ],
   "metadata": {
    "collapsed": false
   }
  },
  {
   "cell_type": "markdown",
   "metadata": {
    "id": "9C-GT7DSZipK"
   },
   "source": [
    "---\n",
    "\n",
    "**Tip:** it's easy to forget what attributes a variable like `response` has - was it `status_code` or `status`?\n",
    "Use the function `dir` to list the contents of a variable.\n",
    "\n",
    "``` python\n",
    "dir(response)\n",
    "```\n",
    "\n",
    "If you're in a jupyter notebook you can also type \"response.\" and then press `TAB` and an autocomplete bar will pop up.\n",
    "\n",
    "---"
   ]
  },
  {
   "cell_type": "markdown",
   "metadata": {
    "id": "x3h6BQ1-ZipL"
   },
   "source": [
    "**SUCCESS!** But what's the structure of our data?"
   ]
  },
  {
   "cell_type": "code",
   "execution_count": null,
   "metadata": {
    "id": "aolPFJ3rZipM",
    "outputId": "0013575f-f131-45ab-8e52-e2f41cfce62e"
   },
   "outputs": [],
   "source": [
    "payload['value']  # The values returned aren't very informative!"
   ]
  },
  {
   "cell_type": "markdown",
   "source": [
    "### The data is returned in some kind of structure. Let's unpack it."
   ],
   "metadata": {
    "collapsed": false
   }
  },
  {
   "cell_type": "code",
   "execution_count": null,
   "outputs": [],
   "source": [
    "payload = payload['value']\n",
    "payload"
   ],
   "metadata": {
    "collapsed": false
   }
  },
  {
   "cell_type": "markdown",
   "metadata": {
    "id": "bjLVf2i5ZipR"
   },
   "source": [
    "## Data Structure\n",
    "The payload is now a list of 2 dictionaries. You could see them as two rows of data.\n",
    "Let's save these 'rows' in a `pd.DataFrame`.\n"
   ]
  },
  {
   "cell_type": "markdown",
   "metadata": {
    "id": "FgqYG46AZipT"
   },
   "source": []
  },
  {
   "cell_type": "code",
   "execution_count": null,
   "metadata": {
    "id": "YyWTDyZtZipT",
    "outputId": "6d660cfe-162c-4d4a-a131-3acf2dfa380e"
   },
   "outputs": [],
   "source": [
    "df = pd.DataFrame(payload)\n",
    "df"
   ]
  },
  {
   "cell_type": "markdown",
   "metadata": {
    "id": "JOpjhon6ZipU"
   },
   "source": [
    "---\n",
    "\n",
    "We can calculate the means (across years) for each country and each `na_item` using `.groupby(...)` on a DataFrame.\n",
    "\n",
    "`groupby` simply groups a dataframe over the indexes/columns that are passed to it, on which we can then apply an aggregation function such as `.mean()`"
   ]
  },
  {
   "cell_type": "code",
   "execution_count": null,
   "metadata": {
    "id": "tHzzPbUsZipV",
    "outputId": "a7f60387-0f80-4630-b405-eb5f95a01de8"
   },
   "outputs": [],
   "source": [
    "df_means = (df.groupby(['WijkenEnBuurten']).mean())\n",
    "df_means"
   ]
  },
  {
   "cell_type": "markdown",
   "metadata": {
    "id": "iH2H8LaGZipX"
   },
   "source": [
    "---"
   ]
  },
  {
   "cell_type": "markdown",
   "metadata": {
    "id": "tsJv9KELZipb"
   },
   "source": [
    "We can also chain our commands together rather than storing the intermediate values.\n",
    "This makes it easier to read the flow of operations but removes the ability to inspect intermediate results."
   ]
  },
  {
   "cell_type": "code",
   "execution_count": null,
   "metadata": {
    "id": "8QBeGUF7Zipb"
   },
   "outputs": [],
   "source": [
    "# Look at the documentation for the plot function below and see what types of plot you can make\n",
    "pd.DataFrame.plot?\n",
    "\n"
   ]
  },
  {
   "cell_type": "markdown",
   "source": [
    "The following code was copied and adapted from the CBS github. See repository [here](https://github.com/statistiekcbs/CBS-Open-Data-v4)\n",
    "\n",
    "In this example we will join municipal boundaries on number of births.\n",
    "\n",
    "\n"
   ],
   "metadata": {
    "collapsed": false
   }
  },
  {
   "cell_type": "code",
   "execution_count": 117,
   "outputs": [
    {
     "data": {
      "text/plain": "   id statcode  jrstatcode       statnaam   rubriek  \\\n0   1   GM0014  2023GM0014      Groningen  gemeente   \n1   2   GM0034  2023GM0034         Almere  gemeente   \n2   3   GM0037  2023GM0037    Stadskanaal  gemeente   \n3   4   GM0047  2023GM0047        Veendam  gemeente   \n4   5   GM0050  2023GM0050       Zeewolde  gemeente   \n5   6   GM0059  2023GM0059  Achtkarspelen  gemeente   \n6   7   GM0060  2023GM0060        Ameland  gemeente   \n7   8   GM0072  2023GM0072      Harlingen  gemeente   \n8   9   GM0074  2023GM0074     Heerenveen  gemeente   \n9  10   GM0080  2023GM0080     Leeuwarden  gemeente   \n\n                                            geometry  \n0  MULTIPOLYGON (((245194.69060 592594.00720, 245...  \n1  MULTIPOLYGON (((146891.05600 493291.70900, 147...  \n2  MULTIPOLYGON (((263763.86600 566430.39200, 263...  \n3  MULTIPOLYGON (((256231.90870 572319.21340, 258...  \n4  MULTIPOLYGON (((170596.29300 486786.45640, 170...  \n5  MULTIPOLYGON (((210504.11900 586245.32000, 210...  \n6  MULTIPOLYGON (((177841.52510 608434.41990, 179...  \n7  MULTIPOLYGON (((159611.05300 579600.96100, 159...  \n8  MULTIPOLYGON (((187469.41400 566216.70200, 187...  \n9  MULTIPOLYGON (((178314.14270 589844.71230, 179...  ",
      "text/html": "<div>\n<style scoped>\n    .dataframe tbody tr th:only-of-type {\n        vertical-align: middle;\n    }\n\n    .dataframe tbody tr th {\n        vertical-align: top;\n    }\n\n    .dataframe thead th {\n        text-align: right;\n    }\n</style>\n<table border=\"1\" class=\"dataframe\">\n  <thead>\n    <tr style=\"text-align: right;\">\n      <th></th>\n      <th>id</th>\n      <th>statcode</th>\n      <th>jrstatcode</th>\n      <th>statnaam</th>\n      <th>rubriek</th>\n      <th>geometry</th>\n    </tr>\n  </thead>\n  <tbody>\n    <tr>\n      <th>0</th>\n      <td>1</td>\n      <td>GM0014</td>\n      <td>2023GM0014</td>\n      <td>Groningen</td>\n      <td>gemeente</td>\n      <td>MULTIPOLYGON (((245194.69060 592594.00720, 245...</td>\n    </tr>\n    <tr>\n      <th>1</th>\n      <td>2</td>\n      <td>GM0034</td>\n      <td>2023GM0034</td>\n      <td>Almere</td>\n      <td>gemeente</td>\n      <td>MULTIPOLYGON (((146891.05600 493291.70900, 147...</td>\n    </tr>\n    <tr>\n      <th>2</th>\n      <td>3</td>\n      <td>GM0037</td>\n      <td>2023GM0037</td>\n      <td>Stadskanaal</td>\n      <td>gemeente</td>\n      <td>MULTIPOLYGON (((263763.86600 566430.39200, 263...</td>\n    </tr>\n    <tr>\n      <th>3</th>\n      <td>4</td>\n      <td>GM0047</td>\n      <td>2023GM0047</td>\n      <td>Veendam</td>\n      <td>gemeente</td>\n      <td>MULTIPOLYGON (((256231.90870 572319.21340, 258...</td>\n    </tr>\n    <tr>\n      <th>4</th>\n      <td>5</td>\n      <td>GM0050</td>\n      <td>2023GM0050</td>\n      <td>Zeewolde</td>\n      <td>gemeente</td>\n      <td>MULTIPOLYGON (((170596.29300 486786.45640, 170...</td>\n    </tr>\n    <tr>\n      <th>5</th>\n      <td>6</td>\n      <td>GM0059</td>\n      <td>2023GM0059</td>\n      <td>Achtkarspelen</td>\n      <td>gemeente</td>\n      <td>MULTIPOLYGON (((210504.11900 586245.32000, 210...</td>\n    </tr>\n    <tr>\n      <th>6</th>\n      <td>7</td>\n      <td>GM0060</td>\n      <td>2023GM0060</td>\n      <td>Ameland</td>\n      <td>gemeente</td>\n      <td>MULTIPOLYGON (((177841.52510 608434.41990, 179...</td>\n    </tr>\n    <tr>\n      <th>7</th>\n      <td>8</td>\n      <td>GM0072</td>\n      <td>2023GM0072</td>\n      <td>Harlingen</td>\n      <td>gemeente</td>\n      <td>MULTIPOLYGON (((159611.05300 579600.96100, 159...</td>\n    </tr>\n    <tr>\n      <th>8</th>\n      <td>9</td>\n      <td>GM0074</td>\n      <td>2023GM0074</td>\n      <td>Heerenveen</td>\n      <td>gemeente</td>\n      <td>MULTIPOLYGON (((187469.41400 566216.70200, 187...</td>\n    </tr>\n    <tr>\n      <th>9</th>\n      <td>10</td>\n      <td>GM0080</td>\n      <td>2023GM0080</td>\n      <td>Leeuwarden</td>\n      <td>gemeente</td>\n      <td>MULTIPOLYGON (((178314.14270 589844.71230, 179...</td>\n    </tr>\n  </tbody>\n</table>\n</div>"
     },
     "execution_count": 117,
     "metadata": {},
     "output_type": "execute_result"
    }
   ],
   "source": [
    "import pandas as pd\n",
    "import geopandas as gpd\n",
    "import requests\n",
    "\n",
    "# De geodata wordt via de API van het Nationaal Georegister van PDOK opgehaald.\n",
    "# Een overzicht van beschikbare data staat op https://www.pdok.nl/datasets.\n",
    "pdok_url = \"https://service.pdok.nl/cbs/gebiedsindelingen/2023/wfs/v1_0?SERVICE=WFS&REQUEST=GetFeature&VERSION=2.0.0&TYPENAMES=gebiedsindelingen:gemeente_gegeneraliseerd&STARTINDEX=0&COUNT=10&outputFormat=json&SRSNAME=urn:ogc:def:crs:EPSG::28992\"\n",
    "\n",
    "gemeentegrenzen = gpd.read_file(pdok_url)\n",
    "gemeentegrenzen"
   ],
   "metadata": {
    "collapsed": false
   }
  },
  {
   "cell_type": "markdown",
   "source": [
    "The first time I tried I got some kind of weird error about ssl.\n",
    "After googling I found [this stackoverflow question](https://stackoverflow.com/questions/50236117/scraping-ssl-certificate-verify-failed-error-for-http-en-wikipedia-org)\n",
    "\n",
    "As suggested, running the code below (once) resolved it.\n",
    "\n",
    "```python\n",
    "import ssl\n",
    "ssl._create_default_https_context = ssl._create_unverified_context\n",
    "```"
   ],
   "metadata": {
    "collapsed": false
   }
  },
  {
   "cell_type": "markdown",
   "source": [
    "## Filtering\n",
    "The odata api uses some filtering, you can see this after the `?$filter` argument. Some more info on this filtering techique you can find [here](https://avinetworks.com/docs/latest/api-guide/logs.html).\n",
    "\n",
    "In this case it filters on where the `Measure` attribute equals (eq) `'M000173_2'` AND the `WijkenEnBuurten` attribute starts with `'GM'`."
   ],
   "metadata": {
    "collapsed": false
   }
  },
  {
   "cell_type": "code",
   "execution_count": 132,
   "outputs": [
    {
     "name": "stdout",
     "output_type": "stream",
     "text": [
      "Request returned 200 : 'OK'\n",
      "dict_keys(['@odata.context', 'value'])\n"
     ]
    },
    {
     "data": {
      "text/plain": "          Id    Measure ValueAttribute  Value WijkenEnBuurten\n0        119  M000173_2           None    6.0          GM1680\n1       6477  M000173_2           None   10.0          GM0738\n2       8612  M000173_2           None    7.0          GM0358\n3       9918  M000173_2           None    8.0          GM0197\n4      13108  M000173_2           None    9.0          GM0059\n..       ...        ...            ...    ...             ...\n383  1511104  M000173_2           None    7.0          GM0879\n384  1512798  M000173_2           None    8.0          GM0301\n385  1516623  M000173_2           None   12.0          GM1896\n386  1520400  M000173_2           None   11.0          GM0642\n387  1529010  M000173_2           None   11.0          GM0193\n\n[388 rows x 5 columns]",
      "text/html": "<div>\n<style scoped>\n    .dataframe tbody tr th:only-of-type {\n        vertical-align: middle;\n    }\n\n    .dataframe tbody tr th {\n        vertical-align: top;\n    }\n\n    .dataframe thead th {\n        text-align: right;\n    }\n</style>\n<table border=\"1\" class=\"dataframe\">\n  <thead>\n    <tr style=\"text-align: right;\">\n      <th></th>\n      <th>Id</th>\n      <th>Measure</th>\n      <th>ValueAttribute</th>\n      <th>Value</th>\n      <th>WijkenEnBuurten</th>\n    </tr>\n  </thead>\n  <tbody>\n    <tr>\n      <th>0</th>\n      <td>119</td>\n      <td>M000173_2</td>\n      <td>None</td>\n      <td>6.0</td>\n      <td>GM1680</td>\n    </tr>\n    <tr>\n      <th>1</th>\n      <td>6477</td>\n      <td>M000173_2</td>\n      <td>None</td>\n      <td>10.0</td>\n      <td>GM0738</td>\n    </tr>\n    <tr>\n      <th>2</th>\n      <td>8612</td>\n      <td>M000173_2</td>\n      <td>None</td>\n      <td>7.0</td>\n      <td>GM0358</td>\n    </tr>\n    <tr>\n      <th>3</th>\n      <td>9918</td>\n      <td>M000173_2</td>\n      <td>None</td>\n      <td>8.0</td>\n      <td>GM0197</td>\n    </tr>\n    <tr>\n      <th>4</th>\n      <td>13108</td>\n      <td>M000173_2</td>\n      <td>None</td>\n      <td>9.0</td>\n      <td>GM0059</td>\n    </tr>\n    <tr>\n      <th>...</th>\n      <td>...</td>\n      <td>...</td>\n      <td>...</td>\n      <td>...</td>\n      <td>...</td>\n    </tr>\n    <tr>\n      <th>383</th>\n      <td>1511104</td>\n      <td>M000173_2</td>\n      <td>None</td>\n      <td>7.0</td>\n      <td>GM0879</td>\n    </tr>\n    <tr>\n      <th>384</th>\n      <td>1512798</td>\n      <td>M000173_2</td>\n      <td>None</td>\n      <td>8.0</td>\n      <td>GM0301</td>\n    </tr>\n    <tr>\n      <th>385</th>\n      <td>1516623</td>\n      <td>M000173_2</td>\n      <td>None</td>\n      <td>12.0</td>\n      <td>GM1896</td>\n    </tr>\n    <tr>\n      <th>386</th>\n      <td>1520400</td>\n      <td>M000173_2</td>\n      <td>None</td>\n      <td>11.0</td>\n      <td>GM0642</td>\n    </tr>\n    <tr>\n      <th>387</th>\n      <td>1529010</td>\n      <td>M000173_2</td>\n      <td>None</td>\n      <td>11.0</td>\n      <td>GM0193</td>\n    </tr>\n  </tbody>\n</table>\n<p>388 rows × 5 columns</p>\n</div>"
     },
     "execution_count": 132,
     "metadata": {},
     "output_type": "execute_result"
    }
   ],
   "source": [
    "\n",
    "# Zoek op welke codes bij geboortecijfers horen\n",
    "table_url = \"https://odata4.cbs.nl/CBS/83765NED/Observations?$filter=Measure eq 'M000173_2' and startswith(WijkenEnBuurten,'GM')\"\n",
    "\n",
    "response = requests.get(table_url)\n",
    "print(f\"Request returned {response.status_code} : '{response.reason}'\")\n",
    "codes = pd.json_normalize(response.json()['value'])\n",
    "\n",
    "codes"
   ],
   "metadata": {
    "collapsed": false
   }
  },
  {
   "cell_type": "code",
   "execution_count": 133,
   "outputs": [
    {
     "ename": "KeyError",
     "evalue": "'Title'",
     "output_type": "error",
     "traceback": [
      "\u001B[1;31m---------------------------------------------------------------------------\u001B[0m",
      "\u001B[1;31mKeyError\u001B[0m                                  Traceback (most recent call last)",
      "File \u001B[1;32m~\\.conda\\envs\\smartenv\\lib\\site-packages\\pandas\\core\\indexes\\base.py:3802\u001B[0m, in \u001B[0;36mIndex.get_loc\u001B[1;34m(self, key, method, tolerance)\u001B[0m\n\u001B[0;32m   3801\u001B[0m \u001B[38;5;28;01mtry\u001B[39;00m:\n\u001B[1;32m-> 3802\u001B[0m     \u001B[38;5;28;01mreturn\u001B[39;00m \u001B[38;5;28;43mself\u001B[39;49m\u001B[38;5;241;43m.\u001B[39;49m\u001B[43m_engine\u001B[49m\u001B[38;5;241;43m.\u001B[39;49m\u001B[43mget_loc\u001B[49m\u001B[43m(\u001B[49m\u001B[43mcasted_key\u001B[49m\u001B[43m)\u001B[49m\n\u001B[0;32m   3803\u001B[0m \u001B[38;5;28;01mexcept\u001B[39;00m \u001B[38;5;167;01mKeyError\u001B[39;00m \u001B[38;5;28;01mas\u001B[39;00m err:\n",
      "File \u001B[1;32m~\\.conda\\envs\\smartenv\\lib\\site-packages\\pandas\\_libs\\index.pyx:138\u001B[0m, in \u001B[0;36mpandas._libs.index.IndexEngine.get_loc\u001B[1;34m()\u001B[0m\n",
      "File \u001B[1;32m~\\.conda\\envs\\smartenv\\lib\\site-packages\\pandas\\_libs\\index.pyx:165\u001B[0m, in \u001B[0;36mpandas._libs.index.IndexEngine.get_loc\u001B[1;34m()\u001B[0m\n",
      "File \u001B[1;32mpandas\\_libs\\hashtable_class_helper.pxi:5745\u001B[0m, in \u001B[0;36mpandas._libs.hashtable.PyObjectHashTable.get_item\u001B[1;34m()\u001B[0m\n",
      "File \u001B[1;32mpandas\\_libs\\hashtable_class_helper.pxi:5753\u001B[0m, in \u001B[0;36mpandas._libs.hashtable.PyObjectHashTable.get_item\u001B[1;34m()\u001B[0m\n",
      "\u001B[1;31mKeyError\u001B[0m: 'Title'",
      "\nThe above exception was the direct cause of the following exception:\n",
      "\u001B[1;31mKeyError\u001B[0m                                  Traceback (most recent call last)",
      "Cell \u001B[1;32mIn[133], line 1\u001B[0m\n\u001B[1;32m----> 1\u001B[0m geb \u001B[38;5;241m=\u001B[39m codes[\u001B[43mcodes\u001B[49m\u001B[43m[\u001B[49m\u001B[38;5;124;43m'\u001B[39;49m\u001B[38;5;124;43mTitle\u001B[39;49m\u001B[38;5;124;43m'\u001B[39;49m\u001B[43m]\u001B[49m\u001B[38;5;241m.\u001B[39mstr\u001B[38;5;241m.\u001B[39mcontains(\u001B[38;5;124m\"\u001B[39m\u001B[38;5;124mGeboorte\u001B[39m\u001B[38;5;124m\"\u001B[39m)]\n\u001B[0;32m      2\u001B[0m \u001B[38;5;28mprint\u001B[39m(geb[[\u001B[38;5;124m'\u001B[39m\u001B[38;5;124mTitle\u001B[39m\u001B[38;5;124m'\u001B[39m,\u001B[38;5;124m'\u001B[39m\u001B[38;5;124mUnit\u001B[39m\u001B[38;5;124m'\u001B[39m,\u001B[38;5;124m'\u001B[39m\u001B[38;5;124mIdentifier\u001B[39m\u001B[38;5;124m'\u001B[39m]])\n",
      "File \u001B[1;32m~\\.conda\\envs\\smartenv\\lib\\site-packages\\pandas\\core\\frame.py:3807\u001B[0m, in \u001B[0;36mDataFrame.__getitem__\u001B[1;34m(self, key)\u001B[0m\n\u001B[0;32m   3805\u001B[0m \u001B[38;5;28;01mif\u001B[39;00m \u001B[38;5;28mself\u001B[39m\u001B[38;5;241m.\u001B[39mcolumns\u001B[38;5;241m.\u001B[39mnlevels \u001B[38;5;241m>\u001B[39m \u001B[38;5;241m1\u001B[39m:\n\u001B[0;32m   3806\u001B[0m     \u001B[38;5;28;01mreturn\u001B[39;00m \u001B[38;5;28mself\u001B[39m\u001B[38;5;241m.\u001B[39m_getitem_multilevel(key)\n\u001B[1;32m-> 3807\u001B[0m indexer \u001B[38;5;241m=\u001B[39m \u001B[38;5;28;43mself\u001B[39;49m\u001B[38;5;241;43m.\u001B[39;49m\u001B[43mcolumns\u001B[49m\u001B[38;5;241;43m.\u001B[39;49m\u001B[43mget_loc\u001B[49m\u001B[43m(\u001B[49m\u001B[43mkey\u001B[49m\u001B[43m)\u001B[49m\n\u001B[0;32m   3808\u001B[0m \u001B[38;5;28;01mif\u001B[39;00m is_integer(indexer):\n\u001B[0;32m   3809\u001B[0m     indexer \u001B[38;5;241m=\u001B[39m [indexer]\n",
      "File \u001B[1;32m~\\.conda\\envs\\smartenv\\lib\\site-packages\\pandas\\core\\indexes\\base.py:3804\u001B[0m, in \u001B[0;36mIndex.get_loc\u001B[1;34m(self, key, method, tolerance)\u001B[0m\n\u001B[0;32m   3802\u001B[0m     \u001B[38;5;28;01mreturn\u001B[39;00m \u001B[38;5;28mself\u001B[39m\u001B[38;5;241m.\u001B[39m_engine\u001B[38;5;241m.\u001B[39mget_loc(casted_key)\n\u001B[0;32m   3803\u001B[0m \u001B[38;5;28;01mexcept\u001B[39;00m \u001B[38;5;167;01mKeyError\u001B[39;00m \u001B[38;5;28;01mas\u001B[39;00m err:\n\u001B[1;32m-> 3804\u001B[0m     \u001B[38;5;28;01mraise\u001B[39;00m \u001B[38;5;167;01mKeyError\u001B[39;00m(key) \u001B[38;5;28;01mfrom\u001B[39;00m \u001B[38;5;21;01merr\u001B[39;00m\n\u001B[0;32m   3805\u001B[0m \u001B[38;5;28;01mexcept\u001B[39;00m \u001B[38;5;167;01mTypeError\u001B[39;00m:\n\u001B[0;32m   3806\u001B[0m     \u001B[38;5;66;03m# If we have a listlike key, _check_indexing_error will raise\u001B[39;00m\n\u001B[0;32m   3807\u001B[0m     \u001B[38;5;66;03m#  InvalidIndexError. Otherwise we fall through and re-raise\u001B[39;00m\n\u001B[0;32m   3808\u001B[0m     \u001B[38;5;66;03m#  the TypeError.\u001B[39;00m\n\u001B[0;32m   3809\u001B[0m     \u001B[38;5;28mself\u001B[39m\u001B[38;5;241m.\u001B[39m_check_indexing_error(key)\n",
      "\u001B[1;31mKeyError\u001B[0m: 'Title'"
     ]
    }
   ],
   "source": [
    "\n",
    "geb = codes[codes['Title'].str.contains(\"Geboorte\")]\n",
    "print(geb[['Title','Unit','Identifier']])\n",
    "\n"
   ],
   "metadata": {
    "collapsed": false
   }
  },
  {
   "cell_type": "code",
   "execution_count": 120,
   "outputs": [
    {
     "name": "stdout",
     "output_type": "stream",
     "text": [
      "{'@odata.context': 'https://odata4.cbs.nl/CBS/83765NED/$metadata#MeasureCodes', 'value': [{'Identifier': 'T001036', 'Index': 7, 'Title': 'Aantal inwoners', 'Description': '', 'MeasureGroupId': 'M000352', 'DataType': 'Long', 'Unit': 'aantal', 'Decimals': 0, 'PresentationType': 'Absolute'}, {'Identifier': '3000', 'Index': 9, 'Title': 'Mannen', 'Description': '', 'MeasureGroupId': 'T001038', 'DataType': 'Long', 'Unit': 'aantal', 'Decimals': 0, 'PresentationType': 'Absolute'}, {'Identifier': '4000', 'Index': 10, 'Title': 'Vrouwen', 'Description': '', 'MeasureGroupId': 'T001038', 'DataType': 'Long', 'Unit': 'aantal', 'Decimals': 0, 'PresentationType': 'Absolute'}, {'Identifier': '10680', 'Index': 12, 'Title': '0 tot 15 jaar', 'Description': 'Aantal inwoners dat op 1 januari 0 tot 15 jaar oud is.', 'MeasureGroupId': '10000', 'DataType': 'Long', 'Unit': 'aantal', 'Decimals': 0, 'PresentationType': 'Absolute'}, {'Identifier': '53050', 'Index': 13, 'Title': '15 tot 25 jaar', 'Description': 'Aantal inwoners dat op 1 januari 15 tot 25 jaar oud is.', 'MeasureGroupId': '10000', 'DataType': 'Long', 'Unit': 'aantal', 'Decimals': 0, 'PresentationType': 'Absolute'}, {'Identifier': '53310', 'Index': 14, 'Title': '25 tot 45 jaar', 'Description': 'Aantal inwoners dat op 1 januari 25 tot 45 jaar oud is.', 'MeasureGroupId': '10000', 'DataType': 'Long', 'Unit': 'aantal', 'Decimals': 0, 'PresentationType': 'Absolute'}, {'Identifier': '53715', 'Index': 15, 'Title': '45 tot 65 jaar', 'Description': 'Aantal inwoners dat op 1 januari 45 tot 65 jaar oud is.', 'MeasureGroupId': '10000', 'DataType': 'Long', 'Unit': 'aantal', 'Decimals': 0, 'PresentationType': 'Absolute'}, {'Identifier': '80200', 'Index': 16, 'Title': '65 jaar of ouder', 'Description': 'Aantal inwoners dat op 1 januari 65 jaar of ouder is.', 'MeasureGroupId': '10000', 'DataType': 'Long', 'Unit': 'aantal', 'Decimals': 0, 'PresentationType': 'Absolute'}, {'Identifier': '1010', 'Index': 18, 'Title': 'Ongehuwd', 'Description': 'Het aantal inwoners dat op 1 januari ongehuwd is. De burgerlijke staat ongehuwd geeft aan dat een persoon nog nooit een huwelijk heeft gesloten of een geregistreerd partnerschap is aangegaan.', 'MeasureGroupId': 'T001019', 'DataType': 'Long', 'Unit': 'aantal', 'Decimals': 0, 'PresentationType': 'Absolute'}, {'Identifier': '1020', 'Index': 19, 'Title': 'Gehuwd', 'Description': 'Het aantal inwoners dat op 1 januari gehuwd is. De burgerlijke staat gehuwd ontstaat na sluiting van een huwelijk of het aangaan van een geregistreerd partnerschap. Tot de gehuwden worden ook personen gerekend die gescheiden zijn van tafel en bed, want zij blijven formeel gehuwd.', 'MeasureGroupId': 'T001019', 'DataType': 'Long', 'Unit': 'aantal', 'Decimals': 0, 'PresentationType': 'Absolute'}, {'Identifier': '1080', 'Index': 20, 'Title': 'Gescheiden', 'Description': 'Het aantal inwoners dat op 1 januari gescheiden is. De burgerlijke staat gescheiden ontstaat na ontbinding van een huwelijk door echtscheiding of na ontbinding van een geregistreerd partnerschap anders dan door het overlijden van de partner. Personen die gescheiden zijn van tafel en bed worden tot de gehuwden gerekend.', 'MeasureGroupId': 'T001019', 'DataType': 'Long', 'Unit': 'aantal', 'Decimals': 0, 'PresentationType': 'Absolute'}, {'Identifier': '1050', 'Index': 21, 'Title': 'Verweduwd', 'Description': 'Het aantal inwoners dat op 1 januari verweduwd is. De burgerlijke staat verweduwd ontstaat na ontbinding van een huwelijk of geregistreerd partnerschap door overlijden van de partner.', 'MeasureGroupId': 'T001019', 'DataType': 'Long', 'Unit': 'aantal', 'Decimals': 0, 'PresentationType': 'Absolute'}, {'Identifier': '2012655', 'Index': 23, 'Title': 'Westers totaal', 'Description': 'Persoon met een migratieachtergrond met als herkomstgroepering een van de landen in de werelddelen Europa (exclusief Turkije), Noord-Amerika en Oceanië of Indonesië of Japan.\\r\\nOp grond van hun sociaaleconomische en sociaal-culturele positie worden personen met een migratieachtergrond uit Indonesië en Japan tot de westerse personen met een migratieachtergrond gerekend. Het gaat vooral om mensen die in het voormalig Nederlands-Indië zijn geboren en werknemers van Japanse bedrijven met hun gezin.\\r\\n', 'MeasureGroupId': '2012605', 'DataType': 'Long', 'Unit': 'aantal', 'Decimals': 0, 'PresentationType': 'Absolute'}, {'Identifier': '2012657_2', 'Index': 25, 'Title': 'Niet-westers totaal', 'Description': '', 'MeasureGroupId': '2012657_1', 'DataType': 'Long', 'Unit': 'aantal', 'Decimals': 0, 'PresentationType': 'Absolute'}, {'Identifier': 'H008673', 'Index': 26, 'Title': 'Marokko', 'Description': '', 'MeasureGroupId': '2012657_1', 'DataType': 'Long', 'Unit': 'aantal', 'Decimals': 0, 'PresentationType': 'Absolute'}, {'Identifier': 'H007119', 'Index': 27, 'Title': 'Nederlandse Antillen en Aruba', 'Description': \"(voormalige) Nederlandse Antillen en Aruba\\r\\nBetreft een samentelling van de eilanden die tot het grondgebied van de Nederlandse Antillen en Aruba van vóór 10 oktober 2010 behoorden.\\r\\nHet gaat om de eilanden Bonaire, Curaçao, Saba, Sint-Eustatius, Sint-Maarten en Aruba.\\r\\n\\r\\nVanaf 10 oktober 2010 zijn de Nederlandse Antillen ontbonden. Het Koninkrijk der Nederlanden bestaat dan uit vier landen: Nederland, Aruba, Curaçao en Sint Maarten. Alle eilanden hebben een nieuwe status. Curaçao en Sint Maarten zijn nieuwe landen binnen het Koninkrijk. Met een 'Status aparte' binnen het Koninkrijk zijn Curaçao en Sint Maarten autonome landen. De landen hebben een zelfstandig bestuur en zijn niet meer afhankelijk van Nederland. De openbare lichamen Bonaire, Sint Eustatius en Saba, ook wel Caribisch Nederland, hebben een diepere band met Nederland en functioneren als bijzondere gemeente van Nederland.\\r\\n\\r\\nOp 1 januari 1986 werd Aruba afgescheiden van de Nederlandse Antillen. Sinds die datum is Aruba een nieuw land binnen het Koninkrijk de Nederlanden. Met een 'Status aparte' binnen het Koninkrijk is Aruba een autonoom land. Aruba heeft een zelfstandig bestuur en is niet meer afhankelijk van Nederland.\", 'MeasureGroupId': '2012657_1', 'DataType': 'Long', 'Unit': 'aantal', 'Decimals': 0, 'PresentationType': 'Absolute'}, {'Identifier': 'H008751', 'Index': 28, 'Title': 'Suriname', 'Description': '', 'MeasureGroupId': '2012657_1', 'DataType': 'Long', 'Unit': 'aantal', 'Decimals': 0, 'PresentationType': 'Absolute'}, {'Identifier': 'H008766', 'Index': 29, 'Title': 'Turkije', 'Description': '', 'MeasureGroupId': '2012657_1', 'DataType': 'Long', 'Unit': 'aantal', 'Decimals': 0, 'PresentationType': 'Absolute'}, {'Identifier': 'A008187', 'Index': 30, 'Title': 'Overig niet-westers', 'Description': 'Totaal niet-westers minus Marokko, (voormalige) Nederlandse Antillen en Aruba, Suriname en Turkije.', 'MeasureGroupId': '2012657_1', 'DataType': 'Long', 'Unit': 'aantal', 'Decimals': 0, 'PresentationType': 'Absolute'}, {'Identifier': 'M000173_1', 'Index': 32, 'Title': 'Geboorte totaal', 'Description': 'Het aantal levendgeborenen van 1 januari tot en met 31 december van het betreffende jaar. Levendgeborenen zijn kinderen die na geboorte enig teken van leven hebben vertoond, ongeacht de zwangerschapsduur.', 'MeasureGroupId': 'M000314', 'DataType': 'Long', 'Unit': 'aantal', 'Decimals': 0, 'PresentationType': 'Absolute'}, {'Identifier': 'M000173_2', 'Index': 33, 'Title': 'Geboorte relatief', 'Description': 'Het aantal levendgeborenen van 1 januari tot en met 31 december, per 1 000 inwoners op 1 januari van het betreffende jaar.\\r\\nHet relatieve aantal geboorten kan hoger uitvallen dan verwacht op basis van het inwonertal. Het relatieve cijfer betreft namelijk het aantal geboorten gedurende het jaar ten opzichte van het aantal inwoners op 1 januari. In nieuwbouwwijken kan het aantal inwoners sterk groeien in een jaar. Zo kunnen er in 1 jaar 10 kinderen geboren worden in een wijk waarin op 1 januari slechts 10 inwoners wonen, maar aan het eind van het jaar bijvoorbeeld 200 inwoners.', 'MeasureGroupId': 'M000314', 'DataType': 'Long', 'Unit': 'per 1 000 inwoners', 'Decimals': 0, 'PresentationType': 'Relative'}, {'Identifier': 'M000179_1', 'Index': 34, 'Title': 'Sterfte totaal', 'Description': 'Alle overledenen van 1 januari tot en met 31 december van het betreffende jaar waarbij een bevoegde arts een overlijdensakte heeft ondertekend.', 'MeasureGroupId': 'M000314', 'DataType': 'Long', 'Unit': 'aantal', 'Decimals': 0, 'PresentationType': 'Absolute'}, {'Identifier': 'M000179_2', 'Index': 35, 'Title': 'Sterfte relatief', 'Description': 'Het aantal overledenen van 1 januari tot en met 31 december, per 1 000 inwoners op 1 januari van het betreffende jaar.\\r\\nHet relatieve aantal overledenen kan hoger uitvallen dan verwacht op basis van het inwonertal. Het relatieve cijfer betreft namelijk het aantal overledenen gedurende het jaar ten opzichte van het aantal inwoners op 1 januari. In een buurt met een verpleeghuis kunnen op 1 januari 100 mensen wonen, maar door overlijdensgevallen komen er steeds nieuwe inwoners (bewoners van het verpleeghuis). Zo kan het aantal overlijdensgevallen ook 100 zijn, terwijl er inmiddels al vele mensen in die buurt (of dat verpleeghuis) hebben gewoond.', 'MeasureGroupId': 'M000314', 'DataType': 'Long', 'Unit': 'per 1 000 inwoners', 'Decimals': 0, 'PresentationType': 'Relative'}, {'Identifier': '1050010_2', 'Index': 37, 'Title': 'Huishoudens totaal', 'Description': 'Totaal particuliere huishoudens.', 'MeasureGroupId': '1050010_1', 'DataType': 'Long', 'Unit': 'aantal', 'Decimals': 0, 'PresentationType': 'Absolute'}, {'Identifier': '1050015', 'Index': 38, 'Title': 'Eenpersoonshuishoudens', 'Description': 'Een particulier huishouden bestaande uit één persoon.', 'MeasureGroupId': '1050010_1', 'DataType': 'Long', 'Unit': 'aantal', 'Decimals': 0, 'PresentationType': 'Absolute'}, {'Identifier': '1016040', 'Index': 39, 'Title': 'Huishoudens zonder kinderen', 'Description': 'Meerpersoonshuishoudens zonder kinderen bestaan uit niet-gehuwde paren zonder kinderen, echtparen zonder kinderen en overige huishoudens.', 'MeasureGroupId': '1050010_1', 'DataType': 'Long', 'Unit': 'aantal', 'Decimals': 0, 'PresentationType': 'Absolute'}, {'Identifier': '1016030', 'Index': 40, 'Title': 'Huishoudens met kinderen', 'Description': 'Meerpersoonshuishoudens met kinderen bestaan uit niet-gehuwde paren met kinderen, echtparen met kinderen en eenouderhuishoudens.', 'MeasureGroupId': '1050010_1', 'DataType': 'Long', 'Unit': 'aantal', 'Decimals': 0, 'PresentationType': 'Absolute'}, {'Identifier': 'M000114', 'Index': 41, 'Title': 'Gemiddelde huishoudensgrootte', 'Description': 'Dit gemiddelde is berekend als het aantal in particuliere huishoudens levende personen gedeeld door het aantal particuliere huishoudens.', 'MeasureGroupId': '1050010_1', 'DataType': 'Double', 'Unit': 'aantal', 'Decimals': 1, 'PresentationType': 'Absolute'}, {'Identifier': 'M000100', 'Index': 42, 'Title': 'Bevolkingsdichtheid', 'Description': 'Het (niet afgeronde) aantal inwoners per km² land is bepaald door het (niet afgeronde) aantal inwoners op 1 januari te delen door de (niet afgeronde) landoppervlakte. \\r\\nDe bevolkingsdichtheid is opgenomen indien er 10 of meer inwoners in de buurt voorkomen.\\r\\n\\r\\n', 'MeasureGroupId': 'M000352', 'DataType': 'Long', 'Unit': 'aantal inwoners per km²', 'Decimals': 0, 'PresentationType': 'Relative'}, {'Identifier': 'M000297', 'Index': 44, 'Title': 'Woningvoorraad', 'Description': 'Het totale aantal woningen op 1 januari van het desbetreffende jaar. Een woning is een verblijfsobject met minimaal een woonfunctie en eventueel één of meer andere gebruiksfuncties.', 'MeasureGroupId': 'M000296', 'DataType': 'Long', 'Unit': 'aantal', 'Decimals': 0, 'PresentationType': 'Absolute'}, {'Identifier': 'M003039', 'Index': 45, 'Title': 'Gemiddelde woningwaarde', 'Description': 'De gemiddelde waarde onroerende zaken van woonobjecten gebaseerd op de Wet Waardering Onroerende Zaken (WOZ-waarde).\\r\\nVoor de bepaling van de gemiddelde woningwaarde wordt alleen gebruik gemaakt van die WOZ-objecten omschreven als woningen dienend tot hoofdverblijf (WOZ-objectcode 10) en woningen met praktijkruimte (WOZ-objectcode 11) met een waarde groter dan nul euro.\\r\\n\\r\\nDe (voorlopig) gemiddelde woningwaarde wordt bepaald met de waardepeildatum van voorgaand jaar, bijv:\\r\\n- 2017: waardepeildatum 1 januari 2016\\r\\n\\r\\nWanneer de woningvoorraad kleiner is dan 20 woningen of het aantal WOZ-objecten kleiner is dan 50 wordt er geen WOZ-waarde opgenomen.\\r\\n\\r\\n', 'MeasureGroupId': 'M000296', 'DataType': 'Long', 'Unit': 'x 1 000 euro', 'Decimals': 0, 'PresentationType': 'Relative'}, {'Identifier': 'ZW10290', 'Index': 47, 'Title': 'Percentage eengezinswoning', 'Description': 'Peildatum: 1 januari van het desbetreffende jaar.\\r\\nHet aantal eengezinswoningen is vermeld als percentage van de totale woningvoorraad en wordt alleen vermeld bij minimaal 20 woningen.\\r\\nEengezinswoning: Elke woning die tevens een geheel pand vormt. Hieronder vallen vrijstaande woningen, aaneengebouwde woningen, zoals twee onder één kap gebouwde hele huizen, boerderijen met woningen en voorts alle rijenhuizen.\\r\\n', 'MeasureGroupId': 'T001132_1', 'DataType': 'Long', 'Unit': '%', 'Decimals': 0, 'PresentationType': 'Relative'}, {'Identifier': 'ZW10340', 'Index': 48, 'Title': 'Percentage meergezinswoning', 'Description': 'Peildatum: 1 januari van het desbetreffende jaar.\\r\\nHet aantal meergezinswoningen is vermeld als percentage van de totale woningvoorraad en wordt alleen vermeld bij minimaal 20 woningen.\\r\\nMeergezinswoning : Elke woning die samen met andere woonruimten c.q. bedrijfsruimten een geheel pand vormt. Hieronder vallen flats, galerij-, portiek-, beneden- en bovenwoningen, appartementen en woningen boven bedrijfsruimten, voor zover deze zijn voorzien van een buiten de bedrijfsruimte gelegen toegangsdeur.\\r\\n\\r\\n', 'MeasureGroupId': 'T001132_1', 'DataType': 'Long', 'Unit': '%', 'Decimals': 0, 'PresentationType': 'Relative'}, {'Identifier': 'A028725', 'Index': 50, 'Title': 'Percentage bewoond', 'Description': 'Peildatum: 1 januari van het desbetreffende jaar.\\r\\nHet aantal bewoonde woningen is vermeld als percentage van de totale woningvoorraad en wordt alleen vermeld bij minimaal 20 woningen.\\r\\nBewoonde woningen: Woningen waar op de peildatum 1 januari minimaal 1 persoon stond ingeschreven in de Basisregistratie Personen (BRP).\\r\\n', 'MeasureGroupId': 'T001235', 'DataType': 'Long', 'Unit': '%', 'Decimals': 0, 'PresentationType': 'Relative'}, {'Identifier': 'A028726', 'Index': 51, 'Title': 'Percentage onbewoond', 'Description': 'Peildatum: 1 januari van het desbetreffende jaar.\\r\\nHet aantal leegstaande woningen is vermeld als percentage van de totale woningvoorraad en wordt alleen vermeld bij minimaal 20 woningen.\\r\\nNiet-bewoonde woningen: Woningen waar op de peildatum 1 januari niemand stond ingeschreven in de Basisregistratie Personen (BRP).\\r\\n\\r\\n', 'MeasureGroupId': 'T001235', 'DataType': 'Long', 'Unit': '%', 'Decimals': 0, 'PresentationType': 'Relative'}, {'Identifier': '1014800_1', 'Index': 53, 'Title': 'Koopwoningen', 'Description': 'Woningen die eigendom zijn van de (toekomstige) bewoner(s) of in gebruik als tweede woning. \\r\\n\\r\\nPeildatum: 1 januari van het desbetreffende jaar.\\r\\nHet aantal is vermeld als percentage van het totaal aantal woningen en vermeld bij 20 woningen of meer per buurt en wanneer het aandeel woningen met eigendom onbekend 50 procent of minder bedroeg.\\r\\n\\r\\n', 'MeasureGroupId': 'T001132_2', 'DataType': 'Long', 'Unit': '%', 'Decimals': 0, 'PresentationType': 'Relative'}, {'Identifier': '1014850_2', 'Index': 55, 'Title': 'Huurwoningen totaal', 'Description': 'Peildatum: 1 januari van het desbetreffende jaar.\\r\\nHet aantal is vermeld als percentage van het totaal aantal woningen en vermeld bij 20 woningen of meer per buurt en wanneer het aandeel woningen met eigendom onbekend 50 procent of minder bedroeg.\\r\\n', 'MeasureGroupId': '1014850_1', 'DataType': 'Long', 'Unit': '%', 'Decimals': 0, 'PresentationType': 'Relative'}, {'Identifier': 'A047047', 'Index': 56, 'Title': 'In bezit woningcorporatie', 'Description': \"Huurwoningen in eigendom van 'toegelaten instellingen volkshuisvesting'. Het betreft het aantal huurwoningen waarvan is vastgesteld dat de eigenaar een toegelaten instelling is. Het betreft niet het aantal sociale huurwoningen, omdat er alleen is vastgesteld wie de eigenaar is en er niet is gekeken naar de hoogte van de huurprijs.\\r\\nToegelaten instellingen: woningbouwvereniging, woningstichting, woningcorporatie. \\r\\nSociale huurwoningen: woningen met een huur onder de liberalisatiegrens.\\r\\n\\r\\nPeildatum: 1 januari van het desbetreffende jaar.\\r\\nHet aantal is vermeld als percentage van het totaal aantal woningen en vermeld bij 20 woningen of meer per buurt en wanneer het aandeel woningen met eigendom onbekend 50 procent of minder bedroeg.\\r\\n\\r\\n\", 'MeasureGroupId': '1014850_1', 'DataType': 'Long', 'Unit': '%', 'Decimals': 0, 'PresentationType': 'Relative'}, {'Identifier': 'A047048', 'Index': 57, 'Title': 'In bezit overige verhuurders', 'Description': \"Een huurwoning in eigendom van onder andere bedrijven, particulieren en institutionele beleggers. Huurwoningen waarvan het eigendom wel kon worden vastgesteld maar de eigenaar niet vallen hier ook onder. \\r\\nBedrijven: alle instellingen met een bedrijfsmatig karakter zoals bv's en nv's, zelfstandige ondernemers, makelaars en vastgoedhandelsmaatschappijen.\\r\\nParticulieren: alle natuurlijke personen.\\r\\nInstitutionele beleggers: pensioenfondsen, beurs-, beleggings- en verzekeringsmaatschappijen.\\r\\n\\r\\nPeildatum: 1 januari van het desbetreffende jaar.\\r\\nHet aantal is vermeld als percentage van het totaal aantal woningen en vermeld bij 20 woningen of meer per buurt en wanneer het aandeel woningen met eigendom onbekend 50 procent of minder bedroeg.\\r\\n\\r\\n\", 'MeasureGroupId': '1014850_1', 'DataType': 'Long', 'Unit': '%', 'Decimals': 0, 'PresentationType': 'Relative'}, {'Identifier': 'A047051', 'Index': 58, 'Title': 'Eigendom onbekend', 'Description': 'Woningen waarvan het eigendom niet afgeleid kon worden op basis van diverse registraties zoals het WOZ-register, Personenregister en het woningbestand Kadaster. \\r\\n\\r\\nPeildatum: 1 januari van het desbetreffende jaar.\\r\\nHet aantal is vermeld als percentage van het totaal aantal woningen en vermeld bij 20 woningen of meer per buurt en wanneer het aandeel woningen met eigendom onbekend 50 procent of minder bedroeg.\\r\\n', 'MeasureGroupId': 'T001132_2', 'DataType': 'Long', 'Unit': '%', 'Decimals': 0, 'PresentationType': 'Relative'}, {'Identifier': 'ZW25808', 'Index': 60, 'Title': 'Bouwjaar voor 2000', 'Description': 'Peildatum: 1 januari van het desbetreffende jaar.\\r\\nHet aantal woningen met bouwjaar vóór 2000, uitgedrukt in hele procenten van het totaal aantal woningen. Het percentage is vermeld bij 20 woningen of meer per buurt.\\r\\n', 'MeasureGroupId': 'T001018', 'DataType': 'Long', 'Unit': '%', 'Decimals': 0, 'PresentationType': 'Relative'}, {'Identifier': 'ZW25807', 'Index': 61, 'Title': 'Bouwjaar vanaf 2000', 'Description': 'Peildatum: 1 januari van het desbetreffende jaar.\\r\\nHet aantal woningen met bouwjaar 2000 of later, uitgedrukt in hele procenten van het totaal aantal woningen. Het percentage is vermeld bij 20 woningen of meer per buurt.\\r\\n', 'MeasureGroupId': 'T001018', 'DataType': 'Long', 'Unit': '%', 'Decimals': 0, 'PresentationType': 'Relative'}, {'Identifier': 'M000221_2', 'Index': 64, 'Title': 'Gemiddeld elektriciteitsverbruik totaal', 'Description': 'Het gemiddeld elektriciteitsverbruik voor alle woningtypen samen.', 'MeasureGroupId': 'M000221_1', 'DataType': 'Long', 'Unit': 'kWh', 'Decimals': 0, 'PresentationType': 'Absolute'}, {'Identifier': 'ZW25810_1', 'Index': 66, 'Title': 'Appartement', 'Description': 'Een geheel van bij elkaar horende vertrekken als afzonderlijke woongelegenheid binnen een grotere woning waarbij de opdeling van het gebouw heeft plaatsgevonden volgens het appartementsrecht. Een bovenwoning of flat die geen appartement is wordt niet meegenomen bij het berekenen van de verbruikscijfers.', 'MeasureGroupId': 'T001100_1', 'DataType': 'Long', 'Unit': 'kWh', 'Decimals': 0, 'PresentationType': 'Absolute'}, {'Identifier': 'ZW25805_1', 'Index': 67, 'Title': 'Tussenwoning', 'Description': '', 'MeasureGroupId': 'T001100_1', 'DataType': 'Long', 'Unit': 'kWh', 'Decimals': 0, 'PresentationType': 'Absolute'}, {'Identifier': 'ZW25806_1', 'Index': 68, 'Title': 'Hoekwoning', 'Description': '', 'MeasureGroupId': 'T001100_1', 'DataType': 'Long', 'Unit': 'kWh', 'Decimals': 0, 'PresentationType': 'Absolute'}, {'Identifier': 'ZW10300_1', 'Index': 69, 'Title': 'Twee-onder-één-kap-woning', 'Description': '', 'MeasureGroupId': 'T001100_1', 'DataType': 'Long', 'Unit': 'kWh', 'Decimals': 0, 'PresentationType': 'Absolute'}, {'Identifier': 'ZW10320_1', 'Index': 70, 'Title': 'Vrijstaande woning', 'Description': '', 'MeasureGroupId': 'T001100_1', 'DataType': 'Long', 'Unit': 'kWh', 'Decimals': 0, 'PresentationType': 'Absolute'}, {'Identifier': '1014850_3', 'Index': 72, 'Title': 'Huurwoning', 'Description': \"Woningen in eigendom van 'toegelaten instellingen' (woningcorporaties), van institutionele beleggers of van particulieren die de woning verhuren aan de bewoner.\", 'MeasureGroupId': 'T001132_3', 'DataType': 'Long', 'Unit': 'kWh', 'Decimals': 0, 'PresentationType': 'Absolute'}, {'Identifier': '1014800_2', 'Index': 73, 'Title': 'Eigen woning', 'Description': 'Woningen die eigendom zijn of worden van de (toekomstige) bewoners.', 'MeasureGroupId': 'T001132_3', 'DataType': 'Long', 'Unit': 'kWh', 'Decimals': 0, 'PresentationType': 'Absolute'}, {'Identifier': 'M000219_2', 'Index': 75, 'Title': 'Gemiddeld aardgasverbruik totaal', 'Description': 'Het gemiddeld aardgasverbruik voor alle woningtypen samen.', 'MeasureGroupId': 'M000219_1', 'DataType': 'Long', 'Unit': 'm³', 'Decimals': 0, 'PresentationType': 'Absolute'}, {'Identifier': 'ZW25810_2', 'Index': 77, 'Title': 'Appartement', 'Description': 'Een geheel van bij elkaar horende vertrekken als afzonderlijke woongelegenheid binnen een grotere woning waarbij de opdeling van het gebouw heeft plaatsgevonden volgens het appartementsrecht. Een bovenwoning of flat die geen appartement is wordt niet meegenomen bij het berekenen van de verbruikscijfers.', 'MeasureGroupId': 'T001100_2', 'DataType': 'Long', 'Unit': 'm³', 'Decimals': 0, 'PresentationType': 'Absolute'}, {'Identifier': 'ZW25805_2', 'Index': 78, 'Title': 'Tussenwoning', 'Description': '', 'MeasureGroupId': 'T001100_2', 'DataType': 'Long', 'Unit': 'm³', 'Decimals': 0, 'PresentationType': 'Absolute'}, {'Identifier': 'ZW25806_2', 'Index': 79, 'Title': 'Hoekwoning', 'Description': '', 'MeasureGroupId': 'T001100_2', 'DataType': 'Long', 'Unit': 'm³', 'Decimals': 0, 'PresentationType': 'Absolute'}, {'Identifier': 'ZW10300_2', 'Index': 80, 'Title': 'Twee-onder-één-kap-woning', 'Description': '', 'MeasureGroupId': 'T001100_2', 'DataType': 'Long', 'Unit': 'm³', 'Decimals': 0, 'PresentationType': 'Absolute'}, {'Identifier': 'ZW10320_2', 'Index': 81, 'Title': 'Vrijstaande woning', 'Description': '', 'MeasureGroupId': 'T001100_2', 'DataType': 'Long', 'Unit': 'm³', 'Decimals': 0, 'PresentationType': 'Absolute'}, {'Identifier': '1014850_4', 'Index': 83, 'Title': 'Huurwoning', 'Description': \"Woningen in eigendom van 'toegelaten instellingen' (woningcorporaties), van institutionele beleggers of van particulieren die de woning verhuren aan de bewoner.\", 'MeasureGroupId': 'T001132_4', 'DataType': 'Long', 'Unit': 'm³', 'Decimals': 0, 'PresentationType': 'Absolute'}, {'Identifier': '1014800_3', 'Index': 84, 'Title': 'Eigen woning', 'Description': 'Woningen die eigendom zijn of worden van de (toekomstige) bewoners.', 'MeasureGroupId': 'T001132_4', 'DataType': 'Long', 'Unit': 'm³', 'Decimals': 0, 'PresentationType': 'Absolute'}, {'Identifier': 'M000369', 'Index': 85, 'Title': 'Percentage woningen met stadsverwarming', 'Description': 'Het percentage woningen dat is aangesloten op stadsverwarming. \\r\\n\\r\\nStadsverwarming is een verwarmingssysteem waarbij de woningen in een wijk worden verwarmd via een ondergronds netwerk van warmwaterleidingen. In veel gevallen maakt stadsverwarming gebruik van restwarmte van bijvoorbeeld elektriciteitscentrales. Het aardgasverbruik van deze woningen is in veel gevallen zeer laag of zelfs nul. De hoeveelheid warmte die door aangesloten woningen in een jaar wordt afgenomen van de stadsverwarming is niet beschikbaar. Het percentage is vermeld bij tien of meer (bewoonde) woningen. Voor de gemeentes is een percentage van minder dan vijf of groter dan 95 afgerond op vijftallen.\\r\\n', 'MeasureGroupId': 'M000219_1', 'DataType': 'Double', 'Unit': '%', 'Decimals': 1, 'PresentationType': 'Relative'}, {'Identifier': 'M000232', 'Index': 88, 'Title': 'Aantal inkomensontvangers\\xa0\\xa0', 'Description': 'Personen met persoonlijk inkomen in particuliere huishoudens. \\r\\nDe cijfers zijn afgerond op honderdtallen.\\r\\n', 'MeasureGroupId': 'M000230', 'DataType': 'Long', 'Unit': 'aantal', 'Decimals': 0, 'PresentationType': 'Absolute'}, {'Identifier': 'M000223', 'Index': 89, 'Title': 'Gemiddeld inkomen per inkomensontvanger\\xa0', 'Description': 'Het rekenkundig gemiddeld persoonlijk inkomen per persoon op basis van personen met persoonlijk inkomen die deel uitmaken van particuliere huishoudens.\\r\\nDe waarde is vermeld bij minimaal 100 personen met persoonlijk inkomen in particuliere huishoudens per regio.', 'MeasureGroupId': 'M000230', 'DataType': 'Double', 'Unit': 'x 1 000 euro', 'Decimals': 1, 'PresentationType': 'Relative'}, {'Identifier': 'M000224', 'Index': 90, 'Title': 'Gemiddeld inkomen per inwoner\\xa0', 'Description': 'Het rekenkundig gemiddeld persoonlijk inkomen per persoon op basis van de totale bevolking in particuliere huishoudens.\\r\\nDe waarde is vermeld bij minimaal 100 personen in particuliere huishoudens per regio.', 'MeasureGroupId': 'M000230', 'DataType': 'Double', 'Unit': 'x 1 000 euro', 'Decimals': 1, 'PresentationType': 'Relative'}, {'Identifier': 'D000187', 'Index': 91, 'Title': '40% personen met laagste inkomen', 'Description': 'Aandeel personen in particuliere huishoudens die behoren tot de landelijke 40% personen met het laagste persoonlijk inkomen.\\r\\nPersonen met persoonlijk inkomen in particuliere huishoudens zijn ingedeeld naar hoogte van het persoonlijk inkomen. \\r\\nDe indeling vindt plaats nadat alle personen landelijk zijn gerangschikt van laag naar hoog persoonlijk inkomen. Tot de laagste 40-procent-groep worden de veertig procent personen met het laagste persoonlijk inkomen gerekend.\\r\\nHet persoonlijk inkomen omvat inkomen uit arbeid, inkomen uit eigen onderneming, uitkering inkomensverzekeringen en uitkering sociale voorzieningen (met uitzondering van kinderbijslag).\\r\\nHet percentage is vermeld bij minimaal 100 personen met persoonlijk inkomen in particuliere huishoudens per regio.\\r\\n\\r\\n', 'MeasureGroupId': 'M000230', 'DataType': 'Double', 'Unit': '%', 'Decimals': 1, 'PresentationType': 'Relative'}, {'Identifier': 'D000185', 'Index': 92, 'Title': '20% personen met hoogste inkomen', 'Description': 'Aandeel personen in particuliere huishoudens die behoren tot de landelijke 20% personen met het hoogste persoonlijk inkomen.\\r\\nPersonen met persoonlijk inkomen in particuliere huishoudens zijn ingedeeld naar hoogte van het persoonlijk inkomen. \\r\\nDe indeling vindt plaats nadat alle personen landelijk zijn gerangschikt van laag naar hoog persoonlijk inkomen. Tot de hoogste 20-procent-groep worden de twintig procent personen met het hoogste persoonlijk inkomen gerekend.\\r\\nHet persoonlijk inkomen omvat inkomen uit arbeid, inkomen uit eigen onderneming, uitkering inkomensverzekeringen en uitkering sociale voorzieningen (met uitzondering van kinderbijslag).\\r\\nHet percentage is vermeld bij minimaal 100 personen met persoonlijk inkomen in particuliere huishoudens per regio.\\r\\n', 'MeasureGroupId': 'M000230', 'DataType': 'Double', 'Unit': '%', 'Decimals': 1, 'PresentationType': 'Relative'}, {'Identifier': 'M000302', 'Index': 93, 'Title': 'Actieven 15-75 jaar', 'Description': 'Het aandeel personen van 15 tot 75 jaar in particuliere huishuishoudens met als persoonlijke voornaamste inkomensbron inkomen uit arbeid of inkomen uit eigen onderneming, uitgedrukt in hele procenten van het totale aantal personen van 15 tot 75 jaar in particuliere huishoudens.\\r\\nHet percentage is vermeld bij minimaal 100 personen van 15 tot 75 jaar in particuliere huishoudens.\\r\\n\\r\\n', 'MeasureGroupId': 'M000230', 'DataType': 'Double', 'Unit': '%', 'Decimals': 1, 'PresentationType': 'Relative'}, {'Identifier': 'D000186', 'Index': 95, 'Title': '40% huishoudens met laagste inkomen', 'Description': 'Aandeel particuliere huishoudens die behoren tot de landelijke 40% huishoudens met het laagste huishoudensinkomen.\\r\\nParticuliere huishoudens zijn ingedeeld naar hoogte van het besteedbaar huishoudensinkomen. \\r\\nDe indeling vindt plaats nadat huishoudens landelijk zijn gerangschikt van laag naar hoog besteedbaar huishoudensinkomen. Tot de laagste 40-procent-groep worden de veertig procent huishoudens met het laagste besteedbaar inkomen gerekend.\\r\\nHet percentage is vermeld bij minimaal 100 particuliere huishoudens per regio. \\r\\n\\r\\nHet besteedbaar inkomen van particuliere huishoudens bestaat uit het bruto-inkomen verminderd met: \\r\\n- betaalde inkomensoverdrachten, zoals alimentatie van de ex-echtgeno(o)t(e);\\r\\n- premies inkomensverzekeringen zoals premies betaald voor sociale verzekeringen, volksverzekeringen en particuliere verzekeringen in verband met werkloosheid, arbeidsongeschiktheid en ouderdom en nabestaanden;\\r\\n- premies ziektekostenverzekeringen;\\r\\n- belastingen op inkomen en vermogen.\\r\\n\\r\\n', 'MeasureGroupId': 'M000229', 'DataType': 'Double', 'Unit': '%', 'Decimals': 1, 'PresentationType': 'Relative'}, {'Identifier': 'D000184', 'Index': 96, 'Title': '20% huishoudens met hoogste inkomen', 'Description': 'Aandeel particuliere huishoudens die behoren tot de landelijke 20% huishoudens met het hoogste huishoudensinkomen.\\r\\nParticuliere huishoudens zijn ingedeeld naar hoogte van het besteedbaar huishoudensinkomen. \\r\\nDe indeling vindt plaats nadat huishoudens landelijk zijn gerangschikt van laag naar hoog besteedbaar huishoudensinkomen. Tot de hoogste 20-procent-groep worden de twintig procent huishoudens met het hoogste besteedbaar inkomen gerekend.\\r\\nHet percentage is vermeld bij minimaal 100 particuliere huishoudens per regio. \\r\\n\\r\\nHet besteedbaar inkomen van particuliere huishoudens bestaat uit het bruto-inkomen verminderd met: \\r\\n- betaalde inkomensoverdrachten, zoals alimentatie van de ex-echtgeno(o)t(e);\\r\\n- premies inkomensverzekeringen zoals premies betaald voor sociale verzekeringen, volksverzekeringen en particuliere verzekeringen in verband met werkloosheid, arbeidsongeschiktheid en ouderdom en nabestaanden;\\r\\n- premies ziektekostenverzekeringen;\\r\\n- belastingen op inkomen en vermogen.\\r\\n', 'MeasureGroupId': 'M000229', 'DataType': 'Double', 'Unit': '%', 'Decimals': 1, 'PresentationType': 'Relative'}, {'Identifier': 'D000227', 'Index': 97, 'Title': 'Huishoudens met een laag inkomen', 'Description': 'Bij de bepaling van laag inkomen is van de particuliere huishoudens een aantal groepen niet meegenomen. Dit betreft enerzijds studentenhuishoudens en anderzijds huishoudens met een onvolledig jaarinkomen. De doelpopulatie bestaat dan ook uit particuliere huishoudens waarvan de hoofdkostwinner (of eventuele partner) het gehele jaar inkomen heeft en niet afhankelijk is van studiefinanciering.\\r\\n\\r\\nOm te bepalen of een huishouden een laag inkomen heeft, wordt het inkomen van een huishouden omgerekend tot het gestandaardiseerde inkomen (exclusief eventueel ontvangen huurtoeslag). Vervolgens wordt dit gestandaardiseerde inkomen (met het prijsindexcijfer) herleid naar het prijspeil in 2000. Het resulterende gestandaardiseerde en gedefleerde inkomen is laag wanneer het minder is dan 9249 euro. Deze grens komt ongeveer overeen met de koopkracht van een bijstandsuitkering voor een alleenstaande in 1979 toen deze op zijn hoogst was. \\r\\nHet percentage is vermeld bij minimaal 100 particuliere huishoudens behorende tot de doelpopulatie per regio.\\r\\n', 'MeasureGroupId': 'M000229', 'DataType': 'Double', 'Unit': '%', 'Decimals': 1, 'PresentationType': 'Relative'}, {'Identifier': 'M000226', 'Index': 98, 'Title': 'Huish. onder of rond sociaal minimum', 'Description': 'Huishoudens onder of rond het sociaal minimum.\\r\\nBij de bepaling van het sociaal minimum is van de particuliere huishoudens een aantal groepen niet meegenomen. Dit betreft enerzijds studentenhuishoudens en anderzijds huishoudens met een onvolledig jaarinkomen. De doelpopulatie bestaat dan ook uit particuliere huishoudens waarvan de hoofdkostwinner (of eventuele partner) het gehele jaar inkomen heeft en niet afhankelijk is van studiefinanciering.\\r\\n\\r\\nHet sociaal minimum is het wettelijk bestaansminimum zoals dat in de politieke besluitvorming is vastgesteld. Om te kunnen beoordelen hoe het inkomen zich verhoudt tot het minimum, is aan de hand van de regelgeving vastgesteld welke norm voor het desbetreffende huishouden van toepassing is. De norm voor een (echt)paar met uitsluitend minderjarige kinderen is bijvoorbeeld gelijkgesteld aan de bijstandsuitkering van een echtpaar, aangevuld met de (leeftijdsafhankelijke) kinderbijslag. Bij 65-plussers is het bedrag aan AOW-pensioen als norm gekozen.\\r\\nHet waargenomen inkomen van huishoudens, die uitsluitend op een bijstandsuitkering zijn aangewezen, wijkt in veel gevallen in geringe mate af van de vastgestelde normbedragen. Zouden de normbedragen als inkomensgrens worden gehanteerd, dan komt een deel van deze huishoudens met hun inkomen net boven het sociale minimum uit. Daarom is niet 100%, maar 101% van het sociaal minimum als inkomensgrens gehanteerd.\\r\\nHet percentage is vermeld bij minimaal 100 particuliere huishoudens behorende tot de doelpopulatie per regio.\\r\\n\\r\\n', 'MeasureGroupId': 'M000229', 'DataType': 'Double', 'Unit': '%', 'Decimals': 1, 'PresentationType': 'Relative'}, {'Identifier': 'D006842', 'Index': 100, 'Title': 'Personen per soort uitkering; Bijstand', 'Description': 'Personen die een bijstandsuitkering op grond van de Participatiewet ontvangen.\\r\\nPersonen met een uitkering die verblijven in een instelling, de elders verzorgden, zijn niet inbegrepen. Ook dak- en thuislozen met bijstand zijn niet inbegrepen. \\r\\n\\r\\nParticipatiewet\\r\\nDe Participatiewet vervangt sinds 1 januari 2015 de Wet werk en bijstand (WWB), de Wet Sociale Werkvoorziening (WsW) en een groot deel van de Wet werk en arbeidsondersteuning jonggehandicapten (wet Wajong).De Participatiewet komt vrijwel overeen met de WWB, maar nog sterker wordt de nadruk gelegd op participatie aan het arbeidsproces.\\r\\nDe wet regelt in Nederland de ondersteuning bij arbeidsinschakeling en het verlenen van bijstand door gemeenten voor mensen die weinig of geen ander inkomen (waaronder andere uitkeringen) hebben en ook weinig of geen vermogen. Gemeenten voeren de wet uit en bepalen, binnen de wettelijke grenzen, hun eigen beleid.\\r\\n\\r\\nOp het gebied van sociale zekerheid vinden er regelmatig revisies plaats. In deze KWB-tabel zijn de cijfers van 30 oktober 2020 opgenomen, bij latere revisies zullen deze niet meer aangepast worden. Later gereviseerde cijfers zijn te vinden via het thema sociale zekerheid in StatLine.  \\r\\n', 'MeasureGroupId': 'M000267', 'DataType': 'Long', 'Unit': 'aantal', 'Decimals': 0, 'PresentationType': 'Absolute'}, {'Identifier': 'D006837', 'Index': 101, 'Title': 'Personen per soort uitkering; AO', 'Description': \"Personen die een arbeidsongeschiktheidsuitkering ontvangen op grond van de Wet op de arbeidsongeschiktheidsverzekering (WAO), de Wet arbeidsongeschiktheidsverzekering zelfstandigen (WAZ), Wet werk en arbeidsondersteuning jonggehandicapten (wet Wajong) en de Wet werk en Inkomen naar arbeidsvermogen (WIA).\\r\\n\\r\\nWet op de arbeidsongeschiktheidsverzekering (WAO)\\r\\nWet die als doel heeft om personen in loondienst te verzekeren van een loonvervangende uitkering bij langdurige arbeidsongeschiktheid. De WAO is met ingang van 29 december 2005 vervangen door de Wet werk en inkomen naar arbeidsvermogen (WIA), maar blijft bestaan voor mensen die al een WAO-uitkering hadden of binnen 5 jaar na het beëindigen van de uitkering opnieuw arbeidsongeschikt worden door dezelfde oorzaak.\\r\\n\\r\\nWet arbeidsongeschiktheidsverzekering zelfstandigen (WAZ)\\r\\nEen verplichte verzekering voor zelfstandigen, beroepsbeoefenaren, directeuren-grootaandeelhouders en meewerkende echtgenoten tegen de financiële gevolgen van langdurige arbeidsongeschiktheid. \\r\\nDe WAZ is met ingang van 1 augustus 2004 geblokkeerd, maar blijft bestaan voor mensen die al een WAZ-uitkering hadden.\\r\\n\\r\\nWet werk en arbeidsondersteuning jonggehandicapten (wet Wajong)\\r\\nWettelijke voorziening in de financiële gevolgen van langdurige arbeidsongeschiktheid van mensen die geen aanspraak kunnen maken op de WAO/WIA omdat er geen arbeidsverleden is opgebouwd. \\r\\nDit zijn mensen die arbeidsongeschikt zijn voor de dag dat zij 17 jaar worden of na hun 17e jaar arbeidsongeschikt worden en een opleiding of studie volgen.\\r\\n\\r\\nMet ingang van 1 januari 2010 is de Wet werk en arbeidsondersteuning jonggehandicapten (Wet Wajong) in werking getreden, ter vervanging van de oude Wajong. \\r\\nIn tegenstelling tot de 'oude' Wajong hebben jongeren met een ziekte of handicap in de eerste plaats recht op hulp bij het vinden en houden van werk. Daaraan gekoppeld kunnen ze een inkomensondersteuning krijgen. De 'oude' Wajong blijft gelden voor jongeren die voor 1 januari 2010 een uitkering hebben aangevraagd.\\r\\n\\r\\nWet werk en inkomen naar arbeidsvermogen (WIA)\\r\\nDe wet geeft werknemers die na een wachttijd van twee jaar nog minstens 35 procent arbeidsongeschikt zijn, recht op een uitkering.\\r\\nDe wet is zo opgezet dat een persoon gestimuleerd wordt om naar vermogen te werken.\\r\\nDe WIA kent twee regelingen: de regeling inkomensvoorziening volledig arbeidsongeschikten (IVA) en de regeling werkhervatting gedeeltelijk arbeidsgeschikten (WGA).\\r\\nDe IVA regelt een loonvervangende uitkering voor werknemers die volledig en duurzaam arbeidsongeschikt zijn.\\r\\nDe WGA regelt een aanvulling op het met arbeid verdiende inkomen of een minimumuitkering als men niet of onvoldoende werkt.\\r\\n\\r\\nOp het gebied van sociale zekerheid vinden er regelmatig revisies plaats. In deze KWB-tabel zijn de cijfers van 30 oktober 2020 opgenomen, bij latere revisies zullen deze niet meer aangepast worden. Later gereviseerde cijfers zijn te vinden via het thema sociale zekerheid in StatLine.  \\r\\n\", 'MeasureGroupId': 'M000267', 'DataType': 'Long', 'Unit': 'aantal', 'Decimals': 0, 'PresentationType': 'Absolute'}, {'Identifier': 'D001827', 'Index': 102, 'Title': 'Personen per soort uitkering; WW', 'Description': 'Personen die een uitkering ontvangen op grond van de Werkloosheidswet (WW).\\r\\n\\r\\nWerkloosheidswet (WW)\\r\\nDe wet heeft tot doel werknemers te verzekeren tegen de financiële gevolgen van werkloosheid. \\r\\nDe wet voorziet in een uitkering die gerelateerd is aan het laatstverdiende inkomen uit dienstbetrekking. De duur van de uitkering is afhankelijk van het arbeidsverleden van de verzekerde. Het Uitvoeringsinstituut Werknemersverzekeringen (UWV) beoordeelt of men voor een WW-uitkering in aanmerking komt.\\r\\n\\r\\nOp het gebied van sociale zekerheid vinden er regelmatig revisies plaats. In deze KWB-tabel zijn de cijfers van 30 oktober 2020 opgenomen, bij latere revisies zullen deze niet meer aangepast worden. Later gereviseerde cijfers zijn te vinden via het thema sociale zekerheid in StatLine.  \\r\\n', 'MeasureGroupId': 'M000267', 'DataType': 'Long', 'Unit': 'aantal', 'Decimals': 0, 'PresentationType': 'Absolute'}, {'Identifier': 'D000193', 'Index': 103, 'Title': 'Personen per soort uitkering; AOW', 'Description': 'Personen die een basispensioen van de Rijksoverheid ontvangen op grond van de Algemene Ouderdomswet (AOW).\\r\\n\\r\\nAlgemene Ouderdomswet (AOW)\\r\\nDe AOW is een algemene, de gehele bevolking omvattende, verplichte verzekering die personen vanaf de AOW-gerechtigde leeftijd een inkomen garandeert. In het Nederlandse sociale zekerheidsstelsel is dit een volksverzekering. \\r\\nIn principe is iedereen die nog niet de AOW-gerechtige leeftijd heeft bereikt en in Nederland woont, verzekerd voor de AOW. \\r\\nOok degenen die niet in Nederland wonen, maar in Nederland in dienstbetrekking arbeid verrichten waarover loonbelasting wordt betaald, zijn verzekerd. \\r\\nVoor perioden die men in het buitenland woont, kan men zich verzekeren tegen verlies van aanspraak op een AOW-uitkering. \\r\\nEen uitkering kan, binnen het kader van de wet Beperking export uitkeringen (wet BEU), naar het buitenland worden overgemaakt.\\r\\n\\r\\nAOW-gerechtigde leeftijd (AOW-leeftijd) \\r\\nDe AOW-leeftijd is de leeftijd waarop het AOW-pensioen ingaat. De AOW-leeftijd is tot en met 2021 als volgt:\\r\\n\\r\\nTot 2013: 65 jaar\\r\\n2013: 65 jaar en 1 maand\\r\\n2014: 65 jaar en 2 maanden\\r\\n2015: 65 jaar en 3 maanden\\r\\n2016: 65 jaar en 6 maanden\\r\\n2017: 65 jaar en 9 maanden\\r\\n2018: 66 jaar \\r\\n2019-2021: 66 jaar en 4 maanden. \\r\\n\\r\\nNa 2021, tussen 2022 en 2024, kan de AOW-leeftijd geleidelijk oplopen naar 67 jaar. Na 2024 wordt beoogd de AOW-leeftijd langzamer te laten stijgen dan de levensverwachting. Dit betekent dat elk jaar levenswinst wordt vertaald in gemiddeld acht maanden langer doorwerken en gemiddeld vier maanden langer AOW-pensioen.\\r\\n\\r\\nOp het gebied van sociale zekerheid vinden er regelmatig revisies plaats. In deze KWB-tabel zijn de cijfers van 30 oktober 2020 opgenomen, bij latere revisies zullen deze niet meer aangepast worden. Later gereviseerde cijfers zijn te vinden via het thema sociale zekerheid in StatLine.  \\r\\n\\r\\n', 'MeasureGroupId': 'M000267', 'DataType': 'Long', 'Unit': 'aantal', 'Decimals': 0, 'PresentationType': 'Absolute'}, {'Identifier': 'M000200_2', 'Index': 105, 'Title': 'Bedrijfsvestigingen totaal', 'Description': 'Het betreft voorlopige cijfers.', 'MeasureGroupId': 'M000200_1', 'DataType': 'Long', 'Unit': 'aantal', 'Decimals': 0, 'PresentationType': 'Absolute'}, {'Identifier': '301000', 'Index': 107, 'Title': 'A Landbouw, bosbouw en visserij', 'Description': 'Het betreft voorlopige cijfers.', 'MeasureGroupId': 'M000200_3', 'DataType': 'Long', 'Unit': 'aantal', 'Decimals': 0, 'PresentationType': 'Absolute'}, {'Identifier': '300003', 'Index': 108, 'Title': 'B-F Nijverheid en energie', 'Description': 'Het betreft voorlopige cijfers.', 'MeasureGroupId': 'M000200_3', 'DataType': 'Long', 'Unit': 'aantal', 'Decimals': 0, 'PresentationType': 'Absolute'}, {'Identifier': '300005', 'Index': 109, 'Title': 'G+I Handel en horeca', 'Description': 'Het betreft voorlopige cijfers.', 'MeasureGroupId': 'M000200_3', 'DataType': 'Long', 'Unit': 'aantal', 'Decimals': 0, 'PresentationType': 'Absolute'}, {'Identifier': '383105', 'Index': 110, 'Title': 'H+J Vervoer, informatie en communicatie', 'Description': 'Het betreft voorlopige cijfers.', 'MeasureGroupId': 'M000200_3', 'DataType': 'Long', 'Unit': 'aantal', 'Decimals': 0, 'PresentationType': 'Absolute'}, {'Identifier': '300009', 'Index': 111, 'Title': 'K-L Financiële diensten, onroerend goed', 'Description': 'Het betreft voorlopige cijfers.', 'MeasureGroupId': 'M000200_3', 'DataType': 'Long', 'Unit': 'aantal', 'Decimals': 0, 'PresentationType': 'Absolute'}, {'Identifier': '300010', 'Index': 112, 'Title': 'M-N Zakelijke dienstverlening', 'Description': 'Het betreft voorlopige cijfers.', 'MeasureGroupId': 'M000200_3', 'DataType': 'Long', 'Unit': 'aantal', 'Decimals': 0, 'PresentationType': 'Absolute'}, {'Identifier': '300014', 'Index': 113, 'Title': 'R-U Cultuur, recreatie, overige diensten', 'Description': 'Het betreft voorlopige cijfers.', 'MeasureGroupId': 'M000200_3', 'DataType': 'Long', 'Unit': 'aantal', 'Decimals': 0, 'PresentationType': 'Absolute'}, {'Identifier': 'A018943_2', 'Index': 116, 'Title': \"Personenauto's totaal\", 'Description': \"Personenauto\\r\\nMotorvoertuig voor personenvervoer over de weg, exclusief brom- en motorfietsen, met maximaal negen zitplaatsen (met inbegrip van de bestuurdersplaats).\\r\\n\\r\\nHieronder vallen personenauto's, bestelwagens ontworpen voor en voornamelijk gebruikt voor het vervoer van reizigers, taxi's, huurauto's, ziekenwagens en campers. Lichte wegvoertuigen voor goederenvervoer over de weg, touringcars, autobussen en minibussen vallen hier niet onder.\\r\\nHet begrip personenauto omvat ook taxi's en huurauto's met minder dan tien zitplaatsen. Vanaf 1 mei 2009 worden campers gekentekend als personenauto of als bus afhankelijk van het aantal zitplaatsen. Vóór die datum zijn campers geregistreerd als speciale voertuigen.\\r\\n\\r\\n\", 'MeasureGroupId': 'A018943_1', 'DataType': 'Long', 'Unit': 'aantal', 'Decimals': 0, 'PresentationType': 'Absolute'}, {'Identifier': '40001', 'Index': 118, 'Title': \"Personenauto's; jonger dan 6 jaar\", 'Description': \"Het aantal personenauto's jonger dan 6 jaar. Deze leeftijd is afgeleid van het bouwjaar van het voertuig.\", 'MeasureGroupId': 'A018943_3', 'DataType': 'Long', 'Unit': 'aantal', 'Decimals': 0, 'PresentationType': 'Absolute'}, {'Identifier': '72003', 'Index': 119, 'Title': \"Personenauto's; 6 jaar en ouder\", 'Description': \"Het aantal personenauto's van 6 jaar en ouder. Deze leeftijd is afgeleid van het bouwjaar van het voertuig.\", 'MeasureGroupId': 'A018943_3', 'DataType': 'Long', 'Unit': 'aantal', 'Decimals': 0, 'PresentationType': 'Absolute'}, {'Identifier': 'A019276', 'Index': 121, 'Title': \"Personenauto's; brandstof benzine\", 'Description': \"Het aantal personenauto's rijdend op benzine.\", 'MeasureGroupId': 'A018943_4', 'DataType': 'Long', 'Unit': 'aantal', 'Decimals': 0, 'PresentationType': 'Absolute'}, {'Identifier': 'D001045', 'Index': 122, 'Title': \"Personenauto's; overige brandstof\", 'Description': \"Het aantal personenauto's met overige brandstof. Hieronder vallen: diesel, LPG, elektriciteit (incl. Hybride), waterstof, alcohol, LNG en CNG.\", 'MeasureGroupId': 'A018943_4', 'DataType': 'Long', 'Unit': 'aantal', 'Decimals': 0, 'PresentationType': 'Absolute'}, {'Identifier': 'M000368', 'Index': 123, 'Title': \"Personenauto's per huishouden\", 'Description': \"Het aantal personenauto's per (particulier) huishouden op 1 januari. De personenauto's worden regionaal ingedeeld met behulp van de kentekenregistratie. Personenauto's die geregistreerd staan op het adres van het lease- of verhuurbedrijf vertekenen daarom de autodichtheid per huishouden.\\r\\nHet aantal personenauto's per huishouden is vermeld bij minimaal 50 huishoudens en bij een waarde van maximaal 2,5 personenauto's per huishouden.\", 'MeasureGroupId': 'A018943_1', 'DataType': 'Double', 'Unit': 'per huishouden', 'Decimals': 1, 'PresentationType': 'Absolute'}, {'Identifier': 'A018943_5', 'Index': 124, 'Title': \"Personenauto's naar oppervlakte\", 'Description': \"Het aantal personenauto's per km² land op 1 januari. De personenauto's worden regionaal ingedeeld met behulp van de kentekenregistratie. Personenauto's die geregistreerd staan op het adres van het lease- of verhuurbedrijf vertekenen daarom de autodichtheid per oppervlakte.\\r\\nHet aantal personenauto's naar oppervlakte is vermeld als ook het aantal personenauto's per huishouden is gepubliceerd. Dat is bij minimaal 50 huishoudens en bij een waarde van maximaal 2,5 personenauto's per huishouden.\", 'MeasureGroupId': 'A018943_1', 'DataType': 'Long', 'Unit': 'per km²', 'Decimals': 0, 'PresentationType': 'Relative'}, {'Identifier': 'A018944', 'Index': 125, 'Title': 'Motorfietsen', 'Description': 'Motorfiets\\r\\nVoertuig voor het wegverkeer op twee, drie of vier wielen met een onbeladen gewicht van maximaal 400 kg. Dergelijke motorvoertuigen met een cilinderinhoud van meer dan 50 cm³ vallen hieronder, alsook motorvoertuigen met een cilinderinhoud van minder dan 50 cm³ die niet aan de definitie van bromfiets beantwoorden.\\r\\n\\r\\n', 'MeasureGroupId': 'A018928', 'DataType': 'Long', 'Unit': 'aantal', 'Decimals': 0, 'PresentationType': 'Absolute'}, {'Identifier': 'D000028', 'Index': 127, 'Title': 'Afstand tot huisartsenpraktijk', 'Description': 'De gemiddelde afstand van alle inwoners in een gebied tot de dichtstbijzijnde huisartsenpraktijk, berekend over de weg. \\r\\n.\\r\\nDe gemiddelde afstand is opgenomen wanneer van 90 procent of meer van de inwoners in de buurt de exacte ligging (x,y-coördinaat) van het adres kon worden vastgesteld. Daarnaast geldt dat het gemiddelde alleen is vermeld bij minimaal 10 inwoners per buurt.\\r\\n\\r\\nHuisartsenpraktijk: Pand of ruimte waarin een of meer huisartsen (samen) werken.\\r\\n\\r\\nHuisarts:\\r\\nDe huisarts is verantwoordelijk voor de algemene medische zorg. Hij/zij geeft persoonlijke en continue zorg aan een vaste praktijkpopulatie.\\r\\n', 'MeasureGroupId': 'D000349', 'DataType': 'Double', 'Unit': 'km', 'Decimals': 1, 'PresentationType': 'Absolute'}, {'Identifier': 'D000025', 'Index': 128, 'Title': 'Afstand tot grote supermarkt', 'Description': 'De gemiddelde afstand van alle inwoners in een gebied tot de dichtstbijzijnde grote supermarkt, berekend over de weg.\\r\\n\\r\\nDe gemiddelde afstand is opgenomen wanneer van 90 procent of meer van de inwoners in de buurt de exacte ligging (x,y-coördinaat) van het adres kon worden vastgesteld. Daarnaast geldt dat het gemiddelde alleen is vermeld bij minimaal 10 inwoners per buurt.\\r\\n\\r\\nGrote supermarkt:\\r\\nWinkel met meerdere soorten dagelijkse artikelen en een minimale oppervlakte van 150 m2.\\r\\n', 'MeasureGroupId': 'D000349', 'DataType': 'Double', 'Unit': 'km', 'Decimals': 1, 'PresentationType': 'Absolute'}, {'Identifier': 'D000029', 'Index': 129, 'Title': 'Afstand tot kinderdagverblijf', 'Description': 'De gemiddelde afstand van alle inwoners in een gebied tot het dichtstbijzijnde kinderdagverblijf, berekend over de weg. \\r\\n.\\r\\nDe gemiddelde afstand is opgenomen wanneer van 90 procent of meer van de inwoners in de buurt de exacte ligging (x,y-coördinaat) van het adres kon worden vastgesteld. Daarnaast geldt dat het gemiddelde alleen is vermeld bij minimaal 10 inwoners per buurt.\\r\\n\\r\\nKinderdagverblijf:\\r\\nPlaats waar kinderen van 0 tot 4 jaar gedurende één of meer dagdelen per week het hele jaar door worden opgevangen. Er kan voor meer dan 5 uur per dag van het kinderdagverblijf gebruik gemaakt worden en voor maximaal 10 dagdelen per week.\\r\\n', 'MeasureGroupId': 'D000349', 'DataType': 'Double', 'Unit': 'km', 'Decimals': 1, 'PresentationType': 'Absolute'}, {'Identifier': 'D000045', 'Index': 131, 'Title': 'Afstand tot school', 'Description': 'De gemiddelde afstand van alle inwoners in een gebied tot de dichtstbijzijnde school, berekend over de weg. \\r\\n\\r\\nDe gemiddelde afstand is opgenomen wanneer van 90 procent of meer van de inwoners in de buurt de exacte ligging (x,y-coördinaat) van het adres kon worden vastgesteld. Daarnaast geldt dat het gemiddelde alleen is vermeld bij minimaal 10 inwoners per buurt.\\r\\n', 'MeasureGroupId': 'A025280', 'DataType': 'Double', 'Unit': 'km', 'Decimals': 1, 'PresentationType': 'Absolute'}, {'Identifier': 'D000263', 'Index': 132, 'Title': 'Scholen binnen 3 km', 'Description': 'Het gemiddeld aantal scholen binnen 3 kilometer over de weg voor alle inwoners van een gebied.\\r\\n\\r\\nHet gemiddelde aantal is opgenomen wanneer van 90 procent of meer van de inwoners in de buurt de exacte ligging (x,y-coördinaat) van het adres kon worden vastgesteld. Daarnaast geldt dat het gemiddelde alleen is vermeld bij minimaal 10 inwoners per buurt.\\r\\n', 'MeasureGroupId': 'A025280', 'DataType': 'Double', 'Unit': 'aantal', 'Decimals': 1, 'PresentationType': 'Absolute'}, {'Identifier': 'T001455_2', 'Index': 134, 'Title': 'Oppervlakte totaal', 'Description': 'De totale oppervlakte is de som van de oppervlakten water en land in hele hectaren (ha.).', 'MeasureGroupId': 'T001455_1', 'DataType': 'Long', 'Unit': 'ha', 'Decimals': 0, 'PresentationType': 'Absolute'}, {'Identifier': 'A047044', 'Index': 135, 'Title': 'Oppervlakte land', 'Description': 'De oppervlakte land is bepaald door het meest recente digitale bestand Bodemgebruik te combineren met het digitale bestand van gemeente-, wijk- en buurtgrenzen. \\r\\nVoor het jaar 2017 is uitgegaan van het bestand Bodemgebruik 2012.\\r\\n\\r\\nDe oppervlakte land wordt uitgedrukt in hele hectaren (ha.).\\r\\n', 'MeasureGroupId': 'T001455_1', 'DataType': 'Long', 'Unit': 'ha', 'Decimals': 0, 'PresentationType': 'Absolute'}, {'Identifier': 'A047040', 'Index': 136, 'Title': 'Oppervlakte water', 'Description': 'Oppervlakte water omvat zowel binnen- als buitenwater. Tot binnenwater wordt gerekend alle water niet onderhevig aan getijden en breder dan 6 meter, zoals het IJsselmeer, Markermeer, Randmeren, sloten, rivieren, kanalen en dergelijke. Onder het buitenwater valt alle water onderhevig aan getijden, zoals de Waddenzee, Oosterschelde, Westerschelde en het gemeentelijk ingedeelde gedeelte van de Noordzee.\\r\\nDe oppervlakte water is bepaald door het meest recente digitale bestand Bodemgebruik te combineren met het digitale bestand van gemeente-, wijk- en buurtgrenzen.\\r\\nVoor het jaar 2017 is uitgegaan van het bestand Bodemgebruik 2012.\\r\\n\\r\\nHet buitenwater is alleen op gemeenteniveau vermeld, water per wijk of buurt bestaat alleen uit binnenwater. De oppervlakte water wordt uitgedrukt in hele hectaren (ha.).\\r\\n', 'MeasureGroupId': 'T001455_1', 'DataType': 'Long', 'Unit': 'ha', 'Decimals': 0, 'PresentationType': 'Absolute'}, {'Identifier': 'M000217', 'Index': 139, 'Title': 'Dekkingspercentage', 'Description': 'Indicatie (in zes klassen) van het percentage adressen in een buurt met de meest voorkomende postcode. Dit percentage is ontleend aan het Geografisch Basisregister (GBR, definitieve versie).\\r\\nDe volgende klassenindeling is gehanteerd:\\r\\n1: > 90% van de adressen heeft dezelfde vermelde numerieke postcode;\\r\\n2: 81-90% van de adressen heeft dezelfde vermelde numerieke postcode;\\r\\n3: 71-80% van de adressen heeft dezelfde vermelde numerieke postcode;\\r\\n4: 61-70% van de adressen heeft dezelfde vermelde numerieke postcode;\\r\\n5: 51-60% van de adressen heeft dezelfde vermelde numerieke postcode;\\r\\n6: 50% of minder van de adressen heeft dezelfde vermelde numerieke postcode.\\r\\n', 'MeasureGroupId': 'PC000B', 'DataType': 'Integer', 'Unit': 'code', 'Decimals': 0, 'PresentationType': 'Absolute'}, {'Identifier': 'ST0001', 'Index': 141, 'Title': 'Mate van stedelijkheid', 'Description': 'Op grond van de omgevingsadressendichtheid is aan iedere buurt, wijk of gemeente een stedelijkheidsklasse toegekend. De volgende klassenindeling is gehanteerd:\\r\\n1: zeer sterk stedelijk >= 2 500 adressen per km²\\r\\n2: sterk stedelijk 1 500 -  2 500 adressen per km²\\r\\n3: matig stedelijk 1 000 - 1 500 adressen per km²\\r\\n4: weinig stedelijk 500 - 1 000 adressen per km²\\r\\n5: niet stedelijk < 500 adressen per km²\\r\\n', 'MeasureGroupId': 'T001086', 'DataType': 'Integer', 'Unit': 'code', 'Decimals': 0, 'PresentationType': 'Absolute'}, {'Identifier': 'ST0003', 'Index': 142, 'Title': 'Omgevingsadressendichtheid', 'Description': 'De omgevingsadressendichtheid (OAD) van een buurt, wijk of gemeente is het gemiddeld aantal adressen per vierkante kilometer binnen een cirkel met een straal van één kilometer op 1 januari.\\r\\nDe OAD beoogt de mate van concentratie van menselijke activiteiten (wonen, werken, schoolgaan, winkelen, uitgaan etc.) weer te geven. Het CBS gebruikt de OAD om de stedelijkheid van een bepaald gebied te bepalen.\\r\\nVoor de berekening hiervan wordt eerst voor ieder adres de OAD vastgesteld. Daarna is het gemiddelde berekend van de omgevingsadressendichtheden van alle afzonderlijke adressen binnen het beschouwde gebied. De adressen zijn afkomstig uit het Geografisch Basisregister van het betreffende jaar (definitieve versie). Dit register bevat alle adressen van Nederland die zijn voorzien van een postcode, gemeentecode en wijk- en buurtcode.\\r\\nDe gemeentelijke OAD in deze publicatie wijkt af van de gemeentelijke OAD in de Regionale Kerncijfers Nederland (RKN). In deze laatste publicatie wordt de OAD berekend zonder gegevens over de nieuwe adressen van het betreffende kalenderjaar. Het gemeentelijk cijfer van de OAD in deze publicatie komt overeen met de definitieve OAD in de publicatie Maatstaven ruimtelijke gegevens Financiële verhoudingswet (Fvw).', 'MeasureGroupId': 'T001086', 'DataType': 'Long', 'Unit': 'per km²', 'Decimals': 0, 'PresentationType': 'Relative'}, {'Identifier': 'CRI1100', 'Index': 144, 'Title': 'Totaal diefstal uit woning/schuur/e.d.', 'Description': \"Deze regel geeft het totaal weer van 'Diefstal/inbraak uit woning' en 'Diefstal/inbraak uit schuur/garage/tuinhuis'.\", 'MeasureGroupId': 'T001161', 'DataType': 'Long', 'Unit': 'per 1 000 inwoners', 'Decimals': 0, 'PresentationType': 'Relative'}, {'Identifier': 'CRI2000', 'Index': 145, 'Title': 'Vernieling, misdrijf tegen openbare orde', 'Description': '', 'MeasureGroupId': 'T001161', 'DataType': 'Long', 'Unit': 'per 1 000 inwoners', 'Decimals': 0, 'PresentationType': 'Relative'}, {'Identifier': 'CRI3000', 'Index': 146, 'Title': 'Gewelds- en seksuele misdrijven', 'Description': '', 'MeasureGroupId': 'T001161', 'DataType': 'Long', 'Unit': 'per 1 000 inwoners', 'Decimals': 0, 'PresentationType': 'Relative'}]}\n",
      "                Title                Unit Identifier\n",
      "19    Geboorte totaal              aantal  M000173_1\n",
      "20  Geboorte relatief  per 1 000 inwoners  M000173_2\n",
      "{'error': {'code': '', 'message': \"The query specified in the URI is not valid. Could not find a property named 'Measure' on type 'Cbs.Ccb.Models.MeasureCode'.\", 'details': []}}\n"
     ]
    },
    {
     "ename": "KeyError",
     "evalue": "'value'",
     "output_type": "error",
     "traceback": [
      "\u001B[1;31m---------------------------------------------------------------------------\u001B[0m",
      "\u001B[1;31mKeyError\u001B[0m                                  Traceback (most recent call last)",
      "Cell \u001B[1;32mIn[120], line 28\u001B[0m\n\u001B[0;32m     25\u001B[0m \u001B[38;5;28mprint\u001B[39m(geb[[\u001B[38;5;124m'\u001B[39m\u001B[38;5;124mTitle\u001B[39m\u001B[38;5;124m'\u001B[39m,\u001B[38;5;124m'\u001B[39m\u001B[38;5;124mUnit\u001B[39m\u001B[38;5;124m'\u001B[39m,\u001B[38;5;124m'\u001B[39m\u001B[38;5;124mIdentifier\u001B[39m\u001B[38;5;124m'\u001B[39m]])\n\u001B[0;32m     27\u001B[0m target_url \u001B[38;5;241m=\u001B[39m table_url \u001B[38;5;241m+\u001B[39m \u001B[38;5;124m\"\u001B[39m\u001B[38;5;124m/Observations?$filter=Measure eq \u001B[39m\u001B[38;5;124m'\u001B[39m\u001B[38;5;124mM000173_2\u001B[39m\u001B[38;5;124m'\u001B[39m\u001B[38;5;124m and startswith(WijkenEnBuurten,\u001B[39m\u001B[38;5;124m'\u001B[39m\u001B[38;5;124mGM\u001B[39m\u001B[38;5;124m'\u001B[39m\u001B[38;5;124m)\u001B[39m\u001B[38;5;124m\"\u001B[39m\n\u001B[1;32m---> 28\u001B[0m geboorten_per_gemeente \u001B[38;5;241m=\u001B[39m \u001B[43mget_odata\u001B[49m\u001B[43m(\u001B[49m\u001B[43mtarget_url\u001B[49m\u001B[43m)\u001B[49m\n\u001B[0;32m     29\u001B[0m geboorten_per_gemeente[\u001B[38;5;124m'\u001B[39m\u001B[38;5;124mWijkenEnBuurten\u001B[39m\u001B[38;5;124m'\u001B[39m] \u001B[38;5;241m=\u001B[39m geboorten_per_gemeente[\u001B[38;5;124m'\u001B[39m\u001B[38;5;124mWijkenEnBuurten\u001B[39m\u001B[38;5;124m'\u001B[39m]\u001B[38;5;241m.\u001B[39mstr\u001B[38;5;241m.\u001B[39mstrip()\n\u001B[0;32m     30\u001B[0m geboorten_per_gemeente \u001B[38;5;241m=\u001B[39m geboorten_per_gemeente\u001B[38;5;241m.\u001B[39mrename({\u001B[38;5;124m'\u001B[39m\u001B[38;5;124mValue\u001B[39m\u001B[38;5;124m'\u001B[39m:\u001B[38;5;124m'\u001B[39m\u001B[38;5;124mrelatieve_geboorte\u001B[39m\u001B[38;5;124m'\u001B[39m}, axis\u001B[38;5;241m=\u001B[39m\u001B[38;5;124m'\u001B[39m\u001B[38;5;124mcolumns\u001B[39m\u001B[38;5;124m'\u001B[39m)\n",
      "Cell \u001B[1;32mIn[119], line 6\u001B[0m, in \u001B[0;36mget_odata\u001B[1;34m(target_url)\u001B[0m\n\u001B[0;32m      4\u001B[0m r \u001B[38;5;241m=\u001B[39m requests\u001B[38;5;241m.\u001B[39mget(target_url)\u001B[38;5;241m.\u001B[39mjson()\n\u001B[0;32m      5\u001B[0m \u001B[38;5;28mprint\u001B[39m(r)\n\u001B[1;32m----> 6\u001B[0m data \u001B[38;5;241m=\u001B[39m data\u001B[38;5;241m.\u001B[39mappend(pd\u001B[38;5;241m.\u001B[39mDataFrame(\u001B[43mr\u001B[49m\u001B[43m[\u001B[49m\u001B[38;5;124;43m'\u001B[39;49m\u001B[38;5;124;43mvalue\u001B[39;49m\u001B[38;5;124;43m'\u001B[39;49m\u001B[43m]\u001B[49m))\n\u001B[0;32m      8\u001B[0m \u001B[38;5;28;01mif\u001B[39;00m \u001B[38;5;124m'\u001B[39m\u001B[38;5;124m@odata.nextLink\u001B[39m\u001B[38;5;124m'\u001B[39m \u001B[38;5;129;01min\u001B[39;00m r:\n\u001B[0;32m      9\u001B[0m  target_url \u001B[38;5;241m=\u001B[39m r[\u001B[38;5;124m'\u001B[39m\u001B[38;5;124m@odata.nextLink\u001B[39m\u001B[38;5;124m'\u001B[39m]\n",
      "\u001B[1;31mKeyError\u001B[0m: 'value'"
     ]
    }
   ],
   "source": [
    "\n",
    "target_url = table_url + \"/Observations?$filter=Measure eq 'M000173_2' and startswith(WijkenEnBuurten,'GM')\"\n",
    "# geboorten_per_gemeente = get_odata(target_url)\n",
    "geboorten_per_gemeente['WijkenEnBuurten'] = geboorten_per_gemeente['WijkenEnBuurten'].str.strip()\n",
    "geboorten_per_gemeente = geboorten_per_gemeente.rename({'Value':'relatieve_geboorte'}, axis='columns')\n",
    "gemeentegrenzen = pd.merge(gemeentegrenzen, geboorten_per_gemeente, left_on = \"statcode\", right_on = \"WijkenEnBuurten\")\n",
    "\n",
    "p = gemeentegrenzen.plot(column='relatieve_geboorte', figsize = (10,8))\n",
    "p.axis('off')\n",
    "p.set_title(\"Levend geborenen per 1000 inwoners, 2017\")"
   ],
   "metadata": {
    "collapsed": false
   }
  },
  {
   "cell_type": "markdown",
   "metadata": {
    "id": "Y8IPf-hpZipc"
   },
   "source": [
    "### Real-world considerations for Requests\n",
    "\n",
    "Things do not always go so nicely, particularly when using API's at scale.\n",
    "\n",
    "We'll quickly cover some other common considerations when using API's, and outline how they can be solved.\n",
    "\n",
    "#### Retries\n",
    "\n",
    "Sometimes you can do everything perfectly, and send off a request but something on the web-server (or elsewhere) can go wrong and give a bad status code.\n",
    "We don't want to silently ignore these errors or let them crash our program by raising an exception.\n",
    "\n",
    "The first port of call is to retry the request again.\n",
    "\n",
    "---\n",
    "\n",
    "A hacky way to do this would be (**don't do this**):\n",
    "\n",
    "``` python\n",
    "import time\n",
    "import requests\n",
    "\n",
    "def get(url):\n",
    "    try:\n",
    "        r = requests.get(url)\n",
    "        r.raise_for_status()  # raise an error on a bad status\n",
    "    except:\n",
    "        time.sleep(1)  # sleep for a bit in case that helps\n",
    "        return get(url)  # try again\n",
    "```\n",
    "\n",
    "---\n",
    "\n",
    "A better and easier way to do this is to use the [tenacity](https://github.com/jd/tenacity) library:\n",
    "\n",
    "``` python\n",
    "import requests\n",
    "from tenacity import (retry, stop_after_attempt, wait_fixed,\n",
    "                      retry_if_exception_type)\n",
    "\n",
    "@retry(stop=stop_after_attempt(3), wait=wait_fixed(0.1),\n",
    "      retry=retry_if_exception_type(requests.HTTPError))\n",
    "def get(url):\n",
    "    try:\n",
    "        r = requests.get(url)\n",
    "        r.raise_for_status()  # raise an error on a bad status\n",
    "        return r\n",
    "    except requests.HTTPError:\n",
    "        print(r.status_code, r.reason)\n",
    "        raise\n",
    "```\n",
    "\n",
    "It uses a python decorator (the `@` symbol) to wrap our function with another function `retry` that will retry if we raise an error.\n",
    "\n",
    "We can tell it how many times to stop trying after, how long to wait between each retry, what error to retry on etc.\n",
    "\n",
    "#### Authentication\n",
    "\n",
    "Not all API's are open for immediate use. For example, some require you pay for access (e.g. the google maps API) and some require you to register for access first.\n",
    "\n",
    "When you get access to a \"closed\" API, you will typically get an API key - a long string of letters and numbers - which is unique to you which you need to send along with any GET request you make to the API.\n",
    "This lets the API know who you are and decide how to deal with your request.\n",
    "\n",
    "Several different types of authentication exists (read the specific API docs) but the most common way is:\n",
    "``` python\n",
    "api_key = 'asodifhafglkkhj'\n",
    "r = requests.get(url, auth=(api_key, ''))\n",
    "```\n",
    "\n",
    "#### Rate limits\n",
    "\n",
    "API's can be costly to host and typically limit the number of requests that can be made (either by an IP or API key).\n",
    "If you exceed this limit you'll get a `429` status code for any extra requests you make (and may be blocked if you continue making them).\n",
    "\n",
    "It is important to therefore respect any rate limits given in an API's documentation (annoyingly some are very vague).\n",
    "The simplest way to do this is to limit how often the number of times our function that makes the request can be called within some time limit using the [ratelim](https://pypi.org/project/ratelim/) library - again using decorators."
   ]
  },
  {
   "cell_type": "markdown",
   "metadata": {
    "id": "ZXyw13JxZipj"
   },
   "source": [
    "Using `ratelim.patient` is kinder to the API you are using as you lower the risk of overwhelming the API and getting a batch of responses with bad statuses."
   ]
  },
  {
   "cell_type": "code",
   "execution_count": null,
   "metadata": {
    "id": "Y9l1kBenZipl"
   },
   "outputs": [],
   "source": [
    "## Template\n",
    "\n",
    "# Make the request\n",
    "import requests\n",
    "\n",
    "url = ...\n",
    "\n",
    "response = requests.get(url)\n",
    "response.raise_for_status()  # Gives an error if not successful\n",
    "\n",
    "# Parse into JSON\n",
    "payload = ...\n",
    "\n",
    "# Define the index from `payload['dimension']`\n",
    "index = ...\n",
    "\n",
    "# Get data values\n",
    "values = ...\n",
    "\n",
    "# Read into dataframe, manipulate and plot\n",
    "(pd.DataFrame(values, index=index)\n",
    "    # Make dataframe wider (~1 line(s))\n",
    "    # Get totals (1 line)\n",
    "    # Plot (1 line)\n",
    ")"
   ]
  },
  {
   "cell_type": "markdown",
   "metadata": {
    "id": "b1vYmRcOZipl"
   },
   "source": [
    "## Resources"
   ]
  },
  {
   "cell_type": "markdown",
   "metadata": {
    "id": "49156wzKZipm"
   },
   "source": [
    "### Assorted API snippets"
   ]
  },
  {
   "cell_type": "code",
   "execution_count": null,
   "metadata": {
    "id": "Fquf52mIZipm"
   },
   "outputs": [],
   "source": [
    "## COMPANIES HOUSE (UK registrar of companies)\n",
    "# Register for an api key here: https://developer.companieshouse.gov.uk/developer/signin\n",
    "\n",
    "api_key = 'put your api key here'\n",
    "url = 'https://api.companieshouse.gov.uk/search?q=consultio consultius'\n",
    "response = requests.get(url, auth=(api_key, ''))\n",
    "response.raise_for_status()\n",
    "\n",
    "response.json()['items'][0]  # get the first item"
   ]
  },
  {
   "cell_type": "raw",
   "metadata": {
    "id": "E1W3L7UkZipn"
   },
   "source": [
    "# Example output\n",
    "{'title': 'CONSULTIO CONSULTIUS CONSULTING  LIMITED',\n",
    " 'snippet': '',\n",
    " 'address': {'country': 'United Kingdom',\n",
    "  'region': 'Uk',\n",
    "  'address_line_1': 'Gibbons Close',\n",
    "  'postal_code': 'GU47 9BB',\n",
    "  'address_line_2': 'Sandhurst',\n",
    "  'premises': '3 ',\n",
    "  'locality': 'Berkshire'},\n",
    " 'date_of_cessation': '2016-11-22',\n",
    " 'date_of_creation': '2016-03-29',\n",
    " 'kind': 'searchresults#company',\n",
    " 'matches': {'title': [1, 9, 11, 20], 'snippet': []},\n",
    " 'description': '10088276 - Dissolved on 22 November 2016',\n",
    " 'company_type': 'ltd',\n",
    " 'description_identifier': ['dissolved-on'],\n",
    " 'company_number': '10088276',\n",
    " 'company_status': 'dissolved',\n",
    " 'links': {'self': '/company/10088276'},\n",
    " 'address_snippet': '3  Gibbons Close, Sandhurst, Berkshire, Uk, United Kingdom, GU47 9BB'}"
   ]
  },
  {
   "cell_type": "code",
   "execution_count": null,
   "metadata": {
    "id": "6B7ycxr8Zipn",
    "outputId": "3fe16c09-5388-40e7-c27e-0250ee8ffe55"
   },
   "outputs": [],
   "source": [
    "## REDDIT - https://www.reddit.com/dev/api/#GET_subreddits_search\n",
    "# Let's find some subreddits to learn python with!\n",
    "# https://www.reddit.com/dev/api/#GET_subreddits_search\n",
    "\n",
    "url = 'https://www.reddit.com/subreddits/search.json?q=\"learn python\"&limit=5'\n",
    "response = requests.get(url, headers={'User-agent': 'your bot 0.1'})\n",
    "response.raise_for_status()\n",
    "\n",
    "[result['data']['display_name_prefixed']\n",
    " for result in response.json()['data']['children']]"
   ]
  },
  {
   "cell_type": "markdown",
   "metadata": {
    "id": "jFbWtGvvZipo"
   },
   "source": [
    "### List of API's\n",
    "\n",
    "Massive list [**here**](https://github.com/public-apis/public-apis)\n"
   ]
  },
  {
   "cell_type": "markdown",
   "metadata": {
    "id": "sLZrvq-OZipo"
   },
   "source": [
    "### API wrapper libraries\n",
    "\n",
    "Massive list [**here**](https://github.com/realpython/list-of-python-api-wrappers).\n",
    "\n",
    "For example, geo-code location data with [`geopy`](https://github.com/geopy/geopy) :"
   ]
  },
  {
   "cell_type": "code",
   "execution_count": null,
   "metadata": {
    "id": "Ikh2LR5SZipp",
    "outputId": "40db8e47-c764-4566-e2f6-3c28c9d25589"
   },
   "outputs": [],
   "source": [
    "from geopy.geocoders import Nominatim\n",
    "geolocator = Nominatim(user_agent=\"ysi_tutorial\")\n",
    "\n",
    "print(geolocator.geocode(\"Leuvenlaan 4\"))  # From address\n",
    "print(geolocator.reverse(\"52.086779,5.1674726\"))  # From co-ordinates"
   ]
  },
  {
   "cell_type": "markdown",
   "metadata": {
    "id": "Wr-avTuIZipr"
   },
   "source": [
    "### More detailed tutorials\n",
    "\n",
    "* Python - https://www.reddit.com/r/learnpython/wiki/index\n",
    "\n",
    "  This wiki gives a lot of different resources for people both new to programming, or just new to python.\n",
    "* Pandas - https://pandas.pydata.org/pandas-docs/stable/getting_started/tutorials.html\n",
    "    \n",
    "* Requests/API's\n",
    "    * https://realpython.com/python-requests/\n",
    "    * https://www.dataquest.io/blog/python-api-tutorial/"
   ]
  }
 ],
 "metadata": {
  "hide_input": false,
  "kernelspec": {
   "display_name": "Python 3",
   "language": "python",
   "name": "python3"
  },
  "language_info": {
   "codemirror_mode": {
    "name": "ipython",
    "version": 3
   },
   "file_extension": ".py",
   "mimetype": "text/x-python",
   "name": "python",
   "nbconvert_exporter": "python",
   "pygments_lexer": "ipython3",
   "version": "3.7.3"
  },
  "toc": {
   "base_numbering": 1,
   "nav_menu": {},
   "number_sections": true,
   "sideBar": true,
   "skip_h1_title": false,
   "title_cell": "Table of Contents",
   "title_sidebar": "Contents",
   "toc_cell": false,
   "toc_position": {},
   "toc_section_display": true,
   "toc_window_display": false
  },
  "varInspector": {
   "cols": {
    "lenName": 16,
    "lenType": 16,
    "lenVar": 40
   },
   "kernels_config": {
    "python": {
     "delete_cmd_postfix": "",
     "delete_cmd_prefix": "del ",
     "library": "var_list.py",
     "varRefreshCmd": "print(var_dic_list())"
    },
    "r": {
     "delete_cmd_postfix": ") ",
     "delete_cmd_prefix": "rm(",
     "library": "var_list.r",
     "varRefreshCmd": "cat(var_dic_list()) "
    }
   },
   "types_to_exclude": [
    "module",
    "function",
    "builtin_function_or_method",
    "instance",
    "_Feature"
   ],
   "window_display": false
  },
  "colab": {
   "provenance": []
  }
 },
 "nbformat": 4,
 "nbformat_minor": 0
}
