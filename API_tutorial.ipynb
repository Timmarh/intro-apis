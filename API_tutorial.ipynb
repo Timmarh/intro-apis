{
 "cells": [
  {
   "cell_type": "code",
   "execution_count": null,
   "metadata": {
    "id": "BCd-8x9KZin4"
   },
   "outputs": [],
   "source": [
    "%matplotlib inline"
   ]
  },
  {
   "cell_type": "markdown",
   "metadata": {
    "id": "EepbtdIgZioG"
   },
   "source": [
    "# Introduction to requests and API's"
   ]
  },
  {
   "cell_type": "markdown",
   "metadata": {
    "id": "LFpdlrfiZioK"
   },
   "source": [
    "## What you will be able to do after the tutorial\n",
    "\n",
    "- Understand what a (RESTful) API is\n",
    "- Understand what a HTTP request is\n",
    "- Use Python to make requests to an API\n",
    "- Use Python to work with JSON data\n",
    "- Use Python to read JSON data into a Dataframe and plot it\n",
    "- Understand how to overcome some real-world complexities when using API's\n",
    "      \n",
    "      "
   ]
  },
  {
   "cell_type": "markdown",
   "metadata": {
    "id": "0ttA5UxjZioN"
   },
   "source": [
    "## Prerequisites\n",
    "\n",
    "Before we get started with using API's in python we need to know a little more first."
   ]
  },
  {
   "cell_type": "markdown",
   "metadata": {
    "id": "opLHMZ57ZioP"
   },
   "source": [
    "### APIs : What and why\n",
    "    \n",
    "An API (Application Programming interface) is a way for two different applications to communicate. Whilst the term applies to any two programs we are using it to refer to the API of a web service that provides data.\n",
    "\n",
    "To retrieve data from an API, a request to a remote web server is made.\n",
    "\n",
    "For example, if you want to build an application which plots stock prices, you would use the API of something like google finance to request the current stock prices.\n",
    "\n",
    "APIs are useful where:\n",
    "* Data is changing quickly, e.g. stock prices\n",
    "* The whole dataset is not required, e.g. the tweets of one user\n",
    "* Repeated computation is involved, e.g. Spotify API that tells you the genre of a piece of music\n",
    "\n",
    "#### REST\n",
    "\n",
    "Most API's you come across will be RESTful, i.e. they provide a REST (REpresentational State Transfer) interface.\n",
    "\n",
    "REST uses standard HTTP commands which means that getting data from an API is similar to accessing a webpage. \n",
    "\n",
    "For example, When you type `www.duckduckgo.com` in your browser, your browser is asking the `www.duckduckgo.com` server for a webpage by making a `GET` HTTP (Hypertext Transfer Protocol) request. Making a `GET` request to a RESTful API instead retrieves data (rather than a webpage).\n",
    "\n",
    "Similarly, while your browser uses `POST` to submit the contents of a form, REST APIs use `POST` to update data.\n",
    "\n",
    "REST APIs also uses other HTTP commmands such as `PUT` - for creating data - and `DELETE` - for removing data.\n",
    "\n",
    "HTTP is a text-based protocol (the response is always text) and could return a response in any format - this is typically found in the API documentation - though data is more often than not returned in JSON format.\n",
    "\n",
    "As they are used to retrieve data `GET` requests are the most commonly used type of request, therefore we will restrict ourselves to `GET` in this tutorial.\n",
    "\n",
    "#### JSON\n",
    "\n",
    "JSON (JavaScript Object Notation) is a format for sending data, that is meant to be human readable and easy to parse (It was derived from JavaScript but is language-independent).\n",
    "\n",
    "It uses attribute-value pairs (e.g. python dictionaries `{\"name\": \"Pizza\", \"foodRanking\": 1}`) and array data-types (e.g. python lists `[1, 2, 3]`)\n",
    "\n",
    "Example JSON representation :\n",
    "```\n",
    "{\n",
    "  \"firstName\": \"Donald\",\n",
    "  \"lastName\": \"Trump\",\n",
    "  \"age\": 73,\n",
    "  \"isAlive\": true,\n",
    "  \"color\": \"orange\",\n",
    "  \"addresses\": [\n",
    "      {\n",
    "          \"streetAddress\": \"1600 Pennsylvania Avenue NW\",\n",
    "          \"city\": \"Washington, D.C.\",\n",
    "          \"state\": \"null\",\n",
    "          \"postalCode\": \"20500\",\n",
    "          \"country\": \"US\"\n",
    "      },\n",
    "      {\n",
    "          \"streetAddress\": \"721 Fifth Avenue\",\n",
    "          \"city\": \"NYC\",\n",
    "          \"state\": \"NY\",\n",
    "          \"postalCode\": \"10022\",\n",
    "          \"country\": \"US\"\n",
    "      }\n",
    "  ],\n",
    "}\n",
    "```\n",
    "\n",
    "\n",
    "#### Status codes\n",
    "\n",
    "So we've sent off some mystery `GET` request but how do we know the request was successful?\n",
    "\n",
    "Servers issue numeric [status codes](https://developer.mozilla.org/en-US/docs/Web/HTTP/Status) in response to HTTP requests that indicate whether a request has been successfully completed.\n",
    "\n",
    "Some common ones relating to `GET` requests are:\n",
    "* `200` - Success\n",
    "* `300` - The API is redirecting to a different endpoint\n",
    "* `400` - Bad request\n",
    "* `401` - Not authenticated\n",
    "* `403` - Forbidden\n",
    "* `404` - Not found\n",
    "* `429` - Too many requests"
   ]
  },
  {
   "cell_type": "markdown",
   "metadata": {
    "id": "3OXVpzQiZipF"
   },
   "source": [
    "## Example API: luchtmeetnet\n",
    "\n",
    "Let's dive in by looking at an API that can be of use to us, the [luchtmeetnet](https://api-docs.luchtmeetnet.nl/).\n",
    "\n",
    "The documentation linked gives a very useful summary of the structure of the requests:\n",
    "<!-- (![](https://github.com/nestauk/im-tutorials/blob/3-ysi-tutorial/notebooks/APIs/figures/eurostat_api.png?raw=1)) !-->\n",
    "![](https://github.com/Timmarh/intro-apis/blob/main/imgs/api_url.png?raw=1)\n",
    "\n",
    "The request consists of 2 parts. The first part is the url to the API itself. We will call this the base url, this url will stay the same for each request to this API. We can expand on this base url with a specification of what exactly we want from the api. This second part changes depending on what exactly we want from the API and how we want it. How exactly we have to specify this varies per API and can generally (if the API is set up well) be found in the [documentation](https://api-docs.luchtmeetnet.nl/) of the api. In our case it is."
   ]
  },
  {
   "cell_type": "markdown",
   "metadata": {
    "id": "5ynQczaFZipI"
   },
   "source": [
    "We'll learn by example how to use Python to get the data for a REST GET request on this dataset.\n",
    "\n",
    "We will use the Python library `requests` - https://github.com/psf/requests."
   ]
  },
  {
   "cell_type": "code",
   "execution_count": 134,
   "metadata": {
    "id": "zpvrp7vaZipJ",
    "outputId": "c23e83ce-f86e-4f32-b21d-4ab14fa879c1"
   },
   "outputs": [
    {
     "name": "stdout",
     "output_type": "stream",
     "text": [
      "{'data': [{'location': 'Rotterdam-Hoogvliet', 'number': 'NL01485'},\n",
      "          {'location': 'Ridderkerk-Voorweg', 'number': 'NL01912'},\n",
      "          {'location': 'Rotterdam-HvHolland', 'number': 'NL01496'},\n",
      "          {'location': 'Wijk aan Zee-Bosweg', 'number': 'NL49557'},\n",
      "          {'location': 'Overschie-A13', 'number': 'NL01491'},\n",
      "          {'location': 'Rotterdam-Maasvlakte', 'number': 'NL01497'},\n",
      "          {'location': 'Nistelrode-Gagelstraat', 'number': 'NL10248'},\n",
      "          {'location': 'Ridderkerk-A16', 'number': 'NL01489'},\n",
      "          {'location': 'Zaandam-Wagenschotpad', 'number': 'NL49701'},\n",
      "          {'location': 'Den Haag-Rebecquestraat', 'number': 'NL10404'},\n",
      "          {'location': 'Den Haag-Amsterdamse Veerkade', 'number': 'NL10445'},\n",
      "          {'location': 'Fijnaart-Zwingelspaansedijk', 'number': 'NL10246'},\n",
      "          {'location': 'Amsterdam-Haarlemmerweg', 'number': 'NL49002'},\n",
      "          {'location': 'Amsterdam-Nieuwendammerdijk', 'number': 'NL49003'},\n",
      "          {'location': 'Amsterdam-Einsteinweg', 'number': 'NL49007'},\n",
      "          {'location': 'Amsterdam-Vondelpark', 'number': 'NL49014'},\n",
      "          {'location': 'Amsterdam-Westerpark', 'number': 'NL49016'},\n",
      "          {'location': 'Amsterdam-Stadhouderskade', 'number': 'NL49017'},\n",
      "          {'location': 'Amsterdam-Oude Schans', 'number': 'NL49019'},\n",
      "          {'location': 'Amsterdam-Jan van Galenstraat', 'number': 'NL49020'},\n",
      "          {'location': 'Amsterdam -Kantershof', 'number': 'NL49021'},\n",
      "          {'location': 'Ossendrecht-Burgemeester Voetenstraat',\n",
      "           'number': 'NL53001'},\n",
      "          {'location': 'Moerdijk-Julianastraat', 'number': 'NL53004'},\n",
      "          {'location': 'Zevenbergen-Galgenweg', 'number': 'NL53016'},\n",
      "          {'location': 'Strijensas Buitendijk', 'number': 'NL53020'}],\n",
      " 'pagination': {'current_page': 1,\n",
      "                'first_page': 1,\n",
      "                'last_page': 4,\n",
      "                'next_page': 2,\n",
      "                'page_list': [1, 2, 3, 4],\n",
      "                'prev_page': 1}}\n"
     ]
    }
   ],
   "source": [
    "import requests\n",
    "import pprint\n",
    "\n",
    "base_url = 'https://api.luchtmeetnet.nl/open_api/'\n",
    "\n",
    "response = requests.get(base_url + 'stations?order_by=&organisation_id=&page=')\n",
    "\n",
    "pp = pprint.PrettyPrinter(indent=1)\n",
    "pp.pprint(response.json())"
   ]
  },
  {
   "cell_type": "code",
   "execution_count": 135,
   "outputs": [
    {
     "name": "stdout",
     "output_type": "stream",
     "text": [
      "{'data': {'components': ['PM10', 'PM25', 'C6H6', 'C7H8', 'C8H10', 'C10H8'],\n",
      "          'description': {'EN': 'Wijk aan Zee-Bosweg',\n",
      "                          'NL': 'Wijk aan Zee-Bosweg'},\n",
      "          'geometry': {'coordinates': [4.599313, 52.490052], 'type': 'point'},\n",
      "          'location': 'Wijk aan Zee-Bosweg',\n",
      "          'municipality': 'Beverwijk',\n",
      "          'organisation': 'GGD Amsterdam',\n",
      "          'province': None,\n",
      "          'type': 'Industrial',\n",
      "          'url': None,\n",
      "          'year_start': '2020'}}\n"
     ]
    }
   ],
   "source": [
    "station = 'NL49557'\n",
    "response = requests.get(base_url + f'stations/{station}')\n",
    "pp.pprint(response.json())"
   ],
   "metadata": {
    "collapsed": false
   }
  },
  {
   "cell_type": "code",
   "execution_count": 136,
   "outputs": [
    {
     "name": "stdout",
     "output_type": "stream",
     "text": [
      "{'data': [{'formula': 'C6H6',\n",
      "           'timestamp_measured': '2023-03-29T10:00:00+00:00',\n",
      "           'value': 0.75},\n",
      "          {'formula': 'C6H6',\n",
      "           'timestamp_measured': '2023-03-29T09:00:00+00:00',\n",
      "           'value': 0.63},\n",
      "          {'formula': 'C6H6',\n",
      "           'timestamp_measured': '2023-03-29T08:00:00+00:00',\n",
      "           'value': 0.76},\n",
      "          {'formula': 'C6H6',\n",
      "           'timestamp_measured': '2023-03-29T07:00:00+00:00',\n",
      "           'value': 0.74},\n",
      "          {'formula': 'C6H6',\n",
      "           'timestamp_measured': '2023-03-29T06:00:00+00:00',\n",
      "           'value': 0.62},\n",
      "          {'formula': 'C6H6',\n",
      "           'timestamp_measured': '2023-03-29T05:00:00+00:00',\n",
      "           'value': 0.25},\n",
      "          {'formula': 'C6H6',\n",
      "           'timestamp_measured': '2023-03-29T04:00:00+00:00',\n",
      "           'value': 0.26},\n",
      "          {'formula': 'C6H6',\n",
      "           'timestamp_measured': '2023-03-29T03:00:00+00:00',\n",
      "           'value': 0.18},\n",
      "          {'formula': 'C6H6',\n",
      "           'timestamp_measured': '2023-03-29T02:00:00+00:00',\n",
      "           'value': 0.2},\n",
      "          {'formula': 'C6H6',\n",
      "           'timestamp_measured': '2023-03-29T01:00:00+00:00',\n",
      "           'value': 0.15},\n",
      "          {'formula': 'C6H6',\n",
      "           'timestamp_measured': '2023-03-29T00:00:00+00:00',\n",
      "           'value': 0.12},\n",
      "          {'formula': 'C6H6',\n",
      "           'timestamp_measured': '2023-03-28T23:00:00+00:00',\n",
      "           'value': 0.13},\n",
      "          {'formula': 'C6H6',\n",
      "           'timestamp_measured': '2023-03-28T22:00:00+00:00',\n",
      "           'value': 0.14},\n",
      "          {'formula': 'C6H6',\n",
      "           'timestamp_measured': '2023-03-28T21:00:00+00:00',\n",
      "           'value': 0.15},\n",
      "          {'formula': 'C6H6',\n",
      "           'timestamp_measured': '2023-03-28T20:00:00+00:00',\n",
      "           'value': 0.2},\n",
      "          {'formula': 'C6H6',\n",
      "           'timestamp_measured': '2023-03-28T19:00:00+00:00',\n",
      "           'value': 0.21},\n",
      "          {'formula': 'C6H6',\n",
      "           'timestamp_measured': '2023-03-28T18:00:00+00:00',\n",
      "           'value': 0.22},\n",
      "          {'formula': 'C6H6',\n",
      "           'timestamp_measured': '2023-03-28T17:00:00+00:00',\n",
      "           'value': 0.41},\n",
      "          {'formula': 'C6H6',\n",
      "           'timestamp_measured': '2023-03-28T16:00:00+00:00',\n",
      "           'value': 0.37},\n",
      "          {'formula': 'C6H6',\n",
      "           'timestamp_measured': '2023-03-28T15:00:00+00:00',\n",
      "           'value': 0.28},\n",
      "          {'formula': 'C6H6',\n",
      "           'timestamp_measured': '2023-03-28T14:00:00+00:00',\n",
      "           'value': 0.18},\n",
      "          {'formula': 'C6H6',\n",
      "           'timestamp_measured': '2023-03-28T13:00:00+00:00',\n",
      "           'value': 0.18},\n",
      "          {'formula': 'C6H6',\n",
      "           'timestamp_measured': '2023-03-28T12:00:00+00:00',\n",
      "           'value': 0.19},\n",
      "          {'formula': 'C6H6',\n",
      "           'timestamp_measured': '2023-03-28T11:00:00+00:00',\n",
      "           'value': 0.16},\n",
      "          {'formula': 'C6H6',\n",
      "           'timestamp_measured': '2023-03-28T10:00:00+00:00',\n",
      "           'value': 0.34},\n",
      "          {'formula': 'C6H6',\n",
      "           'timestamp_measured': '2023-03-28T09:00:00+00:00',\n",
      "           'value': 0.3},\n",
      "          {'formula': 'C6H6',\n",
      "           'timestamp_measured': '2023-03-28T08:00:00+00:00',\n",
      "           'value': 0.37},\n",
      "          {'formula': 'C6H6',\n",
      "           'timestamp_measured': '2023-03-28T07:00:00+00:00',\n",
      "           'value': 0.52},\n",
      "          {'formula': 'C6H6',\n",
      "           'timestamp_measured': '2023-03-28T06:00:00+00:00',\n",
      "           'value': 0.11},\n",
      "          {'formula': 'C6H6',\n",
      "           'timestamp_measured': '2023-03-28T05:00:00+00:00',\n",
      "           'value': 0.08},\n",
      "          {'formula': 'C6H6',\n",
      "           'timestamp_measured': '2023-03-28T04:00:00+00:00',\n",
      "           'value': 0.09},\n",
      "          {'formula': 'C6H6',\n",
      "           'timestamp_measured': '2023-03-28T03:00:00+00:00',\n",
      "           'value': 0.12},\n",
      "          {'formula': 'C6H6',\n",
      "           'timestamp_measured': '2023-03-28T02:00:00+00:00',\n",
      "           'value': 0.09},\n",
      "          {'formula': 'C6H6',\n",
      "           'timestamp_measured': '2023-03-28T01:00:00+00:00',\n",
      "           'value': 0.08},\n",
      "          {'formula': 'C6H6',\n",
      "           'timestamp_measured': '2023-03-28T00:00:00+00:00',\n",
      "           'value': 0.08},\n",
      "          {'formula': 'C6H6',\n",
      "           'timestamp_measured': '2023-03-27T23:00:00+00:00',\n",
      "           'value': 0.08},\n",
      "          {'formula': 'C6H6',\n",
      "           'timestamp_measured': '2023-03-27T22:00:00+00:00',\n",
      "           'value': 0.09},\n",
      "          {'formula': 'C6H6',\n",
      "           'timestamp_measured': '2023-03-27T21:00:00+00:00',\n",
      "           'value': 0.09},\n",
      "          {'formula': 'C6H6',\n",
      "           'timestamp_measured': '2023-03-27T20:00:00+00:00',\n",
      "           'value': 0.09},\n",
      "          {'formula': 'C6H6',\n",
      "           'timestamp_measured': '2023-03-27T19:00:00+00:00',\n",
      "           'value': 0.09},\n",
      "          {'formula': 'C6H6',\n",
      "           'timestamp_measured': '2023-03-27T18:00:00+00:00',\n",
      "           'value': 0.09},\n",
      "          {'formula': 'C6H6',\n",
      "           'timestamp_measured': '2023-03-27T17:00:00+00:00',\n",
      "           'value': 0.09},\n",
      "          {'formula': 'C6H6',\n",
      "           'timestamp_measured': '2023-03-27T16:00:00+00:00',\n",
      "           'value': 0.09},\n",
      "          {'formula': 'C6H6',\n",
      "           'timestamp_measured': '2023-03-27T15:00:00+00:00',\n",
      "           'value': 0.1},\n",
      "          {'formula': 'C6H6',\n",
      "           'timestamp_measured': '2023-03-27T14:00:00+00:00',\n",
      "           'value': 0.1},\n",
      "          {'formula': 'C6H6',\n",
      "           'timestamp_measured': '2023-03-27T13:00:00+00:00',\n",
      "           'value': 0.1},\n",
      "          {'formula': 'C6H6',\n",
      "           'timestamp_measured': '2023-03-27T12:00:00+00:00',\n",
      "           'value': 0.1},\n",
      "          {'formula': 'C6H6',\n",
      "           'timestamp_measured': '2023-03-27T11:00:00+00:00',\n",
      "           'value': 0.1},\n",
      "          {'formula': 'C6H6',\n",
      "           'timestamp_measured': '2023-03-27T10:00:00+00:00',\n",
      "           'value': 0.09},\n",
      "          {'formula': 'C6H6',\n",
      "           'timestamp_measured': '2023-03-27T09:00:00+00:00',\n",
      "           'value': 0.09}],\n",
      " 'pagination': {'current_page': 1,\n",
      "                'first_page': 1,\n",
      "                'last_page': 173,\n",
      "                'next_page': 2,\n",
      "                'page_list': [1, 2, 3, 4, 5],\n",
      "                'prev_page': 1}}\n"
     ]
    }
   ],
   "source": [
    "formula = 'C6H6'\n",
    "response = requests.get(base_url + f'stations/{station}/measurements?formula={formula}')\n",
    "pp.pprint(response.json())\n"
   ],
   "metadata": {
    "collapsed": false
   }
  },
  {
   "cell_type": "markdown",
   "source": [
    "## Convert the response to a dataframe.\n",
    "\n",
    "There are many ways to convert an API response, or another json, to a pandas dataframe.\n",
    "Here we will use the `json_normalize` fucntion, which comes in the pandas package.\n",
    "For some other options, see this [website](https://sparkbyexamples.com/pandas/pandas-convert-json-to-dataframe/)"
   ],
   "metadata": {
    "collapsed": false
   }
  },
  {
   "cell_type": "code",
   "execution_count": 139,
   "outputs": [
    {
     "name": "stdout",
     "output_type": "stream",
     "text": [
      "dict_keys(['value', 'timestamp_measured', 'formula'])\n"
     ]
    },
    {
     "data": {
      "text/plain": "<Axes: >"
     },
     "execution_count": 139,
     "metadata": {},
     "output_type": "execute_result"
    },
    {
     "data": {
      "text/plain": "<Figure size 640x480 with 1 Axes>",
      "image/png": "[encoded data removed]"
     },
     "metadata": {},
     "output_type": "display_data"
    }
   ],
   "source": [
    "import pandas as pd\n",
    "\n",
    "response_data = response.json()['data']\n",
    "# pp.pprint(response_data)\n",
    "print(response_data[0].keys())\n",
    "\n",
    "\n",
    "response_df = pd.json_normalize(response_data)\n",
    "response_df\n",
    "\n",
    "\n",
    "response_df.value.plot(kind='bar')  # Make a bar plot\n"
   ],
   "metadata": {
    "collapsed": false
   }
  },
  {
   "cell_type": "markdown",
   "source": [
    "## CBS\n",
    "\n",
    "Another example"
   ],
   "metadata": {
    "collapsed": false
   }
  },
  {
   "cell_type": "code",
   "execution_count": 141,
   "outputs": [
    {
     "name": "stdout",
     "output_type": "stream",
     "text": [
      "https://beta-odata4.cbs.nl/CBS/83765NED/Observations?$top=100\n",
      "Request returned 200 : 'OK'\n"
     ]
    }
   ],
   "source": [
    "\n",
    "import requests  # Import the requests library\n",
    "import pandas as pd # Import pandas for later\n",
    "import geopandas as gpd\n",
    "import warnings\n",
    "warnings.filterwarnings(action='once') ## This line makes sure you see warnings only once\n",
    "\n",
    "# Downloaden van eerste 100 rijen uit de tabel\n",
    "\n",
    "base_url = \"https://beta-odata4.cbs.nl/\"\n",
    "url = base_url + f\"CBS/83765NED/Observations?$top=100\"\n",
    "print(url)\n",
    "\n",
    "response = requests.get(url)  # Make a GET request to the URL\n",
    "\n",
    "# Print status code (and associated text)\n",
    "print(f\"Request returned {response.status_code} : '{response.reason}'\")"
   ],
   "metadata": {
    "collapsed": false
   }
  },
  {
   "cell_type": "code",
   "execution_count": 142,
   "outputs": [
    {
     "name": "stdout",
     "output_type": "stream",
     "text": [
      "{\"@odata.context\":\"https://beta-odata4.cbs.nl/CBS/83765NED/$metadata#Observations\",\"value\":[{\"Id\":0,\"Measure\":\"T001036\",\"ValueAttribute\":\"None\",\"Value\":17081507.0,\"WijkenEnBuurten\":\"NL00\"},{\"Id\":1,\"Measure\":\"3000\",\"ValueAttribute\":\"None\",\"Value\":8475102.0,\"WijkenEnBuurten\":\"NL00\"},{\"Id\":2,\"Measure\":\"4000\",\"ValueAttribute\":\"None\",\"Value\":8606405.0,\"WijkenEnBuurten\":\"NL00\"},{\"Id\":3,\"Measure\":\"10680\",\"ValueAttribute\":\"None\",\"Value\":2781768.0,\"WijkenEnBuurten\":\"NL00\"},{\"Id\":4,\"Measure\":\"53050\",\"ValueAttribute\":\"None\",\"Value\":2101648.0,\"WijkenEnBuurten\":\"NL00\"},{\"Id\":5,\"Measure\":\"53310\",\"ValueAttribute\":\"None\",\"Value\":4214276.0,\"WijkenEnBuurten\":\"NL00\"},{\"Id\":6,\"Measure\":\"53715\",\"ValueAttribute\":\"None\",\"Value\":4824155.0,\"WijkenEnBuurten\":\"NL00\"},{\"Id\":7,\"Measure\":\"80200\",\"ValueAttribute\":\"None\",\"Value\":3159660.0,\"WijkenEnBuurten\":\"NL00\"},{\"Id\":8,\"Measure\":\"1010\",\"ValueAttribute\":\"None\",\"Value\":8201061.0,\"WijkenEnBuurten\":\"NL00\"},{\"Id\":9,\"Measure\":\"1020\",\"ValueAttribute\":\"None\",\"Value\":6718468.0,\"WijkenEnBuurten\":\"NL00\"},{\"Id\":10,\"Measure\":\"1080\",\"ValueAttribute\":\"None\",\"Value\":1302258.0,\"WijkenEnBuurten\":\"NL00\"},{\"Id\":11,\"Measure\":\"1050\",\"ValueAttribute\":\"None\",\"Value\":859720.0,\"WijkenEnBuurten\":\"NL00\"},{\"Id\":12,\"Measure\":\"2012655\",\"ValueAttribute\":\"None\",\"Value\":1689030.0,\"WijkenEnBuurten\":\"NL00\"},{\"Id\":13,\"Measure\":\"2012657_2\",\"ValueAttribute\":\"None\",\"Value\":2173723.0,\"WijkenEnBuurten\":\"NL00\"},{\"Id\":14,\"Measure\":\"H008673\",\"ValueAttribute\":\"None\",\"Value\":391088.0,\"WijkenEnBuurten\":\"NL00\"},{\"Id\":15,\"Measure\":\"H007119\",\"ValueAttribute\":\"None\",\"Value\":152934.0,\"WijkenEnBuurten\":\"NL00\"},{\"Id\":16,\"Measure\":\"H008751\",\"ValueAttribute\":\"None\",\"Value\":349978.0,\"WijkenEnBuurten\":\"NL00\"},{\"Id\":17,\"Measure\":\"H008766\",\"ValueAttribute\":\"None\",\"Value\":400367.0,\"WijkenEnBuurten\":\"NL00\"},{\"Id\":18,\"Measure\":\"A008187\",\"ValueAttribute\":\"None\",\"Value\":879356.0,\"WijkenEnBuurten\":\"NL00\"},{\"Id\":19,\"Measure\":\"M000173_1\",\"ValueAttribute\":\"None\",\"Value\":169836.0,\"WijkenEnBuurten\":\"NL00\"},{\"Id\":20,\"Measure\":\"M000173_2\",\"ValueAttribute\":\"None\",\"Value\":9.0,\"WijkenEnBuurten\":\"NL00\"},{\"Id\":21,\"Measure\":\"M000179_1\",\"ValueAttribute\":\"None\",\"Value\":150214.0,\"WijkenEnBuurten\":\"NL00\"},{\"Id\":22,\"Measure\":\"M000179_2\",\"ValueAttribute\":\"None\",\"Value\":8.0,\"WijkenEnBuurten\":\"NL00\"},{\"Id\":23,\"Measure\":\"1050010_2\",\"ValueAttribute\":\"None\",\"Value\":7794075.0,\"WijkenEnBuurten\":\"NL00\"},{\"Id\":24,\"Measure\":\"1050015\",\"ValueAttribute\":\"None\",\"Value\":2961228.0,\"WijkenEnBuurten\":\"NL00\"},{\"Id\":25,\"Measure\":\"1016040\",\"ValueAttribute\":\"None\",\"Value\":2247191.0,\"WijkenEnBuurten\":\"NL00\"},{\"Id\":26,\"Measure\":\"1016030\",\"ValueAttribute\":\"None\",\"Value\":2585656.0,\"WijkenEnBuurten\":\"NL00\"},{\"Id\":27,\"Measure\":\"M000114\",\"ValueAttribute\":\"None\",\"Value\":2.2,\"WijkenEnBuurten\":\"NL00\"},{\"Id\":28,\"Measure\":\"M000100\",\"ValueAttribute\":\"None\",\"Value\":507.0,\"WijkenEnBuurten\":\"NL00\"},{\"Id\":29,\"Measure\":\"M000297\",\"ValueAttribute\":\"None\",\"Value\":7686175.0,\"WijkenEnBuurten\":\"NL00\"},{\"Id\":30,\"Measure\":\"M003039\",\"ValueAttribute\":\"None\",\"Value\":216.0,\"WijkenEnBuurten\":\"NL00\"},{\"Id\":31,\"Measure\":\"ZW10290\",\"ValueAttribute\":\"None\",\"Value\":64.0,\"WijkenEnBuurten\":\"NL00\"},{\"Id\":32,\"Measure\":\"ZW10340\",\"ValueAttribute\":\"None\",\"Value\":36.0,\"WijkenEnBuurten\":\"NL00\"},{\"Id\":33,\"Measure\":\"A028725\",\"ValueAttribute\":\"None\",\"Value\":95.0,\"WijkenEnBuurten\":\"NL00\"},{\"Id\":34,\"Measure\":\"A028726\",\"ValueAttribute\":\"None\",\"Value\":5.0,\"WijkenEnBuurten\":\"NL00\"},{\"Id\":35,\"Measure\":\"1014800_1\",\"ValueAttribute\":\"None\",\"Value\":56.0,\"WijkenEnBuurten\":\"NL00\"},{\"Id\":36,\"Measure\":\"1014850_2\",\"ValueAttribute\":\"None\",\"Value\":43.0,\"WijkenEnBuurten\":\"NL00\"},{\"Id\":37,\"Measure\":\"A047047\",\"ValueAttribute\":\"None\",\"Value\":29.0,\"WijkenEnBuurten\":\"NL00\"},{\"Id\":38,\"Measure\":\"A047048\",\"ValueAttribute\":\"None\",\"Value\":13.0,\"WijkenEnBuurten\":\"NL00\"},{\"Id\":39,\"Measure\":\"A047051\",\"ValueAttribute\":\"None\",\"Value\":1.0,\"WijkenEnBuurten\":\"NL00\"},{\"Id\":40,\"Measure\":\"ZW25808\",\"ValueAttribute\":\"None\",\"Value\":85.0,\"WijkenEnBuurten\":\"NL00\"},{\"Id\":41,\"Measure\":\"ZW25807\",\"ValueAttribute\":\"None\",\"Value\":15.0,\"WijkenEnBuurten\":\"NL00\"},{\"Id\":42,\"Measure\":\"M000221_2\",\"ValueAttribute\":\"None\",\"Value\":2860.0,\"WijkenEnBuurten\":\"NL00\"},{\"Id\":43,\"Measure\":\"ZW25810_1\",\"ValueAttribute\":\"None\",\"Value\":2050.0,\"WijkenEnBuurten\":\"NL00\"},{\"Id\":44,\"Measure\":\"ZW25805_1\",\"ValueAttribute\":\"None\",\"Value\":2990.0,\"WijkenEnBuurten\":\"NL00\"},{\"Id\":45,\"Measure\":\"ZW25806_1\",\"ValueAttribute\":\"None\",\"Value\":3100.0,\"WijkenEnBuurten\":\"NL00\"},{\"Id\":46,\"Measure\":\"ZW10300_1\",\"ValueAttribute\":\"None\",\"Value\":3430.0,\"WijkenEnBuurten\":\"NL00\"},{\"Id\":47,\"Measure\":\"ZW10320_1\",\"ValueAttribute\":\"None\",\"Value\":4040.0,\"WijkenEnBuurten\":\"NL00\"},{\"Id\":48,\"Measure\":\"1014850_3\",\"ValueAttribute\":\"None\",\"Value\":2210.0,\"WijkenEnBuurten\":\"NL00\"},{\"Id\":49,\"Measure\":\"1014800_2\",\"ValueAttribute\":\"None\",\"Value\":3330.0,\"WijkenEnBuurten\":\"NL00\"},{\"Id\":50,\"Measure\":\"M000219_2\",\"ValueAttribute\":\"None\",\"Value\":1240.0,\"WijkenEnBuurten\":\"NL00\"},{\"Id\":51,\"Measure\":\"ZW25810_2\",\"ValueAttribute\":\"None\",\"Value\":840.0,\"WijkenEnBuurten\":\"NL00\"},{\"Id\":52,\"Measure\":\"ZW25805_2\",\"ValueAttribute\":\"None\",\"Value\":1190.0,\"WijkenEnBuurten\":\"NL00\"},{\"Id\":53,\"Measure\":\"ZW25806_2\",\"ValueAttribute\":\"None\",\"Value\":1430.0,\"WijkenEnBuurten\":\"NL00\"},{\"Id\":54,\"Measure\":\"ZW10300_2\",\"ValueAttribute\":\"None\",\"Value\":1680.0,\"WijkenEnBuurten\":\"NL00\"},{\"Id\":55,\"Measure\":\"ZW10320_2\",\"ValueAttribute\":\"None\",\"Value\":2200.0,\"WijkenEnBuurten\":\"NL00\"},{\"Id\":56,\"Measure\":\"1014850_4\",\"ValueAttribute\":\"None\",\"Value\":1010.0,\"WijkenEnBuurten\":\"NL00\"},{\"Id\":57,\"Measure\":\"1014800_3\",\"ValueAttribute\":\"None\",\"Value\":1470.0,\"WijkenEnBuurten\":\"NL00\"},{\"Id\":58,\"Measure\":\"M000369\",\"ValueAttribute\":\"None\",\"Value\":5.6,\"WijkenEnBuurten\":\"NL00\"},{\"Id\":59,\"Measure\":\"M000232\",\"ValueAttribute\":\"None\",\"Value\":13396700.0,\"WijkenEnBuurten\":\"NL00\"},{\"Id\":60,\"Measure\":\"M000223\",\"ValueAttribute\":\"None\",\"Value\":32.0,\"WijkenEnBuurten\":\"NL00\"},{\"Id\":61,\"Measure\":\"M000224\",\"ValueAttribute\":\"None\",\"Value\":25.7,\"WijkenEnBuurten\":\"NL00\"},{\"Id\":62,\"Measure\":\"D000187\",\"ValueAttribute\":\"None\",\"Value\":40.0,\"WijkenEnBuurten\":\"NL00\"},{\"Id\":63,\"Measure\":\"D000185\",\"ValueAttribute\":\"None\",\"Value\":20.0,\"WijkenEnBuurten\":\"NL00\"},{\"Id\":64,\"Measure\":\"M000302\",\"ValueAttribute\":\"None\",\"Value\":59.3,\"WijkenEnBuurten\":\"NL00\"},{\"Id\":65,\"Measure\":\"D000186\",\"ValueAttribute\":\"None\",\"Value\":40.0,\"WijkenEnBuurten\":\"NL00\"},{\"Id\":66,\"Measure\":\"D000184\",\"ValueAttribute\":\"None\",\"Value\":20.0,\"WijkenEnBuurten\":\"NL00\"},{\"Id\":67,\"Measure\":\"D000227\",\"ValueAttribute\":\"None\",\"Value\":7.9,\"WijkenEnBuurten\":\"NL00\"},{\"Id\":68,\"Measure\":\"M000226\",\"ValueAttribute\":\"None\",\"Value\":7.2,\"WijkenEnBuurten\":\"NL00\"},{\"Id\":69,\"Measure\":\"D006842\",\"ValueAttribute\":\"None\",\"Value\":471190.0,\"WijkenEnBuurten\":\"NL00\"},{\"Id\":70,\"Measure\":\"D006837\",\"ValueAttribute\":\"None\",\"Value\":744330.0,\"WijkenEnBuurten\":\"NL00\"},{\"Id\":71,\"Measure\":\"D001827\",\"ValueAttribute\":\"None\",\"Value\":340610.0,\"WijkenEnBuurten\":\"NL00\"},{\"Id\":72,\"Measure\":\"D000193\",\"ValueAttribute\":\"None\",\"Value\":3015730.0,\"WijkenEnBuurten\":\"NL00\"},{\"Id\":73,\"Measure\":\"M000200_2\",\"ValueAttribute\":\"None\",\"Value\":1508540.0,\"WijkenEnBuurten\":\"NL00\"},{\"Id\":74,\"Measure\":\"301000\",\"ValueAttribute\":\"None\",\"Value\":74815.0,\"WijkenEnBuurten\":\"NL00\"},{\"Id\":75,\"Measure\":\"300003\",\"ValueAttribute\":\"None\",\"Value\":230745.0,\"WijkenEnBuurten\":\"NL00\"},{\"Id\":76,\"Measure\":\"300005\",\"ValueAttribute\":\"None\",\"Value\":325275.0,\"WijkenEnBuurten\":\"NL00\"},{\"Id\":77,\"Measure\":\"383105\",\"ValueAttribute\":\"None\",\"Value\":129490.0,\"WijkenEnBuurten\":\"NL00\"},{\"Id\":78,\"Measure\":\"300009\",\"ValueAttribute\":\"None\",\"Value\":151660.0,\"WijkenEnBuurten\":\"NL00\"},{\"Id\":79,\"Measure\":\"300010\",\"ValueAttribute\":\"None\",\"Value\":397200.0,\"WijkenEnBuurten\":\"NL00\"},{\"Id\":80,\"Measure\":\"300014\",\"ValueAttribute\":\"None\",\"Value\":199360.0,\"WijkenEnBuurten\":\"NL00\"},{\"Id\":81,\"Measure\":\"A018943_2\",\"ValueAttribute\":\"None\",\"Value\":8222975.0,\"WijkenEnBuurten\":\"NL00\"},{\"Id\":82,\"Measure\":\"40001\",\"ValueAttribute\":\"None\",\"Value\":2717530.0,\"WijkenEnBuurten\":\"NL00\"},{\"Id\":83,\"Measure\":\"72003\",\"ValueAttribute\":\"None\",\"Value\":5505445.0,\"WijkenEnBuurten\":\"NL00\"},{\"Id\":84,\"Measure\":\"A019276\",\"ValueAttribute\":\"None\",\"Value\":6509000.0,\"WijkenEnBuurten\":\"NL00\"},{\"Id\":85,\"Measure\":\"D001045\",\"ValueAttribute\":\"None\",\"Value\":1713975.0,\"WijkenEnBuurten\":\"NL00\"},{\"Id\":86,\"Measure\":\"M000368\",\"ValueAttribute\":\"None\",\"Value\":1.1,\"WijkenEnBuurten\":\"NL00\"},{\"Id\":87,\"Measure\":\"A018943_5\",\"ValueAttribute\":\"None\",\"Value\":244.0,\"WijkenEnBuurten\":\"NL00\"},{\"Id\":88,\"Measure\":\"A018944\",\"ValueAttribute\":\"None\",\"Value\":655990.0,\"WijkenEnBuurten\":\"NL00\"},{\"Id\":89,\"Measure\":\"D000028\",\"ValueAttribute\":\"None\",\"Value\":1.0,\"WijkenEnBuurten\":\"NL00\"},{\"Id\":90,\"Measure\":\"D000025\",\"ValueAttribute\":\"None\",\"Value\":0.9,\"WijkenEnBuurten\":\"NL00\"},{\"Id\":91,\"Measure\":\"D000029\",\"ValueAttribute\":\"None\",\"Value\":0.8,\"WijkenEnBuurten\":\"NL00\"},{\"Id\":92,\"Measure\":\"D000045\",\"ValueAttribute\":\"None\",\"Value\":0.7,\"WijkenEnBuurten\":\"NL00\"},{\"Id\":93,\"Measure\":\"D000263\",\"ValueAttribute\":\"None\",\"Value\":11.2,\"WijkenEnBuurten\":\"NL00\"},{\"Id\":94,\"Measure\":\"T001455_2\",\"ValueAttribute\":\"None\",\"Value\":4154302.0,\"WijkenEnBuurten\":\"NL00\"},{\"Id\":95,\"Measure\":\"A047044\",\"ValueAttribute\":\"None\",\"Value\":3367996.0,\"WijkenEnBuurten\":\"NL00\"},{\"Id\":96,\"Measure\":\"A047040\",\"ValueAttribute\":\"None\",\"Value\":786306.0,\"WijkenEnBuurten\":\"NL00\"},{\"Id\":97,\"Measure\":\"ST0001\",\"ValueAttribute\":\"None\",\"Value\":2.0,\"WijkenEnBuurten\":\"NL00\"},{\"Id\":98,\"Measure\":\"ST0003\",\"ValueAttribute\":\"None\",\"Value\":1969.0,\"WijkenEnBuurten\":\"NL00\"},{\"Id\":99,\"Measure\":\"T001036\",\"ValueAttribute\":\"None\",\"Value\":25286.0,\"WijkenEnBuurten\":\"GM1680\"}]}\n"
     ]
    }
   ],
   "source": [
    "print(response.text)"
   ],
   "metadata": {
    "collapsed": false
   }
  },
  {
   "cell_type": "code",
   "execution_count": 143,
   "outputs": [
    {
     "name": "stdout",
     "output_type": "stream",
     "text": [
      "{'@odata.context': 'https://beta-odata4.cbs.nl/CBS/83765NED/$metadata#Observations',\n",
      " 'value': [{'Id': 0,\n",
      "            'Measure': 'T001036',\n",
      "            'Value': 17081507.0,\n",
      "            'ValueAttribute': 'None',\n",
      "            'WijkenEnBuurten': 'NL00'},\n",
      "           {'Id': 1,\n",
      "            'Measure': '3000',\n",
      "            'Value': 8475102.0,\n",
      "            'ValueAttribute': 'None',\n",
      "            'WijkenEnBuurten': 'NL00'},\n",
      "           {'Id': 2,\n",
      "            'Measure': '4000',\n",
      "            'Value': 8606405.0,\n",
      "            'ValueAttribute': 'None',\n",
      "            'WijkenEnBuurten': 'NL00'},\n",
      "           {'Id': 3,\n",
      "            'Measure': '10680',\n",
      "            'Value': 2781768.0,\n",
      "            'ValueAttribute': 'None',\n",
      "            'WijkenEnBuurten': 'NL00'},\n",
      "           {'Id': 4,\n",
      "            'Measure': '53050',\n",
      "            'Value': 2101648.0,\n",
      "            'ValueAttribute': 'None',\n",
      "            'WijkenEnBuurten': 'NL00'},\n",
      "           {'Id': 5,\n",
      "            'Measure': '53310',\n",
      "            'Value': 4214276.0,\n",
      "            'ValueAttribute': 'None',\n",
      "            'WijkenEnBuurten': 'NL00'},\n",
      "           {'Id': 6,\n",
      "            'Measure': '53715',\n",
      "            'Value': 4824155.0,\n",
      "            'ValueAttribute': 'None',\n",
      "            'WijkenEnBuurten': 'NL00'},\n",
      "           {'Id': 7,\n",
      "            'Measure': '80200',\n",
      "            'Value': 3159660.0,\n",
      "            'ValueAttribute': 'None',\n",
      "            'WijkenEnBuurten': 'NL00'},\n",
      "           {'Id': 8,\n",
      "            'Measure': '1010',\n",
      "            'Value': 8201061.0,\n",
      "            'ValueAttribute': 'None',\n",
      "            'WijkenEnBuurten': 'NL00'},\n",
      "           {'Id': 9,\n",
      "            'Measure': '1020',\n",
      "            'Value': 6718468.0,\n",
      "            'ValueAttribute': 'None',\n",
      "            'WijkenEnBuurten': 'NL00'},\n",
      "           {'Id': 10,\n",
      "            'Measure': '1080',\n",
      "            'Value': 1302258.0,\n",
      "            'ValueAttribute': 'None',\n",
      "            'WijkenEnBuurten': 'NL00'},\n",
      "           {'Id': 11,\n",
      "            'Measure': '1050',\n",
      "            'Value': 859720.0,\n",
      "            'ValueAttribute': 'None',\n",
      "            'WijkenEnBuurten': 'NL00'},\n",
      "           {'Id': 12,\n",
      "            'Measure': '2012655',\n",
      "            'Value': 1689030.0,\n",
      "            'ValueAttribute': 'None',\n",
      "            'WijkenEnBuurten': 'NL00'},\n",
      "           {'Id': 13,\n",
      "            'Measure': '2012657_2',\n",
      "            'Value': 2173723.0,\n",
      "            'ValueAttribute': 'None',\n",
      "            'WijkenEnBuurten': 'NL00'},\n",
      "           {'Id': 14,\n",
      "            'Measure': 'H008673',\n",
      "            'Value': 391088.0,\n",
      "            'ValueAttribute': 'None',\n",
      "            'WijkenEnBuurten': 'NL00'},\n",
      "           {'Id': 15,\n",
      "            'Measure': 'H007119',\n",
      "            'Value': 152934.0,\n",
      "            'ValueAttribute': 'None',\n",
      "            'WijkenEnBuurten': 'NL00'},\n",
      "           {'Id': 16,\n",
      "            'Measure': 'H008751',\n",
      "            'Value': 349978.0,\n",
      "            'ValueAttribute': 'None',\n",
      "            'WijkenEnBuurten': 'NL00'},\n",
      "           {'Id': 17,\n",
      "            'Measure': 'H008766',\n",
      "            'Value': 400367.0,\n",
      "            'ValueAttribute': 'None',\n",
      "            'WijkenEnBuurten': 'NL00'},\n",
      "           {'Id': 18,\n",
      "            'Measure': 'A008187',\n",
      "            'Value': 879356.0,\n",
      "            'ValueAttribute': 'None',\n",
      "            'WijkenEnBuurten': 'NL00'},\n",
      "           {'Id': 19,\n",
      "            'Measure': 'M000173_1',\n",
      "            'Value': 169836.0,\n",
      "            'ValueAttribute': 'None',\n",
      "            'WijkenEnBuurten': 'NL00'},\n",
      "           {'Id': 20,\n",
      "            'Measure': 'M000173_2',\n",
      "            'Value': 9.0,\n",
      "            'ValueAttribute': 'None',\n",
      "            'WijkenEnBuurten': 'NL00'},\n",
      "           {'Id': 21,\n",
      "            'Measure': 'M000179_1',\n",
      "            'Value': 150214.0,\n",
      "            'ValueAttribute': 'None',\n",
      "            'WijkenEnBuurten': 'NL00'},\n",
      "           {'Id': 22,\n",
      "            'Measure': 'M000179_2',\n",
      "            'Value': 8.0,\n",
      "            'ValueAttribute': 'None',\n",
      "            'WijkenEnBuurten': 'NL00'},\n",
      "           {'Id': 23,\n",
      "            'Measure': '1050010_2',\n",
      "            'Value': 7794075.0,\n",
      "            'ValueAttribute': 'None',\n",
      "            'WijkenEnBuurten': 'NL00'},\n",
      "           {'Id': 24,\n",
      "            'Measure': '1050015',\n",
      "            'Value': 2961228.0,\n",
      "            'ValueAttribute': 'None',\n",
      "            'WijkenEnBuurten': 'NL00'},\n",
      "           {'Id': 25,\n",
      "            'Measure': '1016040',\n",
      "            'Value': 2247191.0,\n",
      "            'ValueAttribute': 'None',\n",
      "            'WijkenEnBuurten': 'NL00'},\n",
      "           {'Id': 26,\n",
      "            'Measure': '1016030',\n",
      "            'Value': 2585656.0,\n",
      "            'ValueAttribute': 'None',\n",
      "            'WijkenEnBuurten': 'NL00'},\n",
      "           {'Id': 27,\n",
      "            'Measure': 'M000114',\n",
      "            'Value': 2.2,\n",
      "            'ValueAttribute': 'None',\n",
      "            'WijkenEnBuurten': 'NL00'},\n",
      "           {'Id': 28,\n",
      "            'Measure': 'M000100',\n",
      "            'Value': 507.0,\n",
      "            'ValueAttribute': 'None',\n",
      "            'WijkenEnBuurten': 'NL00'},\n",
      "           {'Id': 29,\n",
      "            'Measure': 'M000297',\n",
      "            'Value': 7686175.0,\n",
      "            'ValueAttribute': 'None',\n",
      "            'WijkenEnBuurten': 'NL00'},\n",
      "           {'Id': 30,\n",
      "            'Measure': 'M003039',\n",
      "            'Value': 216.0,\n",
      "            'ValueAttribute': 'None',\n",
      "            'WijkenEnBuurten': 'NL00'},\n",
      "           {'Id': 31,\n",
      "            'Measure': 'ZW10290',\n",
      "            'Value': 64.0,\n",
      "            'ValueAttribute': 'None',\n",
      "            'WijkenEnBuurten': 'NL00'},\n",
      "           {'Id': 32,\n",
      "            'Measure': 'ZW10340',\n",
      "            'Value': 36.0,\n",
      "            'ValueAttribute': 'None',\n",
      "            'WijkenEnBuurten': 'NL00'},\n",
      "           {'Id': 33,\n",
      "            'Measure': 'A028725',\n",
      "            'Value': 95.0,\n",
      "            'ValueAttribute': 'None',\n",
      "            'WijkenEnBuurten': 'NL00'},\n",
      "           {'Id': 34,\n",
      "            'Measure': 'A028726',\n",
      "            'Value': 5.0,\n",
      "            'ValueAttribute': 'None',\n",
      "            'WijkenEnBuurten': 'NL00'},\n",
      "           {'Id': 35,\n",
      "            'Measure': '1014800_1',\n",
      "            'Value': 56.0,\n",
      "            'ValueAttribute': 'None',\n",
      "            'WijkenEnBuurten': 'NL00'},\n",
      "           {'Id': 36,\n",
      "            'Measure': '1014850_2',\n",
      "            'Value': 43.0,\n",
      "            'ValueAttribute': 'None',\n",
      "            'WijkenEnBuurten': 'NL00'},\n",
      "           {'Id': 37,\n",
      "            'Measure': 'A047047',\n",
      "            'Value': 29.0,\n",
      "            'ValueAttribute': 'None',\n",
      "            'WijkenEnBuurten': 'NL00'},\n",
      "           {'Id': 38,\n",
      "            'Measure': 'A047048',\n",
      "            'Value': 13.0,\n",
      "            'ValueAttribute': 'None',\n",
      "            'WijkenEnBuurten': 'NL00'},\n",
      "           {'Id': 39,\n",
      "            'Measure': 'A047051',\n",
      "            'Value': 1.0,\n",
      "            'ValueAttribute': 'None',\n",
      "            'WijkenEnBuurten': 'NL00'},\n",
      "           {'Id': 40,\n",
      "            'Measure': 'ZW25808',\n",
      "            'Value': 85.0,\n",
      "            'ValueAttribute': 'None',\n",
      "            'WijkenEnBuurten': 'NL00'},\n",
      "           {'Id': 41,\n",
      "            'Measure': 'ZW25807',\n",
      "            'Value': 15.0,\n",
      "            'ValueAttribute': 'None',\n",
      "            'WijkenEnBuurten': 'NL00'},\n",
      "           {'Id': 42,\n",
      "            'Measure': 'M000221_2',\n",
      "            'Value': 2860.0,\n",
      "            'ValueAttribute': 'None',\n",
      "            'WijkenEnBuurten': 'NL00'},\n",
      "           {'Id': 43,\n",
      "            'Measure': 'ZW25810_1',\n",
      "            'Value': 2050.0,\n",
      "            'ValueAttribute': 'None',\n",
      "            'WijkenEnBuurten': 'NL00'},\n",
      "           {'Id': 44,\n",
      "            'Measure': 'ZW25805_1',\n",
      "            'Value': 2990.0,\n",
      "            'ValueAttribute': 'None',\n",
      "            'WijkenEnBuurten': 'NL00'},\n",
      "           {'Id': 45,\n",
      "            'Measure': 'ZW25806_1',\n",
      "            'Value': 3100.0,\n",
      "            'ValueAttribute': 'None',\n",
      "            'WijkenEnBuurten': 'NL00'},\n",
      "           {'Id': 46,\n",
      "            'Measure': 'ZW10300_1',\n",
      "            'Value': 3430.0,\n",
      "            'ValueAttribute': 'None',\n",
      "            'WijkenEnBuurten': 'NL00'},\n",
      "           {'Id': 47,\n",
      "            'Measure': 'ZW10320_1',\n",
      "            'Value': 4040.0,\n",
      "            'ValueAttribute': 'None',\n",
      "            'WijkenEnBuurten': 'NL00'},\n",
      "           {'Id': 48,\n",
      "            'Measure': '1014850_3',\n",
      "            'Value': 2210.0,\n",
      "            'ValueAttribute': 'None',\n",
      "            'WijkenEnBuurten': 'NL00'},\n",
      "           {'Id': 49,\n",
      "            'Measure': '1014800_2',\n",
      "            'Value': 3330.0,\n",
      "            'ValueAttribute': 'None',\n",
      "            'WijkenEnBuurten': 'NL00'},\n",
      "           {'Id': 50,\n",
      "            'Measure': 'M000219_2',\n",
      "            'Value': 1240.0,\n",
      "            'ValueAttribute': 'None',\n",
      "            'WijkenEnBuurten': 'NL00'},\n",
      "           {'Id': 51,\n",
      "            'Measure': 'ZW25810_2',\n",
      "            'Value': 840.0,\n",
      "            'ValueAttribute': 'None',\n",
      "            'WijkenEnBuurten': 'NL00'},\n",
      "           {'Id': 52,\n",
      "            'Measure': 'ZW25805_2',\n",
      "            'Value': 1190.0,\n",
      "            'ValueAttribute': 'None',\n",
      "            'WijkenEnBuurten': 'NL00'},\n",
      "           {'Id': 53,\n",
      "            'Measure': 'ZW25806_2',\n",
      "            'Value': 1430.0,\n",
      "            'ValueAttribute': 'None',\n",
      "            'WijkenEnBuurten': 'NL00'},\n",
      "           {'Id': 54,\n",
      "            'Measure': 'ZW10300_2',\n",
      "            'Value': 1680.0,\n",
      "            'ValueAttribute': 'None',\n",
      "            'WijkenEnBuurten': 'NL00'},\n",
      "           {'Id': 55,\n",
      "            'Measure': 'ZW10320_2',\n",
      "            'Value': 2200.0,\n",
      "            'ValueAttribute': 'None',\n",
      "            'WijkenEnBuurten': 'NL00'},\n",
      "           {'Id': 56,\n",
      "            'Measure': '1014850_4',\n",
      "            'Value': 1010.0,\n",
      "            'ValueAttribute': 'None',\n",
      "            'WijkenEnBuurten': 'NL00'},\n",
      "           {'Id': 57,\n",
      "            'Measure': '1014800_3',\n",
      "            'Value': 1470.0,\n",
      "            'ValueAttribute': 'None',\n",
      "            'WijkenEnBuurten': 'NL00'},\n",
      "           {'Id': 58,\n",
      "            'Measure': 'M000369',\n",
      "            'Value': 5.6,\n",
      "            'ValueAttribute': 'None',\n",
      "            'WijkenEnBuurten': 'NL00'},\n",
      "           {'Id': 59,\n",
      "            'Measure': 'M000232',\n",
      "            'Value': 13396700.0,\n",
      "            'ValueAttribute': 'None',\n",
      "            'WijkenEnBuurten': 'NL00'},\n",
      "           {'Id': 60,\n",
      "            'Measure': 'M000223',\n",
      "            'Value': 32.0,\n",
      "            'ValueAttribute': 'None',\n",
      "            'WijkenEnBuurten': 'NL00'},\n",
      "           {'Id': 61,\n",
      "            'Measure': 'M000224',\n",
      "            'Value': 25.7,\n",
      "            'ValueAttribute': 'None',\n",
      "            'WijkenEnBuurten': 'NL00'},\n",
      "           {'Id': 62,\n",
      "            'Measure': 'D000187',\n",
      "            'Value': 40.0,\n",
      "            'ValueAttribute': 'None',\n",
      "            'WijkenEnBuurten': 'NL00'},\n",
      "           {'Id': 63,\n",
      "            'Measure': 'D000185',\n",
      "            'Value': 20.0,\n",
      "            'ValueAttribute': 'None',\n",
      "            'WijkenEnBuurten': 'NL00'},\n",
      "           {'Id': 64,\n",
      "            'Measure': 'M000302',\n",
      "            'Value': 59.3,\n",
      "            'ValueAttribute': 'None',\n",
      "            'WijkenEnBuurten': 'NL00'},\n",
      "           {'Id': 65,\n",
      "            'Measure': 'D000186',\n",
      "            'Value': 40.0,\n",
      "            'ValueAttribute': 'None',\n",
      "            'WijkenEnBuurten': 'NL00'},\n",
      "           {'Id': 66,\n",
      "            'Measure': 'D000184',\n",
      "            'Value': 20.0,\n",
      "            'ValueAttribute': 'None',\n",
      "            'WijkenEnBuurten': 'NL00'},\n",
      "           {'Id': 67,\n",
      "            'Measure': 'D000227',\n",
      "            'Value': 7.9,\n",
      "            'ValueAttribute': 'None',\n",
      "            'WijkenEnBuurten': 'NL00'},\n",
      "           {'Id': 68,\n",
      "            'Measure': 'M000226',\n",
      "            'Value': 7.2,\n",
      "            'ValueAttribute': 'None',\n",
      "            'WijkenEnBuurten': 'NL00'},\n",
      "           {'Id': 69,\n",
      "            'Measure': 'D006842',\n",
      "            'Value': 471190.0,\n",
      "            'ValueAttribute': 'None',\n",
      "            'WijkenEnBuurten': 'NL00'},\n",
      "           {'Id': 70,\n",
      "            'Measure': 'D006837',\n",
      "            'Value': 744330.0,\n",
      "            'ValueAttribute': 'None',\n",
      "            'WijkenEnBuurten': 'NL00'},\n",
      "           {'Id': 71,\n",
      "            'Measure': 'D001827',\n",
      "            'Value': 340610.0,\n",
      "            'ValueAttribute': 'None',\n",
      "            'WijkenEnBuurten': 'NL00'},\n",
      "           {'Id': 72,\n",
      "            'Measure': 'D000193',\n",
      "            'Value': 3015730.0,\n",
      "            'ValueAttribute': 'None',\n",
      "            'WijkenEnBuurten': 'NL00'},\n",
      "           {'Id': 73,\n",
      "            'Measure': 'M000200_2',\n",
      "            'Value': 1508540.0,\n",
      "            'ValueAttribute': 'None',\n",
      "            'WijkenEnBuurten': 'NL00'},\n",
      "           {'Id': 74,\n",
      "            'Measure': '301000',\n",
      "            'Value': 74815.0,\n",
      "            'ValueAttribute': 'None',\n",
      "            'WijkenEnBuurten': 'NL00'},\n",
      "           {'Id': 75,\n",
      "            'Measure': '300003',\n",
      "            'Value': 230745.0,\n",
      "            'ValueAttribute': 'None',\n",
      "            'WijkenEnBuurten': 'NL00'},\n",
      "           {'Id': 76,\n",
      "            'Measure': '300005',\n",
      "            'Value': 325275.0,\n",
      "            'ValueAttribute': 'None',\n",
      "            'WijkenEnBuurten': 'NL00'},\n",
      "           {'Id': 77,\n",
      "            'Measure': '383105',\n",
      "            'Value': 129490.0,\n",
      "            'ValueAttribute': 'None',\n",
      "            'WijkenEnBuurten': 'NL00'},\n",
      "           {'Id': 78,\n",
      "            'Measure': '300009',\n",
      "            'Value': 151660.0,\n",
      "            'ValueAttribute': 'None',\n",
      "            'WijkenEnBuurten': 'NL00'},\n",
      "           {'Id': 79,\n",
      "            'Measure': '300010',\n",
      "            'Value': 397200.0,\n",
      "            'ValueAttribute': 'None',\n",
      "            'WijkenEnBuurten': 'NL00'},\n",
      "           {'Id': 80,\n",
      "            'Measure': '300014',\n",
      "            'Value': 199360.0,\n",
      "            'ValueAttribute': 'None',\n",
      "            'WijkenEnBuurten': 'NL00'},\n",
      "           {'Id': 81,\n",
      "            'Measure': 'A018943_2',\n",
      "            'Value': 8222975.0,\n",
      "            'ValueAttribute': 'None',\n",
      "            'WijkenEnBuurten': 'NL00'},\n",
      "           {'Id': 82,\n",
      "            'Measure': '40001',\n",
      "            'Value': 2717530.0,\n",
      "            'ValueAttribute': 'None',\n",
      "            'WijkenEnBuurten': 'NL00'},\n",
      "           {'Id': 83,\n",
      "            'Measure': '72003',\n",
      "            'Value': 5505445.0,\n",
      "            'ValueAttribute': 'None',\n",
      "            'WijkenEnBuurten': 'NL00'},\n",
      "           {'Id': 84,\n",
      "            'Measure': 'A019276',\n",
      "            'Value': 6509000.0,\n",
      "            'ValueAttribute': 'None',\n",
      "            'WijkenEnBuurten': 'NL00'},\n",
      "           {'Id': 85,\n",
      "            'Measure': 'D001045',\n",
      "            'Value': 1713975.0,\n",
      "            'ValueAttribute': 'None',\n",
      "            'WijkenEnBuurten': 'NL00'},\n",
      "           {'Id': 86,\n",
      "            'Measure': 'M000368',\n",
      "            'Value': 1.1,\n",
      "            'ValueAttribute': 'None',\n",
      "            'WijkenEnBuurten': 'NL00'},\n",
      "           {'Id': 87,\n",
      "            'Measure': 'A018943_5',\n",
      "            'Value': 244.0,\n",
      "            'ValueAttribute': 'None',\n",
      "            'WijkenEnBuurten': 'NL00'},\n",
      "           {'Id': 88,\n",
      "            'Measure': 'A018944',\n",
      "            'Value': 655990.0,\n",
      "            'ValueAttribute': 'None',\n",
      "            'WijkenEnBuurten': 'NL00'},\n",
      "           {'Id': 89,\n",
      "            'Measure': 'D000028',\n",
      "            'Value': 1.0,\n",
      "            'ValueAttribute': 'None',\n",
      "            'WijkenEnBuurten': 'NL00'},\n",
      "           {'Id': 90,\n",
      "            'Measure': 'D000025',\n",
      "            'Value': 0.9,\n",
      "            'ValueAttribute': 'None',\n",
      "            'WijkenEnBuurten': 'NL00'},\n",
      "           {'Id': 91,\n",
      "            'Measure': 'D000029',\n",
      "            'Value': 0.8,\n",
      "            'ValueAttribute': 'None',\n",
      "            'WijkenEnBuurten': 'NL00'},\n",
      "           {'Id': 92,\n",
      "            'Measure': 'D000045',\n",
      "            'Value': 0.7,\n",
      "            'ValueAttribute': 'None',\n",
      "            'WijkenEnBuurten': 'NL00'},\n",
      "           {'Id': 93,\n",
      "            'Measure': 'D000263',\n",
      "            'Value': 11.2,\n",
      "            'ValueAttribute': 'None',\n",
      "            'WijkenEnBuurten': 'NL00'},\n",
      "           {'Id': 94,\n",
      "            'Measure': 'T001455_2',\n",
      "            'Value': 4154302.0,\n",
      "            'ValueAttribute': 'None',\n",
      "            'WijkenEnBuurten': 'NL00'},\n",
      "           {'Id': 95,\n",
      "            'Measure': 'A047044',\n",
      "            'Value': 3367996.0,\n",
      "            'ValueAttribute': 'None',\n",
      "            'WijkenEnBuurten': 'NL00'},\n",
      "           {'Id': 96,\n",
      "            'Measure': 'A047040',\n",
      "            'Value': 786306.0,\n",
      "            'ValueAttribute': 'None',\n",
      "            'WijkenEnBuurten': 'NL00'},\n",
      "           {'Id': 97,\n",
      "            'Measure': 'ST0001',\n",
      "            'Value': 2.0,\n",
      "            'ValueAttribute': 'None',\n",
      "            'WijkenEnBuurten': 'NL00'},\n",
      "           {'Id': 98,\n",
      "            'Measure': 'ST0003',\n",
      "            'Value': 1969.0,\n",
      "            'ValueAttribute': 'None',\n",
      "            'WijkenEnBuurten': 'NL00'},\n",
      "           {'Id': 99,\n",
      "            'Measure': 'T001036',\n",
      "            'Value': 25286.0,\n",
      "            'ValueAttribute': 'None',\n",
      "            'WijkenEnBuurten': 'GM1680'}]}\n"
     ]
    }
   ],
   "source": [
    "\n",
    "# Print data returned (parsing as JSON)\n",
    "payload = response.json()  # Parse `response.text` into JSON\n",
    "\n",
    "import pprint\n",
    "pp = pprint.PrettyPrinter(indent=1)\n",
    "pp.pprint(payload)\n",
    "# NOTE: Could use print(response.json()) but this wouldn't be formatted nicely"
   ],
   "metadata": {
    "collapsed": false
   }
  },
  {
   "cell_type": "markdown",
   "metadata": {
    "id": "9C-GT7DSZipK"
   },
   "source": [
    "---\n",
    "\n",
    "**Tip:** it's easy to forget what attributes a variable like `response` has - was it `status_code` or `status`?\n",
    "Use the function `dir` to list the contents of a variable.\n",
    "\n",
    "``` python\n",
    "dir(response)\n",
    "```\n",
    "\n",
    "If you're in a jupyter notebook you can also type \"response.\" and then press `TAB` and an autocomplete bar will pop up.\n",
    "\n",
    "---"
   ]
  },
  {
   "cell_type": "markdown",
   "metadata": {
    "id": "x3h6BQ1-ZipL"
   },
   "source": [
    "**SUCCESS!** But what's the structure of our data?"
   ]
  },
  {
   "cell_type": "code",
   "execution_count": 144,
   "metadata": {
    "id": "aolPFJ3rZipM",
    "outputId": "0013575f-f131-45ab-8e52-e2f41cfce62e"
   },
   "outputs": [
    {
     "data": {
      "text/plain": "[{'Id': 0,\n  'Measure': 'T001036',\n  'ValueAttribute': 'None',\n  'Value': 17081507.0,\n  'WijkenEnBuurten': 'NL00'},\n {'Id': 1,\n  'Measure': '3000',\n  'ValueAttribute': 'None',\n  'Value': 8475102.0,\n  'WijkenEnBuurten': 'NL00'},\n {'Id': 2,\n  'Measure': '4000',\n  'ValueAttribute': 'None',\n  'Value': 8606405.0,\n  'WijkenEnBuurten': 'NL00'},\n {'Id': 3,\n  'Measure': '10680',\n  'ValueAttribute': 'None',\n  'Value': 2781768.0,\n  'WijkenEnBuurten': 'NL00'},\n {'Id': 4,\n  'Measure': '53050',\n  'ValueAttribute': 'None',\n  'Value': 2101648.0,\n  'WijkenEnBuurten': 'NL00'},\n {'Id': 5,\n  'Measure': '53310',\n  'ValueAttribute': 'None',\n  'Value': 4214276.0,\n  'WijkenEnBuurten': 'NL00'},\n {'Id': 6,\n  'Measure': '53715',\n  'ValueAttribute': 'None',\n  'Value': 4824155.0,\n  'WijkenEnBuurten': 'NL00'},\n {'Id': 7,\n  'Measure': '80200',\n  'ValueAttribute': 'None',\n  'Value': 3159660.0,\n  'WijkenEnBuurten': 'NL00'},\n {'Id': 8,\n  'Measure': '1010',\n  'ValueAttribute': 'None',\n  'Value': 8201061.0,\n  'WijkenEnBuurten': 'NL00'},\n {'Id': 9,\n  'Measure': '1020',\n  'ValueAttribute': 'None',\n  'Value': 6718468.0,\n  'WijkenEnBuurten': 'NL00'},\n {'Id': 10,\n  'Measure': '1080',\n  'ValueAttribute': 'None',\n  'Value': 1302258.0,\n  'WijkenEnBuurten': 'NL00'},\n {'Id': 11,\n  'Measure': '1050',\n  'ValueAttribute': 'None',\n  'Value': 859720.0,\n  'WijkenEnBuurten': 'NL00'},\n {'Id': 12,\n  'Measure': '2012655',\n  'ValueAttribute': 'None',\n  'Value': 1689030.0,\n  'WijkenEnBuurten': 'NL00'},\n {'Id': 13,\n  'Measure': '2012657_2',\n  'ValueAttribute': 'None',\n  'Value': 2173723.0,\n  'WijkenEnBuurten': 'NL00'},\n {'Id': 14,\n  'Measure': 'H008673',\n  'ValueAttribute': 'None',\n  'Value': 391088.0,\n  'WijkenEnBuurten': 'NL00'},\n {'Id': 15,\n  'Measure': 'H007119',\n  'ValueAttribute': 'None',\n  'Value': 152934.0,\n  'WijkenEnBuurten': 'NL00'},\n {'Id': 16,\n  'Measure': 'H008751',\n  'ValueAttribute': 'None',\n  'Value': 349978.0,\n  'WijkenEnBuurten': 'NL00'},\n {'Id': 17,\n  'Measure': 'H008766',\n  'ValueAttribute': 'None',\n  'Value': 400367.0,\n  'WijkenEnBuurten': 'NL00'},\n {'Id': 18,\n  'Measure': 'A008187',\n  'ValueAttribute': 'None',\n  'Value': 879356.0,\n  'WijkenEnBuurten': 'NL00'},\n {'Id': 19,\n  'Measure': 'M000173_1',\n  'ValueAttribute': 'None',\n  'Value': 169836.0,\n  'WijkenEnBuurten': 'NL00'},\n {'Id': 20,\n  'Measure': 'M000173_2',\n  'ValueAttribute': 'None',\n  'Value': 9.0,\n  'WijkenEnBuurten': 'NL00'},\n {'Id': 21,\n  'Measure': 'M000179_1',\n  'ValueAttribute': 'None',\n  'Value': 150214.0,\n  'WijkenEnBuurten': 'NL00'},\n {'Id': 22,\n  'Measure': 'M000179_2',\n  'ValueAttribute': 'None',\n  'Value': 8.0,\n  'WijkenEnBuurten': 'NL00'},\n {'Id': 23,\n  'Measure': '1050010_2',\n  'ValueAttribute': 'None',\n  'Value': 7794075.0,\n  'WijkenEnBuurten': 'NL00'},\n {'Id': 24,\n  'Measure': '1050015',\n  'ValueAttribute': 'None',\n  'Value': 2961228.0,\n  'WijkenEnBuurten': 'NL00'},\n {'Id': 25,\n  'Measure': '1016040',\n  'ValueAttribute': 'None',\n  'Value': 2247191.0,\n  'WijkenEnBuurten': 'NL00'},\n {'Id': 26,\n  'Measure': '1016030',\n  'ValueAttribute': 'None',\n  'Value': 2585656.0,\n  'WijkenEnBuurten': 'NL00'},\n {'Id': 27,\n  'Measure': 'M000114',\n  'ValueAttribute': 'None',\n  'Value': 2.2,\n  'WijkenEnBuurten': 'NL00'},\n {'Id': 28,\n  'Measure': 'M000100',\n  'ValueAttribute': 'None',\n  'Value': 507.0,\n  'WijkenEnBuurten': 'NL00'},\n {'Id': 29,\n  'Measure': 'M000297',\n  'ValueAttribute': 'None',\n  'Value': 7686175.0,\n  'WijkenEnBuurten': 'NL00'},\n {'Id': 30,\n  'Measure': 'M003039',\n  'ValueAttribute': 'None',\n  'Value': 216.0,\n  'WijkenEnBuurten': 'NL00'},\n {'Id': 31,\n  'Measure': 'ZW10290',\n  'ValueAttribute': 'None',\n  'Value': 64.0,\n  'WijkenEnBuurten': 'NL00'},\n {'Id': 32,\n  'Measure': 'ZW10340',\n  'ValueAttribute': 'None',\n  'Value': 36.0,\n  'WijkenEnBuurten': 'NL00'},\n {'Id': 33,\n  'Measure': 'A028725',\n  'ValueAttribute': 'None',\n  'Value': 95.0,\n  'WijkenEnBuurten': 'NL00'},\n {'Id': 34,\n  'Measure': 'A028726',\n  'ValueAttribute': 'None',\n  'Value': 5.0,\n  'WijkenEnBuurten': 'NL00'},\n {'Id': 35,\n  'Measure': '1014800_1',\n  'ValueAttribute': 'None',\n  'Value': 56.0,\n  'WijkenEnBuurten': 'NL00'},\n {'Id': 36,\n  'Measure': '1014850_2',\n  'ValueAttribute': 'None',\n  'Value': 43.0,\n  'WijkenEnBuurten': 'NL00'},\n {'Id': 37,\n  'Measure': 'A047047',\n  'ValueAttribute': 'None',\n  'Value': 29.0,\n  'WijkenEnBuurten': 'NL00'},\n {'Id': 38,\n  'Measure': 'A047048',\n  'ValueAttribute': 'None',\n  'Value': 13.0,\n  'WijkenEnBuurten': 'NL00'},\n {'Id': 39,\n  'Measure': 'A047051',\n  'ValueAttribute': 'None',\n  'Value': 1.0,\n  'WijkenEnBuurten': 'NL00'},\n {'Id': 40,\n  'Measure': 'ZW25808',\n  'ValueAttribute': 'None',\n  'Value': 85.0,\n  'WijkenEnBuurten': 'NL00'},\n {'Id': 41,\n  'Measure': 'ZW25807',\n  'ValueAttribute': 'None',\n  'Value': 15.0,\n  'WijkenEnBuurten': 'NL00'},\n {'Id': 42,\n  'Measure': 'M000221_2',\n  'ValueAttribute': 'None',\n  'Value': 2860.0,\n  'WijkenEnBuurten': 'NL00'},\n {'Id': 43,\n  'Measure': 'ZW25810_1',\n  'ValueAttribute': 'None',\n  'Value': 2050.0,\n  'WijkenEnBuurten': 'NL00'},\n {'Id': 44,\n  'Measure': 'ZW25805_1',\n  'ValueAttribute': 'None',\n  'Value': 2990.0,\n  'WijkenEnBuurten': 'NL00'},\n {'Id': 45,\n  'Measure': 'ZW25806_1',\n  'ValueAttribute': 'None',\n  'Value': 3100.0,\n  'WijkenEnBuurten': 'NL00'},\n {'Id': 46,\n  'Measure': 'ZW10300_1',\n  'ValueAttribute': 'None',\n  'Value': 3430.0,\n  'WijkenEnBuurten': 'NL00'},\n {'Id': 47,\n  'Measure': 'ZW10320_1',\n  'ValueAttribute': 'None',\n  'Value': 4040.0,\n  'WijkenEnBuurten': 'NL00'},\n {'Id': 48,\n  'Measure': '1014850_3',\n  'ValueAttribute': 'None',\n  'Value': 2210.0,\n  'WijkenEnBuurten': 'NL00'},\n {'Id': 49,\n  'Measure': '1014800_2',\n  'ValueAttribute': 'None',\n  'Value': 3330.0,\n  'WijkenEnBuurten': 'NL00'},\n {'Id': 50,\n  'Measure': 'M000219_2',\n  'ValueAttribute': 'None',\n  'Value': 1240.0,\n  'WijkenEnBuurten': 'NL00'},\n {'Id': 51,\n  'Measure': 'ZW25810_2',\n  'ValueAttribute': 'None',\n  'Value': 840.0,\n  'WijkenEnBuurten': 'NL00'},\n {'Id': 52,\n  'Measure': 'ZW25805_2',\n  'ValueAttribute': 'None',\n  'Value': 1190.0,\n  'WijkenEnBuurten': 'NL00'},\n {'Id': 53,\n  'Measure': 'ZW25806_2',\n  'ValueAttribute': 'None',\n  'Value': 1430.0,\n  'WijkenEnBuurten': 'NL00'},\n {'Id': 54,\n  'Measure': 'ZW10300_2',\n  'ValueAttribute': 'None',\n  'Value': 1680.0,\n  'WijkenEnBuurten': 'NL00'},\n {'Id': 55,\n  'Measure': 'ZW10320_2',\n  'ValueAttribute': 'None',\n  'Value': 2200.0,\n  'WijkenEnBuurten': 'NL00'},\n {'Id': 56,\n  'Measure': '1014850_4',\n  'ValueAttribute': 'None',\n  'Value': 1010.0,\n  'WijkenEnBuurten': 'NL00'},\n {'Id': 57,\n  'Measure': '1014800_3',\n  'ValueAttribute': 'None',\n  'Value': 1470.0,\n  'WijkenEnBuurten': 'NL00'},\n {'Id': 58,\n  'Measure': 'M000369',\n  'ValueAttribute': 'None',\n  'Value': 5.6,\n  'WijkenEnBuurten': 'NL00'},\n {'Id': 59,\n  'Measure': 'M000232',\n  'ValueAttribute': 'None',\n  'Value': 13396700.0,\n  'WijkenEnBuurten': 'NL00'},\n {'Id': 60,\n  'Measure': 'M000223',\n  'ValueAttribute': 'None',\n  'Value': 32.0,\n  'WijkenEnBuurten': 'NL00'},\n {'Id': 61,\n  'Measure': 'M000224',\n  'ValueAttribute': 'None',\n  'Value': 25.7,\n  'WijkenEnBuurten': 'NL00'},\n {'Id': 62,\n  'Measure': 'D000187',\n  'ValueAttribute': 'None',\n  'Value': 40.0,\n  'WijkenEnBuurten': 'NL00'},\n {'Id': 63,\n  'Measure': 'D000185',\n  'ValueAttribute': 'None',\n  'Value': 20.0,\n  'WijkenEnBuurten': 'NL00'},\n {'Id': 64,\n  'Measure': 'M000302',\n  'ValueAttribute': 'None',\n  'Value': 59.3,\n  'WijkenEnBuurten': 'NL00'},\n {'Id': 65,\n  'Measure': 'D000186',\n  'ValueAttribute': 'None',\n  'Value': 40.0,\n  'WijkenEnBuurten': 'NL00'},\n {'Id': 66,\n  'Measure': 'D000184',\n  'ValueAttribute': 'None',\n  'Value': 20.0,\n  'WijkenEnBuurten': 'NL00'},\n {'Id': 67,\n  'Measure': 'D000227',\n  'ValueAttribute': 'None',\n  'Value': 7.9,\n  'WijkenEnBuurten': 'NL00'},\n {'Id': 68,\n  'Measure': 'M000226',\n  'ValueAttribute': 'None',\n  'Value': 7.2,\n  'WijkenEnBuurten': 'NL00'},\n {'Id': 69,\n  'Measure': 'D006842',\n  'ValueAttribute': 'None',\n  'Value': 471190.0,\n  'WijkenEnBuurten': 'NL00'},\n {'Id': 70,\n  'Measure': 'D006837',\n  'ValueAttribute': 'None',\n  'Value': 744330.0,\n  'WijkenEnBuurten': 'NL00'},\n {'Id': 71,\n  'Measure': 'D001827',\n  'ValueAttribute': 'None',\n  'Value': 340610.0,\n  'WijkenEnBuurten': 'NL00'},\n {'Id': 72,\n  'Measure': 'D000193',\n  'ValueAttribute': 'None',\n  'Value': 3015730.0,\n  'WijkenEnBuurten': 'NL00'},\n {'Id': 73,\n  'Measure': 'M000200_2',\n  'ValueAttribute': 'None',\n  'Value': 1508540.0,\n  'WijkenEnBuurten': 'NL00'},\n {'Id': 74,\n  'Measure': '301000',\n  'ValueAttribute': 'None',\n  'Value': 74815.0,\n  'WijkenEnBuurten': 'NL00'},\n {'Id': 75,\n  'Measure': '300003',\n  'ValueAttribute': 'None',\n  'Value': 230745.0,\n  'WijkenEnBuurten': 'NL00'},\n {'Id': 76,\n  'Measure': '300005',\n  'ValueAttribute': 'None',\n  'Value': 325275.0,\n  'WijkenEnBuurten': 'NL00'},\n {'Id': 77,\n  'Measure': '383105',\n  'ValueAttribute': 'None',\n  'Value': 129490.0,\n  'WijkenEnBuurten': 'NL00'},\n {'Id': 78,\n  'Measure': '300009',\n  'ValueAttribute': 'None',\n  'Value': 151660.0,\n  'WijkenEnBuurten': 'NL00'},\n {'Id': 79,\n  'Measure': '300010',\n  'ValueAttribute': 'None',\n  'Value': 397200.0,\n  'WijkenEnBuurten': 'NL00'},\n {'Id': 80,\n  'Measure': '300014',\n  'ValueAttribute': 'None',\n  'Value': 199360.0,\n  'WijkenEnBuurten': 'NL00'},\n {'Id': 81,\n  'Measure': 'A018943_2',\n  'ValueAttribute': 'None',\n  'Value': 8222975.0,\n  'WijkenEnBuurten': 'NL00'},\n {'Id': 82,\n  'Measure': '40001',\n  'ValueAttribute': 'None',\n  'Value': 2717530.0,\n  'WijkenEnBuurten': 'NL00'},\n {'Id': 83,\n  'Measure': '72003',\n  'ValueAttribute': 'None',\n  'Value': 5505445.0,\n  'WijkenEnBuurten': 'NL00'},\n {'Id': 84,\n  'Measure': 'A019276',\n  'ValueAttribute': 'None',\n  'Value': 6509000.0,\n  'WijkenEnBuurten': 'NL00'},\n {'Id': 85,\n  'Measure': 'D001045',\n  'ValueAttribute': 'None',\n  'Value': 1713975.0,\n  'WijkenEnBuurten': 'NL00'},\n {'Id': 86,\n  'Measure': 'M000368',\n  'ValueAttribute': 'None',\n  'Value': 1.1,\n  'WijkenEnBuurten': 'NL00'},\n {'Id': 87,\n  'Measure': 'A018943_5',\n  'ValueAttribute': 'None',\n  'Value': 244.0,\n  'WijkenEnBuurten': 'NL00'},\n {'Id': 88,\n  'Measure': 'A018944',\n  'ValueAttribute': 'None',\n  'Value': 655990.0,\n  'WijkenEnBuurten': 'NL00'},\n {'Id': 89,\n  'Measure': 'D000028',\n  'ValueAttribute': 'None',\n  'Value': 1.0,\n  'WijkenEnBuurten': 'NL00'},\n {'Id': 90,\n  'Measure': 'D000025',\n  'ValueAttribute': 'None',\n  'Value': 0.9,\n  'WijkenEnBuurten': 'NL00'},\n {'Id': 91,\n  'Measure': 'D000029',\n  'ValueAttribute': 'None',\n  'Value': 0.8,\n  'WijkenEnBuurten': 'NL00'},\n {'Id': 92,\n  'Measure': 'D000045',\n  'ValueAttribute': 'None',\n  'Value': 0.7,\n  'WijkenEnBuurten': 'NL00'},\n {'Id': 93,\n  'Measure': 'D000263',\n  'ValueAttribute': 'None',\n  'Value': 11.2,\n  'WijkenEnBuurten': 'NL00'},\n {'Id': 94,\n  'Measure': 'T001455_2',\n  'ValueAttribute': 'None',\n  'Value': 4154302.0,\n  'WijkenEnBuurten': 'NL00'},\n {'Id': 95,\n  'Measure': 'A047044',\n  'ValueAttribute': 'None',\n  'Value': 3367996.0,\n  'WijkenEnBuurten': 'NL00'},\n {'Id': 96,\n  'Measure': 'A047040',\n  'ValueAttribute': 'None',\n  'Value': 786306.0,\n  'WijkenEnBuurten': 'NL00'},\n {'Id': 97,\n  'Measure': 'ST0001',\n  'ValueAttribute': 'None',\n  'Value': 2.0,\n  'WijkenEnBuurten': 'NL00'},\n {'Id': 98,\n  'Measure': 'ST0003',\n  'ValueAttribute': 'None',\n  'Value': 1969.0,\n  'WijkenEnBuurten': 'NL00'},\n {'Id': 99,\n  'Measure': 'T001036',\n  'ValueAttribute': 'None',\n  'Value': 25286.0,\n  'WijkenEnBuurten': 'GM1680'}]"
     },
     "execution_count": 144,
     "metadata": {},
     "output_type": "execute_result"
    }
   ],
   "source": [
    "payload['value']  # The values returned aren't very informative!"
   ]
  },
  {
   "cell_type": "markdown",
   "source": [
    "### The data is returned in some kind of structure. Let's unpack it."
   ],
   "metadata": {
    "collapsed": false
   }
  },
  {
   "cell_type": "code",
   "execution_count": 145,
   "outputs": [
    {
     "data": {
      "text/plain": "[{'Id': 0,\n  'Measure': 'T001036',\n  'ValueAttribute': 'None',\n  'Value': 17081507.0,\n  'WijkenEnBuurten': 'NL00'},\n {'Id': 1,\n  'Measure': '3000',\n  'ValueAttribute': 'None',\n  'Value': 8475102.0,\n  'WijkenEnBuurten': 'NL00'},\n {'Id': 2,\n  'Measure': '4000',\n  'ValueAttribute': 'None',\n  'Value': 8606405.0,\n  'WijkenEnBuurten': 'NL00'},\n {'Id': 3,\n  'Measure': '10680',\n  'ValueAttribute': 'None',\n  'Value': 2781768.0,\n  'WijkenEnBuurten': 'NL00'},\n {'Id': 4,\n  'Measure': '53050',\n  'ValueAttribute': 'None',\n  'Value': 2101648.0,\n  'WijkenEnBuurten': 'NL00'},\n {'Id': 5,\n  'Measure': '53310',\n  'ValueAttribute': 'None',\n  'Value': 4214276.0,\n  'WijkenEnBuurten': 'NL00'},\n {'Id': 6,\n  'Measure': '53715',\n  'ValueAttribute': 'None',\n  'Value': 4824155.0,\n  'WijkenEnBuurten': 'NL00'},\n {'Id': 7,\n  'Measure': '80200',\n  'ValueAttribute': 'None',\n  'Value': 3159660.0,\n  'WijkenEnBuurten': 'NL00'},\n {'Id': 8,\n  'Measure': '1010',\n  'ValueAttribute': 'None',\n  'Value': 8201061.0,\n  'WijkenEnBuurten': 'NL00'},\n {'Id': 9,\n  'Measure': '1020',\n  'ValueAttribute': 'None',\n  'Value': 6718468.0,\n  'WijkenEnBuurten': 'NL00'},\n {'Id': 10,\n  'Measure': '1080',\n  'ValueAttribute': 'None',\n  'Value': 1302258.0,\n  'WijkenEnBuurten': 'NL00'},\n {'Id': 11,\n  'Measure': '1050',\n  'ValueAttribute': 'None',\n  'Value': 859720.0,\n  'WijkenEnBuurten': 'NL00'},\n {'Id': 12,\n  'Measure': '2012655',\n  'ValueAttribute': 'None',\n  'Value': 1689030.0,\n  'WijkenEnBuurten': 'NL00'},\n {'Id': 13,\n  'Measure': '2012657_2',\n  'ValueAttribute': 'None',\n  'Value': 2173723.0,\n  'WijkenEnBuurten': 'NL00'},\n {'Id': 14,\n  'Measure': 'H008673',\n  'ValueAttribute': 'None',\n  'Value': 391088.0,\n  'WijkenEnBuurten': 'NL00'},\n {'Id': 15,\n  'Measure': 'H007119',\n  'ValueAttribute': 'None',\n  'Value': 152934.0,\n  'WijkenEnBuurten': 'NL00'},\n {'Id': 16,\n  'Measure': 'H008751',\n  'ValueAttribute': 'None',\n  'Value': 349978.0,\n  'WijkenEnBuurten': 'NL00'},\n {'Id': 17,\n  'Measure': 'H008766',\n  'ValueAttribute': 'None',\n  'Value': 400367.0,\n  'WijkenEnBuurten': 'NL00'},\n {'Id': 18,\n  'Measure': 'A008187',\n  'ValueAttribute': 'None',\n  'Value': 879356.0,\n  'WijkenEnBuurten': 'NL00'},\n {'Id': 19,\n  'Measure': 'M000173_1',\n  'ValueAttribute': 'None',\n  'Value': 169836.0,\n  'WijkenEnBuurten': 'NL00'},\n {'Id': 20,\n  'Measure': 'M000173_2',\n  'ValueAttribute': 'None',\n  'Value': 9.0,\n  'WijkenEnBuurten': 'NL00'},\n {'Id': 21,\n  'Measure': 'M000179_1',\n  'ValueAttribute': 'None',\n  'Value': 150214.0,\n  'WijkenEnBuurten': 'NL00'},\n {'Id': 22,\n  'Measure': 'M000179_2',\n  'ValueAttribute': 'None',\n  'Value': 8.0,\n  'WijkenEnBuurten': 'NL00'},\n {'Id': 23,\n  'Measure': '1050010_2',\n  'ValueAttribute': 'None',\n  'Value': 7794075.0,\n  'WijkenEnBuurten': 'NL00'},\n {'Id': 24,\n  'Measure': '1050015',\n  'ValueAttribute': 'None',\n  'Value': 2961228.0,\n  'WijkenEnBuurten': 'NL00'},\n {'Id': 25,\n  'Measure': '1016040',\n  'ValueAttribute': 'None',\n  'Value': 2247191.0,\n  'WijkenEnBuurten': 'NL00'},\n {'Id': 26,\n  'Measure': '1016030',\n  'ValueAttribute': 'None',\n  'Value': 2585656.0,\n  'WijkenEnBuurten': 'NL00'},\n {'Id': 27,\n  'Measure': 'M000114',\n  'ValueAttribute': 'None',\n  'Value': 2.2,\n  'WijkenEnBuurten': 'NL00'},\n {'Id': 28,\n  'Measure': 'M000100',\n  'ValueAttribute': 'None',\n  'Value': 507.0,\n  'WijkenEnBuurten': 'NL00'},\n {'Id': 29,\n  'Measure': 'M000297',\n  'ValueAttribute': 'None',\n  'Value': 7686175.0,\n  'WijkenEnBuurten': 'NL00'},\n {'Id': 30,\n  'Measure': 'M003039',\n  'ValueAttribute': 'None',\n  'Value': 216.0,\n  'WijkenEnBuurten': 'NL00'},\n {'Id': 31,\n  'Measure': 'ZW10290',\n  'ValueAttribute': 'None',\n  'Value': 64.0,\n  'WijkenEnBuurten': 'NL00'},\n {'Id': 32,\n  'Measure': 'ZW10340',\n  'ValueAttribute': 'None',\n  'Value': 36.0,\n  'WijkenEnBuurten': 'NL00'},\n {'Id': 33,\n  'Measure': 'A028725',\n  'ValueAttribute': 'None',\n  'Value': 95.0,\n  'WijkenEnBuurten': 'NL00'},\n {'Id': 34,\n  'Measure': 'A028726',\n  'ValueAttribute': 'None',\n  'Value': 5.0,\n  'WijkenEnBuurten': 'NL00'},\n {'Id': 35,\n  'Measure': '1014800_1',\n  'ValueAttribute': 'None',\n  'Value': 56.0,\n  'WijkenEnBuurten': 'NL00'},\n {'Id': 36,\n  'Measure': '1014850_2',\n  'ValueAttribute': 'None',\n  'Value': 43.0,\n  'WijkenEnBuurten': 'NL00'},\n {'Id': 37,\n  'Measure': 'A047047',\n  'ValueAttribute': 'None',\n  'Value': 29.0,\n  'WijkenEnBuurten': 'NL00'},\n {'Id': 38,\n  'Measure': 'A047048',\n  'ValueAttribute': 'None',\n  'Value': 13.0,\n  'WijkenEnBuurten': 'NL00'},\n {'Id': 39,\n  'Measure': 'A047051',\n  'ValueAttribute': 'None',\n  'Value': 1.0,\n  'WijkenEnBuurten': 'NL00'},\n {'Id': 40,\n  'Measure': 'ZW25808',\n  'ValueAttribute': 'None',\n  'Value': 85.0,\n  'WijkenEnBuurten': 'NL00'},\n {'Id': 41,\n  'Measure': 'ZW25807',\n  'ValueAttribute': 'None',\n  'Value': 15.0,\n  'WijkenEnBuurten': 'NL00'},\n {'Id': 42,\n  'Measure': 'M000221_2',\n  'ValueAttribute': 'None',\n  'Value': 2860.0,\n  'WijkenEnBuurten': 'NL00'},\n {'Id': 43,\n  'Measure': 'ZW25810_1',\n  'ValueAttribute': 'None',\n  'Value': 2050.0,\n  'WijkenEnBuurten': 'NL00'},\n {'Id': 44,\n  'Measure': 'ZW25805_1',\n  'ValueAttribute': 'None',\n  'Value': 2990.0,\n  'WijkenEnBuurten': 'NL00'},\n {'Id': 45,\n  'Measure': 'ZW25806_1',\n  'ValueAttribute': 'None',\n  'Value': 3100.0,\n  'WijkenEnBuurten': 'NL00'},\n {'Id': 46,\n  'Measure': 'ZW10300_1',\n  'ValueAttribute': 'None',\n  'Value': 3430.0,\n  'WijkenEnBuurten': 'NL00'},\n {'Id': 47,\n  'Measure': 'ZW10320_1',\n  'ValueAttribute': 'None',\n  'Value': 4040.0,\n  'WijkenEnBuurten': 'NL00'},\n {'Id': 48,\n  'Measure': '1014850_3',\n  'ValueAttribute': 'None',\n  'Value': 2210.0,\n  'WijkenEnBuurten': 'NL00'},\n {'Id': 49,\n  'Measure': '1014800_2',\n  'ValueAttribute': 'None',\n  'Value': 3330.0,\n  'WijkenEnBuurten': 'NL00'},\n {'Id': 50,\n  'Measure': 'M000219_2',\n  'ValueAttribute': 'None',\n  'Value': 1240.0,\n  'WijkenEnBuurten': 'NL00'},\n {'Id': 51,\n  'Measure': 'ZW25810_2',\n  'ValueAttribute': 'None',\n  'Value': 840.0,\n  'WijkenEnBuurten': 'NL00'},\n {'Id': 52,\n  'Measure': 'ZW25805_2',\n  'ValueAttribute': 'None',\n  'Value': 1190.0,\n  'WijkenEnBuurten': 'NL00'},\n {'Id': 53,\n  'Measure': 'ZW25806_2',\n  'ValueAttribute': 'None',\n  'Value': 1430.0,\n  'WijkenEnBuurten': 'NL00'},\n {'Id': 54,\n  'Measure': 'ZW10300_2',\n  'ValueAttribute': 'None',\n  'Value': 1680.0,\n  'WijkenEnBuurten': 'NL00'},\n {'Id': 55,\n  'Measure': 'ZW10320_2',\n  'ValueAttribute': 'None',\n  'Value': 2200.0,\n  'WijkenEnBuurten': 'NL00'},\n {'Id': 56,\n  'Measure': '1014850_4',\n  'ValueAttribute': 'None',\n  'Value': 1010.0,\n  'WijkenEnBuurten': 'NL00'},\n {'Id': 57,\n  'Measure': '1014800_3',\n  'ValueAttribute': 'None',\n  'Value': 1470.0,\n  'WijkenEnBuurten': 'NL00'},\n {'Id': 58,\n  'Measure': 'M000369',\n  'ValueAttribute': 'None',\n  'Value': 5.6,\n  'WijkenEnBuurten': 'NL00'},\n {'Id': 59,\n  'Measure': 'M000232',\n  'ValueAttribute': 'None',\n  'Value': 13396700.0,\n  'WijkenEnBuurten': 'NL00'},\n {'Id': 60,\n  'Measure': 'M000223',\n  'ValueAttribute': 'None',\n  'Value': 32.0,\n  'WijkenEnBuurten': 'NL00'},\n {'Id': 61,\n  'Measure': 'M000224',\n  'ValueAttribute': 'None',\n  'Value': 25.7,\n  'WijkenEnBuurten': 'NL00'},\n {'Id': 62,\n  'Measure': 'D000187',\n  'ValueAttribute': 'None',\n  'Value': 40.0,\n  'WijkenEnBuurten': 'NL00'},\n {'Id': 63,\n  'Measure': 'D000185',\n  'ValueAttribute': 'None',\n  'Value': 20.0,\n  'WijkenEnBuurten': 'NL00'},\n {'Id': 64,\n  'Measure': 'M000302',\n  'ValueAttribute': 'None',\n  'Value': 59.3,\n  'WijkenEnBuurten': 'NL00'},\n {'Id': 65,\n  'Measure': 'D000186',\n  'ValueAttribute': 'None',\n  'Value': 40.0,\n  'WijkenEnBuurten': 'NL00'},\n {'Id': 66,\n  'Measure': 'D000184',\n  'ValueAttribute': 'None',\n  'Value': 20.0,\n  'WijkenEnBuurten': 'NL00'},\n {'Id': 67,\n  'Measure': 'D000227',\n  'ValueAttribute': 'None',\n  'Value': 7.9,\n  'WijkenEnBuurten': 'NL00'},\n {'Id': 68,\n  'Measure': 'M000226',\n  'ValueAttribute': 'None',\n  'Value': 7.2,\n  'WijkenEnBuurten': 'NL00'},\n {'Id': 69,\n  'Measure': 'D006842',\n  'ValueAttribute': 'None',\n  'Value': 471190.0,\n  'WijkenEnBuurten': 'NL00'},\n {'Id': 70,\n  'Measure': 'D006837',\n  'ValueAttribute': 'None',\n  'Value': 744330.0,\n  'WijkenEnBuurten': 'NL00'},\n {'Id': 71,\n  'Measure': 'D001827',\n  'ValueAttribute': 'None',\n  'Value': 340610.0,\n  'WijkenEnBuurten': 'NL00'},\n {'Id': 72,\n  'Measure': 'D000193',\n  'ValueAttribute': 'None',\n  'Value': 3015730.0,\n  'WijkenEnBuurten': 'NL00'},\n {'Id': 73,\n  'Measure': 'M000200_2',\n  'ValueAttribute': 'None',\n  'Value': 1508540.0,\n  'WijkenEnBuurten': 'NL00'},\n {'Id': 74,\n  'Measure': '301000',\n  'ValueAttribute': 'None',\n  'Value': 74815.0,\n  'WijkenEnBuurten': 'NL00'},\n {'Id': 75,\n  'Measure': '300003',\n  'ValueAttribute': 'None',\n  'Value': 230745.0,\n  'WijkenEnBuurten': 'NL00'},\n {'Id': 76,\n  'Measure': '300005',\n  'ValueAttribute': 'None',\n  'Value': 325275.0,\n  'WijkenEnBuurten': 'NL00'},\n {'Id': 77,\n  'Measure': '383105',\n  'ValueAttribute': 'None',\n  'Value': 129490.0,\n  'WijkenEnBuurten': 'NL00'},\n {'Id': 78,\n  'Measure': '300009',\n  'ValueAttribute': 'None',\n  'Value': 151660.0,\n  'WijkenEnBuurten': 'NL00'},\n {'Id': 79,\n  'Measure': '300010',\n  'ValueAttribute': 'None',\n  'Value': 397200.0,\n  'WijkenEnBuurten': 'NL00'},\n {'Id': 80,\n  'Measure': '300014',\n  'ValueAttribute': 'None',\n  'Value': 199360.0,\n  'WijkenEnBuurten': 'NL00'},\n {'Id': 81,\n  'Measure': 'A018943_2',\n  'ValueAttribute': 'None',\n  'Value': 8222975.0,\n  'WijkenEnBuurten': 'NL00'},\n {'Id': 82,\n  'Measure': '40001',\n  'ValueAttribute': 'None',\n  'Value': 2717530.0,\n  'WijkenEnBuurten': 'NL00'},\n {'Id': 83,\n  'Measure': '72003',\n  'ValueAttribute': 'None',\n  'Value': 5505445.0,\n  'WijkenEnBuurten': 'NL00'},\n {'Id': 84,\n  'Measure': 'A019276',\n  'ValueAttribute': 'None',\n  'Value': 6509000.0,\n  'WijkenEnBuurten': 'NL00'},\n {'Id': 85,\n  'Measure': 'D001045',\n  'ValueAttribute': 'None',\n  'Value': 1713975.0,\n  'WijkenEnBuurten': 'NL00'},\n {'Id': 86,\n  'Measure': 'M000368',\n  'ValueAttribute': 'None',\n  'Value': 1.1,\n  'WijkenEnBuurten': 'NL00'},\n {'Id': 87,\n  'Measure': 'A018943_5',\n  'ValueAttribute': 'None',\n  'Value': 244.0,\n  'WijkenEnBuurten': 'NL00'},\n {'Id': 88,\n  'Measure': 'A018944',\n  'ValueAttribute': 'None',\n  'Value': 655990.0,\n  'WijkenEnBuurten': 'NL00'},\n {'Id': 89,\n  'Measure': 'D000028',\n  'ValueAttribute': 'None',\n  'Value': 1.0,\n  'WijkenEnBuurten': 'NL00'},\n {'Id': 90,\n  'Measure': 'D000025',\n  'ValueAttribute': 'None',\n  'Value': 0.9,\n  'WijkenEnBuurten': 'NL00'},\n {'Id': 91,\n  'Measure': 'D000029',\n  'ValueAttribute': 'None',\n  'Value': 0.8,\n  'WijkenEnBuurten': 'NL00'},\n {'Id': 92,\n  'Measure': 'D000045',\n  'ValueAttribute': 'None',\n  'Value': 0.7,\n  'WijkenEnBuurten': 'NL00'},\n {'Id': 93,\n  'Measure': 'D000263',\n  'ValueAttribute': 'None',\n  'Value': 11.2,\n  'WijkenEnBuurten': 'NL00'},\n {'Id': 94,\n  'Measure': 'T001455_2',\n  'ValueAttribute': 'None',\n  'Value': 4154302.0,\n  'WijkenEnBuurten': 'NL00'},\n {'Id': 95,\n  'Measure': 'A047044',\n  'ValueAttribute': 'None',\n  'Value': 3367996.0,\n  'WijkenEnBuurten': 'NL00'},\n {'Id': 96,\n  'Measure': 'A047040',\n  'ValueAttribute': 'None',\n  'Value': 786306.0,\n  'WijkenEnBuurten': 'NL00'},\n {'Id': 97,\n  'Measure': 'ST0001',\n  'ValueAttribute': 'None',\n  'Value': 2.0,\n  'WijkenEnBuurten': 'NL00'},\n {'Id': 98,\n  'Measure': 'ST0003',\n  'ValueAttribute': 'None',\n  'Value': 1969.0,\n  'WijkenEnBuurten': 'NL00'},\n {'Id': 99,\n  'Measure': 'T001036',\n  'ValueAttribute': 'None',\n  'Value': 25286.0,\n  'WijkenEnBuurten': 'GM1680'}]"
     },
     "execution_count": 145,
     "metadata": {},
     "output_type": "execute_result"
    }
   ],
   "source": [
    "payload = payload['value']\n",
    "payload"
   ],
   "metadata": {
    "collapsed": false
   }
  },
  {
   "cell_type": "markdown",
   "metadata": {
    "id": "bjLVf2i5ZipR"
   },
   "source": [
    "## Data Structure\n",
    "The payload is now a list of 2 dictionaries. You could see them as two rows of data.\n",
    "Let's save these 'rows' in a `pd.DataFrame`.\n"
   ]
  },
  {
   "cell_type": "markdown",
   "metadata": {
    "id": "FgqYG46AZipT"
   },
   "source": []
  },
  {
   "cell_type": "code",
   "execution_count": 146,
   "metadata": {
    "id": "YyWTDyZtZipT",
    "outputId": "6d660cfe-162c-4d4a-a131-3acf2dfa380e"
   },
   "outputs": [
    {
     "data": {
      "text/plain": "    Id  Measure ValueAttribute       Value WijkenEnBuurten\n0    0  T001036           None  17081507.0            NL00\n1    1     3000           None   8475102.0            NL00\n2    2     4000           None   8606405.0            NL00\n3    3    10680           None   2781768.0            NL00\n4    4    53050           None   2101648.0            NL00\n..  ..      ...            ...         ...             ...\n95  95  A047044           None   3367996.0            NL00\n96  96  A047040           None    786306.0            NL00\n97  97   ST0001           None         2.0            NL00\n98  98   ST0003           None      1969.0            NL00\n99  99  T001036           None     25286.0          GM1680\n\n[100 rows x 5 columns]",
      "text/html": "<div>\n<style scoped>\n    .dataframe tbody tr th:only-of-type {\n        vertical-align: middle;\n    }\n\n    .dataframe tbody tr th {\n        vertical-align: top;\n    }\n\n    .dataframe thead th {\n        text-align: right;\n    }\n</style>\n<table border=\"1\" class=\"dataframe\">\n  <thead>\n    <tr style=\"text-align: right;\">\n      <th></th>\n      <th>Id</th>\n      <th>Measure</th>\n      <th>ValueAttribute</th>\n      <th>Value</th>\n      <th>WijkenEnBuurten</th>\n    </tr>\n  </thead>\n  <tbody>\n    <tr>\n      <th>0</th>\n      <td>0</td>\n      <td>T001036</td>\n      <td>None</td>\n      <td>17081507.0</td>\n      <td>NL00</td>\n    </tr>\n    <tr>\n      <th>1</th>\n      <td>1</td>\n      <td>3000</td>\n      <td>None</td>\n      <td>8475102.0</td>\n      <td>NL00</td>\n    </tr>\n    <tr>\n      <th>2</th>\n      <td>2</td>\n      <td>4000</td>\n      <td>None</td>\n      <td>8606405.0</td>\n      <td>NL00</td>\n    </tr>\n    <tr>\n      <th>3</th>\n      <td>3</td>\n      <td>10680</td>\n      <td>None</td>\n      <td>2781768.0</td>\n      <td>NL00</td>\n    </tr>\n    <tr>\n      <th>4</th>\n      <td>4</td>\n      <td>53050</td>\n      <td>None</td>\n      <td>2101648.0</td>\n      <td>NL00</td>\n    </tr>\n    <tr>\n      <th>...</th>\n      <td>...</td>\n      <td>...</td>\n      <td>...</td>\n      <td>...</td>\n      <td>...</td>\n    </tr>\n    <tr>\n      <th>95</th>\n      <td>95</td>\n      <td>A047044</td>\n      <td>None</td>\n      <td>3367996.0</td>\n      <td>NL00</td>\n    </tr>\n    <tr>\n      <th>96</th>\n      <td>96</td>\n      <td>A047040</td>\n      <td>None</td>\n      <td>786306.0</td>\n      <td>NL00</td>\n    </tr>\n    <tr>\n      <th>97</th>\n      <td>97</td>\n      <td>ST0001</td>\n      <td>None</td>\n      <td>2.0</td>\n      <td>NL00</td>\n    </tr>\n    <tr>\n      <th>98</th>\n      <td>98</td>\n      <td>ST0003</td>\n      <td>None</td>\n      <td>1969.0</td>\n      <td>NL00</td>\n    </tr>\n    <tr>\n      <th>99</th>\n      <td>99</td>\n      <td>T001036</td>\n      <td>None</td>\n      <td>25286.0</td>\n      <td>GM1680</td>\n    </tr>\n  </tbody>\n</table>\n<p>100 rows × 5 columns</p>\n</div>"
     },
     "execution_count": 146,
     "metadata": {},
     "output_type": "execute_result"
    }
   ],
   "source": [
    "df = pd.DataFrame(payload)\n",
    "df"
   ]
  },
  {
   "cell_type": "markdown",
   "metadata": {
    "id": "JOpjhon6ZipU"
   },
   "source": [
    "---\n",
    "\n",
    "We can calculate the means (across years) for each country and each `na_item` using `.groupby(...)` on a DataFrame.\n",
    "\n",
    "`groupby` simply groups a dataframe over the indexes/columns that are passed to it, on which we can then apply an aggregation function such as `.mean()`"
   ]
  },
  {
   "cell_type": "code",
   "execution_count": 148,
   "metadata": {
    "id": "tHzzPbUsZipV",
    "outputId": "a7f60387-0f80-4630-b405-eb5f95a01de8"
   },
   "outputs": [
    {
     "data": {
      "text/plain": "                 Id  Measure  ValueAttribute  Value\nWijkenEnBuurten                                    \nGM1680            1        1               1      1\nNL00             99       99              99     99",
      "text/html": "<div>\n<style scoped>\n    .dataframe tbody tr th:only-of-type {\n        vertical-align: middle;\n    }\n\n    .dataframe tbody tr th {\n        vertical-align: top;\n    }\n\n    .dataframe thead th {\n        text-align: right;\n    }\n</style>\n<table border=\"1\" class=\"dataframe\">\n  <thead>\n    <tr style=\"text-align: right;\">\n      <th></th>\n      <th>Id</th>\n      <th>Measure</th>\n      <th>ValueAttribute</th>\n      <th>Value</th>\n    </tr>\n    <tr>\n      <th>WijkenEnBuurten</th>\n      <th></th>\n      <th></th>\n      <th></th>\n      <th></th>\n    </tr>\n  </thead>\n  <tbody>\n    <tr>\n      <th>GM1680</th>\n      <td>1</td>\n      <td>1</td>\n      <td>1</td>\n      <td>1</td>\n    </tr>\n    <tr>\n      <th>NL00</th>\n      <td>99</td>\n      <td>99</td>\n      <td>99</td>\n      <td>99</td>\n    </tr>\n  </tbody>\n</table>\n</div>"
     },
     "execution_count": 148,
     "metadata": {},
     "output_type": "execute_result"
    }
   ],
   "source": [
    "df_means = (df.groupby(['WijkenEnBuurten']).count())\n",
    "df_means"
   ]
  },
  {
   "cell_type": "markdown",
   "metadata": {
    "id": "iH2H8LaGZipX"
   },
   "source": [
    "---"
   ]
  },
  {
   "cell_type": "markdown",
   "metadata": {
    "id": "tsJv9KELZipb"
   },
   "source": [
    "We can also chain our commands together rather than storing the intermediate values.\n",
    "This makes it easier to read the flow of operations but removes the ability to inspect intermediate results."
   ]
  },
  {
   "cell_type": "code",
   "execution_count": null,
   "metadata": {
    "id": "8QBeGUF7Zipb"
   },
   "outputs": [],
   "source": [
    "# Look at the documentation for the plot function below and see what types of plot you can make\n",
    "pd.DataFrame.plot?\n",
    "\n"
   ]
  },
  {
   "cell_type": "markdown",
   "source": [
    "The following code was copied and adapted from the CBS github. See repository [here](https://github.com/statistiekcbs/CBS-Open-Data-v4)\n",
    "\n",
    "In this example we will join municipal boundaries on number of births.\n",
    "\n",
    "\n"
   ],
   "metadata": {
    "collapsed": false
   }
  },
  {
   "cell_type": "code",
   "execution_count": 149,
   "outputs": [
    {
     "data": {
      "text/plain": "   id statcode  jrstatcode       statnaam   rubriek  \\\n0   1   GM0014  2023GM0014      Groningen  gemeente   \n1   2   GM0034  2023GM0034         Almere  gemeente   \n2   3   GM0037  2023GM0037    Stadskanaal  gemeente   \n3   4   GM0047  2023GM0047        Veendam  gemeente   \n4   5   GM0050  2023GM0050       Zeewolde  gemeente   \n5   6   GM0059  2023GM0059  Achtkarspelen  gemeente   \n6   7   GM0060  2023GM0060        Ameland  gemeente   \n7   8   GM0072  2023GM0072      Harlingen  gemeente   \n8   9   GM0074  2023GM0074     Heerenveen  gemeente   \n9  10   GM0080  2023GM0080     Leeuwarden  gemeente   \n\n                                            geometry  \n0  MULTIPOLYGON (((245194.69060 592594.00720, 245...  \n1  MULTIPOLYGON (((146891.05600 493291.70900, 147...  \n2  MULTIPOLYGON (((263763.86600 566430.39200, 263...  \n3  MULTIPOLYGON (((256231.90870 572319.21340, 258...  \n4  MULTIPOLYGON (((170596.29300 486786.45640, 170...  \n5  MULTIPOLYGON (((210504.11900 586245.32000, 210...  \n6  MULTIPOLYGON (((177841.52510 608434.41990, 179...  \n7  MULTIPOLYGON (((159611.05300 579600.96100, 159...  \n8  MULTIPOLYGON (((187469.41400 566216.70200, 187...  \n9  MULTIPOLYGON (((178314.14270 589844.71230, 179...  ",
      "text/html": "<div>\n<style scoped>\n    .dataframe tbody tr th:only-of-type {\n        vertical-align: middle;\n    }\n\n    .dataframe tbody tr th {\n        vertical-align: top;\n    }\n\n    .dataframe thead th {\n        text-align: right;\n    }\n</style>\n<table border=\"1\" class=\"dataframe\">\n  <thead>\n    <tr style=\"text-align: right;\">\n      <th></th>\n      <th>id</th>\n      <th>statcode</th>\n      <th>jrstatcode</th>\n      <th>statnaam</th>\n      <th>rubriek</th>\n      <th>geometry</th>\n    </tr>\n  </thead>\n  <tbody>\n    <tr>\n      <th>0</th>\n      <td>1</td>\n      <td>GM0014</td>\n      <td>2023GM0014</td>\n      <td>Groningen</td>\n      <td>gemeente</td>\n      <td>MULTIPOLYGON (((245194.69060 592594.00720, 245...</td>\n    </tr>\n    <tr>\n      <th>1</th>\n      <td>2</td>\n      <td>GM0034</td>\n      <td>2023GM0034</td>\n      <td>Almere</td>\n      <td>gemeente</td>\n      <td>MULTIPOLYGON (((146891.05600 493291.70900, 147...</td>\n    </tr>\n    <tr>\n      <th>2</th>\n      <td>3</td>\n      <td>GM0037</td>\n      <td>2023GM0037</td>\n      <td>Stadskanaal</td>\n      <td>gemeente</td>\n      <td>MULTIPOLYGON (((263763.86600 566430.39200, 263...</td>\n    </tr>\n    <tr>\n      <th>3</th>\n      <td>4</td>\n      <td>GM0047</td>\n      <td>2023GM0047</td>\n      <td>Veendam</td>\n      <td>gemeente</td>\n      <td>MULTIPOLYGON (((256231.90870 572319.21340, 258...</td>\n    </tr>\n    <tr>\n      <th>4</th>\n      <td>5</td>\n      <td>GM0050</td>\n      <td>2023GM0050</td>\n      <td>Zeewolde</td>\n      <td>gemeente</td>\n      <td>MULTIPOLYGON (((170596.29300 486786.45640, 170...</td>\n    </tr>\n    <tr>\n      <th>5</th>\n      <td>6</td>\n      <td>GM0059</td>\n      <td>2023GM0059</td>\n      <td>Achtkarspelen</td>\n      <td>gemeente</td>\n      <td>MULTIPOLYGON (((210504.11900 586245.32000, 210...</td>\n    </tr>\n    <tr>\n      <th>6</th>\n      <td>7</td>\n      <td>GM0060</td>\n      <td>2023GM0060</td>\n      <td>Ameland</td>\n      <td>gemeente</td>\n      <td>MULTIPOLYGON (((177841.52510 608434.41990, 179...</td>\n    </tr>\n    <tr>\n      <th>7</th>\n      <td>8</td>\n      <td>GM0072</td>\n      <td>2023GM0072</td>\n      <td>Harlingen</td>\n      <td>gemeente</td>\n      <td>MULTIPOLYGON (((159611.05300 579600.96100, 159...</td>\n    </tr>\n    <tr>\n      <th>8</th>\n      <td>9</td>\n      <td>GM0074</td>\n      <td>2023GM0074</td>\n      <td>Heerenveen</td>\n      <td>gemeente</td>\n      <td>MULTIPOLYGON (((187469.41400 566216.70200, 187...</td>\n    </tr>\n    <tr>\n      <th>9</th>\n      <td>10</td>\n      <td>GM0080</td>\n      <td>2023GM0080</td>\n      <td>Leeuwarden</td>\n      <td>gemeente</td>\n      <td>MULTIPOLYGON (((178314.14270 589844.71230, 179...</td>\n    </tr>\n  </tbody>\n</table>\n</div>"
     },
     "execution_count": 149,
     "metadata": {},
     "output_type": "execute_result"
    }
   ],
   "source": [
    "import pandas as pd\n",
    "import geopandas as gpd\n",
    "import requests\n",
    "\n",
    "# De geodata wordt via de API van het Nationaal Georegister van PDOK opgehaald.\n",
    "# Een overzicht van beschikbare data staat op https://www.pdok.nl/datasets.\n",
    "pdok_url = \"https://service.pdok.nl/cbs/gebiedsindelingen/2023/wfs/v1_0?SERVICE=WFS&REQUEST=GetFeature&VERSION=2.0.0&TYPENAMES=gebiedsindelingen:gemeente_gegeneraliseerd&STARTINDEX=0&COUNT=10&outputFormat=json&SRSNAME=urn:ogc:def:crs:EPSG::28992\"\n",
    "\n",
    "gemeentegrenzen = gpd.read_file(pdok_url)\n",
    "gemeentegrenzen"
   ],
   "metadata": {
    "collapsed": false
   }
  },
  {
   "cell_type": "markdown",
   "source": [
    "The first time I tried I got some kind of weird error about ssl.\n",
    "After googling I found [this stackoverflow question](https://stackoverflow.com/questions/50236117/scraping-ssl-certificate-verify-failed-error-for-http-en-wikipedia-org)\n",
    "\n",
    "As suggested, running the code below (once) resolved it.\n",
    "\n",
    "```python\n",
    "import ssl\n",
    "ssl._create_default_https_context = ssl._create_unverified_context\n",
    "```"
   ],
   "metadata": {
    "collapsed": false
   }
  },
  {
   "cell_type": "markdown",
   "source": [
    "## Filtering\n",
    "The odata api uses some filtering, you can see this after the `?$filter` argument. Some more info on this filtering techique you can find [here](https://avinetworks.com/docs/latest/api-guide/logs.html).\n",
    "\n",
    "In this case it filters on where the `Measure` attribute equals (eq) `'M000173_2'` AND the `WijkenEnBuurten` attribute starts with `'GM'`."
   ],
   "metadata": {
    "collapsed": false
   }
  },
  {
   "cell_type": "code",
   "execution_count": 153,
   "outputs": [
    {
     "name": "stdout",
     "output_type": "stream",
     "text": [
      "Request returned 200 : 'OK'\n"
     ]
    },
    {
     "data": {
      "text/plain": "          Id    Measure ValueAttribute  Value WijkenEnBuurten\n0        119  M000173_2           None    6.0          GM1680\n1       6477  M000173_2           None   10.0          GM0738\n2       8612  M000173_2           None    7.0          GM0358\n3       9918  M000173_2           None    8.0          GM0197\n4      13108  M000173_2           None    9.0          GM0059\n..       ...        ...            ...    ...             ...\n383  1511104  M000173_2           None    7.0          GM0879\n384  1512798  M000173_2           None    8.0          GM0301\n385  1516623  M000173_2           None   12.0          GM1896\n386  1520400  M000173_2           None   11.0          GM0642\n387  1529010  M000173_2           None   11.0          GM0193\n\n[388 rows x 5 columns]",
      "text/html": "<div>\n<style scoped>\n    .dataframe tbody tr th:only-of-type {\n        vertical-align: middle;\n    }\n\n    .dataframe tbody tr th {\n        vertical-align: top;\n    }\n\n    .dataframe thead th {\n        text-align: right;\n    }\n</style>\n<table border=\"1\" class=\"dataframe\">\n  <thead>\n    <tr style=\"text-align: right;\">\n      <th></th>\n      <th>Id</th>\n      <th>Measure</th>\n      <th>ValueAttribute</th>\n      <th>Value</th>\n      <th>WijkenEnBuurten</th>\n    </tr>\n  </thead>\n  <tbody>\n    <tr>\n      <th>0</th>\n      <td>119</td>\n      <td>M000173_2</td>\n      <td>None</td>\n      <td>6.0</td>\n      <td>GM1680</td>\n    </tr>\n    <tr>\n      <th>1</th>\n      <td>6477</td>\n      <td>M000173_2</td>\n      <td>None</td>\n      <td>10.0</td>\n      <td>GM0738</td>\n    </tr>\n    <tr>\n      <th>2</th>\n      <td>8612</td>\n      <td>M000173_2</td>\n      <td>None</td>\n      <td>7.0</td>\n      <td>GM0358</td>\n    </tr>\n    <tr>\n      <th>3</th>\n      <td>9918</td>\n      <td>M000173_2</td>\n      <td>None</td>\n      <td>8.0</td>\n      <td>GM0197</td>\n    </tr>\n    <tr>\n      <th>4</th>\n      <td>13108</td>\n      <td>M000173_2</td>\n      <td>None</td>\n      <td>9.0</td>\n      <td>GM0059</td>\n    </tr>\n    <tr>\n      <th>...</th>\n      <td>...</td>\n      <td>...</td>\n      <td>...</td>\n      <td>...</td>\n      <td>...</td>\n    </tr>\n    <tr>\n      <th>383</th>\n      <td>1511104</td>\n      <td>M000173_2</td>\n      <td>None</td>\n      <td>7.0</td>\n      <td>GM0879</td>\n    </tr>\n    <tr>\n      <th>384</th>\n      <td>1512798</td>\n      <td>M000173_2</td>\n      <td>None</td>\n      <td>8.0</td>\n      <td>GM0301</td>\n    </tr>\n    <tr>\n      <th>385</th>\n      <td>1516623</td>\n      <td>M000173_2</td>\n      <td>None</td>\n      <td>12.0</td>\n      <td>GM1896</td>\n    </tr>\n    <tr>\n      <th>386</th>\n      <td>1520400</td>\n      <td>M000173_2</td>\n      <td>None</td>\n      <td>11.0</td>\n      <td>GM0642</td>\n    </tr>\n    <tr>\n      <th>387</th>\n      <td>1529010</td>\n      <td>M000173_2</td>\n      <td>None</td>\n      <td>11.0</td>\n      <td>GM0193</td>\n    </tr>\n  </tbody>\n</table>\n<p>388 rows × 5 columns</p>\n</div>"
     },
     "execution_count": 153,
     "metadata": {},
     "output_type": "execute_result"
    }
   ],
   "source": [
    "# Zoek op welke codes bij geboortecijfers horen\n",
    "table_url = \"https://odata4.cbs.nl/CBS/83765NED/Observations?$filter=Measure%20eq 'M000173_2' and startswith(WijkenEnBuurten,'GM')\"\n",
    "\n",
    "response = requests.get(table_url)\n",
    "print(f\"Request returned {response.status_code} : '{response.reason}'\")\n",
    "codes = pd.json_normalize(response.json()['value'])\n",
    "\n",
    "codes"
   ],
   "metadata": {
    "collapsed": false
   }
  },
  {
   "cell_type": "code",
   "execution_count": null,
   "outputs": [],
   "source": [
    "\n",
    "geb = codes[codes['Title'].str.contains(\"Geboorte\")]\n",
    "print(geb[['Title','Unit','Identifier']])\n"
   ],
   "metadata": {
    "collapsed": false
   }
  },
  {
   "cell_type": "code",
   "execution_count": null,
   "outputs": [],
   "source": [
    "\n",
    "target_url = table_url + \"/Observations?$filter=Measure eq 'M000173_2' and startswith(WijkenEnBuurten,'GM')\"\n",
    "# geboorten_per_gemeente = get_odata(target_url)\n",
    "geboorten_per_gemeente['WijkenEnBuurten'] = geboorten_per_gemeente['WijkenEnBuurten'].str.strip()\n",
    "geboorten_per_gemeente = geboorten_per_gemeente.rename({'Value':'relatieve_geboorte'}, axis='columns')\n",
    "gemeentegrenzen = pd.merge(gemeentegrenzen, geboorten_per_gemeente, left_on = \"statcode\", right_on = \"WijkenEnBuurten\")\n",
    "\n",
    "p = gemeentegrenzen.plot(column='relatieve_geboorte', figsize = (10,8))\n",
    "p.axis('off')\n",
    "p.set_title(\"Levend geborenen per 1000 inwoners, 2017\")"
   ],
   "metadata": {
    "collapsed": false
   }
  },
  {
   "cell_type": "markdown",
   "metadata": {
    "id": "Y8IPf-hpZipc"
   },
   "source": [
    "### Real-world considerations for Requests\n",
    "\n",
    "Things do not always go so nicely, particularly when using API's at scale.\n",
    "\n",
    "We'll quickly cover some other common considerations when using API's, and outline how they can be solved.\n",
    "\n",
    "#### Retries\n",
    "\n",
    "Sometimes you can do everything perfectly, and send off a request but something on the web-server (or elsewhere) can go wrong and give a bad status code.\n",
    "We don't want to silently ignore these errors or let them crash our program by raising an exception.\n",
    "\n",
    "The first port of call is to retry the request again.\n",
    "\n",
    "---\n",
    "\n",
    "A hacky way to do this would be (**don't do this**):\n",
    "\n",
    "``` python\n",
    "import time\n",
    "import requests\n",
    "\n",
    "def get(url):\n",
    "    try:\n",
    "        r = requests.get(url)\n",
    "        r.raise_for_status()  # raise an error on a bad status\n",
    "    except:\n",
    "        time.sleep(1)  # sleep for a bit in case that helps\n",
    "        return get(url)  # try again\n",
    "```\n",
    "\n",
    "---\n",
    "\n",
    "A better and easier way to do this is to use the [tenacity](https://github.com/jd/tenacity) library:\n",
    "\n",
    "``` python\n",
    "import requests\n",
    "from tenacity import (retry, stop_after_attempt, wait_fixed,\n",
    "                      retry_if_exception_type)\n",
    "\n",
    "@retry(stop=stop_after_attempt(3), wait=wait_fixed(0.1),\n",
    "      retry=retry_if_exception_type(requests.HTTPError))\n",
    "def get(url):\n",
    "    try:\n",
    "        r = requests.get(url)\n",
    "        r.raise_for_status()  # raise an error on a bad status\n",
    "        return r\n",
    "    except requests.HTTPError:\n",
    "        print(r.status_code, r.reason)\n",
    "        raise\n",
    "```\n",
    "\n",
    "It uses a python decorator (the `@` symbol) to wrap our function with another function `retry` that will retry if we raise an error.\n",
    "\n",
    "We can tell it how many times to stop trying after, how long to wait between each retry, what error to retry on etc.\n",
    "\n",
    "#### Authentication\n",
    "\n",
    "Not all API's are open for immediate use. For example, some require you pay for access (e.g. the google maps API) and some require you to register for access first.\n",
    "\n",
    "When you get access to a \"closed\" API, you will typically get an API key - a long string of letters and numbers - which is unique to you which you need to send along with any GET request you make to the API.\n",
    "This lets the API know who you are and decide how to deal with your request.\n",
    "\n",
    "Several different types of authentication exists (read the specific API docs) but the most common way is:\n",
    "``` python\n",
    "api_key = 'asodifhafglkkhj'\n",
    "r = requests.get(url, auth=(api_key, ''))\n",
    "```\n",
    "\n",
    "#### Rate limits\n",
    "\n",
    "API's can be costly to host and typically limit the number of requests that can be made (either by an IP or API key).\n",
    "If you exceed this limit you'll get a `429` status code for any extra requests you make (and may be blocked if you continue making them).\n",
    "\n",
    "It is important to therefore respect any rate limits given in an API's documentation (annoyingly some are very vague).\n",
    "The simplest way to do this is to limit how often the number of times our function that makes the request can be called within some time limit using the [ratelim](https://pypi.org/project/ratelim/) library - again using decorators."
   ]
  },
  {
   "cell_type": "markdown",
   "metadata": {
    "id": "ZXyw13JxZipj"
   },
   "source": [
    "Using `ratelim.patient` is kinder to the API you are using as you lower the risk of overwhelming the API and getting a batch of responses with bad statuses."
   ]
  },
  {
   "cell_type": "code",
   "execution_count": null,
   "metadata": {
    "id": "Y9l1kBenZipl"
   },
   "outputs": [],
   "source": [
    "## Template\n",
    "\n",
    "# Make the request\n",
    "import requests\n",
    "\n",
    "url = ...\n",
    "\n",
    "response = requests.get(url)\n",
    "response.raise_for_status()  # Gives an error if not successful\n",
    "\n",
    "# Parse into JSON\n",
    "payload = ...\n",
    "\n",
    "# Define the index from `payload['dimension']`\n",
    "index = ...\n",
    "\n",
    "# Get data values\n",
    "values = ...\n",
    "\n",
    "# Read into dataframe, manipulate and plot\n",
    "(pd.DataFrame(values, index=index)\n",
    "    # Make dataframe wider (~1 line(s))\n",
    "    # Get totals (1 line)\n",
    "    # Plot (1 line)\n",
    ")"
   ]
  },
  {
   "cell_type": "markdown",
   "metadata": {
    "id": "b1vYmRcOZipl"
   },
   "source": [
    "## Resources"
   ]
  },
  {
   "cell_type": "markdown",
   "metadata": {
    "id": "49156wzKZipm"
   },
   "source": [
    "### Assorted API snippets"
   ]
  },
  {
   "cell_type": "code",
   "execution_count": null,
   "metadata": {
    "id": "Fquf52mIZipm"
   },
   "outputs": [],
   "source": [
    "## COMPANIES HOUSE (UK registrar of companies)\n",
    "# Register for an api key here: https://developer.companieshouse.gov.uk/developer/signin\n",
    "\n",
    "api_key = 'put your api key here'\n",
    "url = 'https://api.companieshouse.gov.uk/search?q=consultio consultius'\n",
    "response = requests.get(url, auth=(api_key, ''))\n",
    "response.raise_for_status()\n",
    "\n",
    "response.json()['items'][0]  # get the first item"
   ]
  },
  {
   "cell_type": "raw",
   "metadata": {
    "id": "E1W3L7UkZipn"
   },
   "source": [
    "# Example output\n",
    "{'title': 'CONSULTIO CONSULTIUS CONSULTING  LIMITED',\n",
    " 'snippet': '',\n",
    " 'address': {'country': 'United Kingdom',\n",
    "  'region': 'Uk',\n",
    "  'address_line_1': 'Gibbons Close',\n",
    "  'postal_code': 'GU47 9BB',\n",
    "  'address_line_2': 'Sandhurst',\n",
    "  'premises': '3 ',\n",
    "  'locality': 'Berkshire'},\n",
    " 'date_of_cessation': '2016-11-22',\n",
    " 'date_of_creation': '2016-03-29',\n",
    " 'kind': 'searchresults#company',\n",
    " 'matches': {'title': [1, 9, 11, 20], 'snippet': []},\n",
    " 'description': '10088276 - Dissolved on 22 November 2016',\n",
    " 'company_type': 'ltd',\n",
    " 'description_identifier': ['dissolved-on'],\n",
    " 'company_number': '10088276',\n",
    " 'company_status': 'dissolved',\n",
    " 'links': {'self': '/company/10088276'},\n",
    " 'address_snippet': '3  Gibbons Close, Sandhurst, Berkshire, Uk, United Kingdom, GU47 9BB'}"
   ]
  },
  {
   "cell_type": "code",
   "execution_count": null,
   "metadata": {
    "id": "6B7ycxr8Zipn",
    "outputId": "3fe16c09-5388-40e7-c27e-0250ee8ffe55"
   },
   "outputs": [],
   "source": [
    "## REDDIT - https://www.reddit.com/dev/api/#GET_subreddits_search\n",
    "# Let's find some subreddits to learn python with!\n",
    "# https://www.reddit.com/dev/api/#GET_subreddits_search\n",
    "\n",
    "url = 'https://www.reddit.com/subreddits/search.json?q=\"learn python\"&limit=5'\n",
    "response = requests.get(url, headers={'User-agent': 'your bot 0.1'})\n",
    "response.raise_for_status()\n",
    "\n",
    "[result['data']['display_name_prefixed']\n",
    " for result in response.json()['data']['children']]"
   ]
  },
  {
   "cell_type": "markdown",
   "metadata": {
    "id": "jFbWtGvvZipo"
   },
   "source": [
    "### List of API's\n",
    "\n",
    "Massive list [**here**](https://github.com/public-apis/public-apis)\n"
   ]
  },
  {
   "cell_type": "markdown",
   "metadata": {
    "id": "sLZrvq-OZipo"
   },
   "source": [
    "### API wrapper libraries\n",
    "\n",
    "Massive list [**here**](https://github.com/realpython/list-of-python-api-wrappers).\n",
    "\n",
    "For example, geo-code location data with [`geopy`](https://github.com/geopy/geopy) :"
   ]
  },
  {
   "cell_type": "code",
   "execution_count": null,
   "metadata": {
    "id": "Ikh2LR5SZipp",
    "outputId": "40db8e47-c764-4566-e2f6-3c28c9d25589"
   },
   "outputs": [],
   "source": [
    "from geopy.geocoders import Nominatim\n",
    "geolocator = Nominatim(user_agent=\"ysi_tutorial\")\n",
    "\n",
    "print(geolocator.geocode(\"Leuvenlaan 4\"))  # From address\n",
    "print(geolocator.reverse(\"52.086779,5.1674726\"))  # From co-ordinates"
   ]
  },
  {
   "cell_type": "markdown",
   "metadata": {
    "id": "Wr-avTuIZipr"
   },
   "source": [
    "### More detailed tutorials\n",
    "\n",
    "* Python - https://www.reddit.com/r/learnpython/wiki/index\n",
    "\n",
    "  This wiki gives a lot of different resources for people both new to programming, or just new to python.\n",
    "* Pandas - https://pandas.pydata.org/pandas-docs/stable/getting_started/tutorials.html\n",
    "    \n",
    "* Requests/API's\n",
    "    * https://realpython.com/python-requests/\n",
    "    * https://www.dataquest.io/blog/python-api-tutorial/"
   ]
  }
 ],
 "metadata": {
  "hide_input": false,
  "kernelspec": {
   "display_name": "Python 3",
   "language": "python",
   "name": "python3"
  },
  "language_info": {
   "codemirror_mode": {
    "name": "ipython",
    "version": 3
   },
   "file_extension": ".py",
   "mimetype": "text/x-python",
   "name": "python",
   "nbconvert_exporter": "python",
   "pygments_lexer": "ipython3",
   "version": "3.7.3"
  },
  "toc": {
   "base_numbering": 1,
   "nav_menu": {},
   "number_sections": true,
   "sideBar": true,
   "skip_h1_title": false,
   "title_cell": "Table of Contents",
   "title_sidebar": "Contents",
   "toc_cell": false,
   "toc_position": {},
   "toc_section_display": true,
   "toc_window_display": false
  },
  "varInspector": {
   "cols": {
    "lenName": 16,
    "lenType": 16,
    "lenVar": 40
   },
   "kernels_config": {
    "python": {
     "delete_cmd_postfix": "",
     "delete_cmd_prefix": "del ",
     "library": "var_list.py",
     "varRefreshCmd": "print(var_dic_list())"
    },
    "r": {
     "delete_cmd_postfix": ") ",
     "delete_cmd_prefix": "rm(",
     "library": "var_list.r",
     "varRefreshCmd": "cat(var_dic_list()) "
    }
   },
   "types_to_exclude": [
    "module",
    "function",
    "builtin_function_or_method",
    "instance",
    "_Feature"
   ],
   "window_display": false
  },
  "colab": {
   "provenance": []
  }
 },
 "nbformat": 4,
 "nbformat_minor": 0
}
