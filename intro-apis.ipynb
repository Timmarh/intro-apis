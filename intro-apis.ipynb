{
 "cells": [
  {
   "cell_type": "code",
   "execution_count": null,
   "metadata": {
    "id": "BCd-8x9KZin4"
   },
   "outputs": [],
   "source": [
    "%matplotlib inline"
   ]
  },
  {
   "cell_type": "markdown",
   "metadata": {
    "id": "EepbtdIgZioG"
   },
   "source": [
    "# Introduction to requests and API's"
   ]
  },
  {
   "cell_type": "markdown",
   "metadata": {
    "id": "LFpdlrfiZioK"
   },
   "source": [
    "## What you will be able to do after the tutorial\n",
    "\n",
    "- Understand what a (RESTful) API is\n",
    "- Understand what a HTTP request is\n",
    "- Use Python to make requests to an API\n",
    "- Use Python to work with JSON data\n",
    "- Use Python to read JSON data into a Dataframe and plot it\n",
    "- Understand how to overcome some real-world complexities when using API's\n",
    "      \n",
    "      "
   ]
  },
  {
   "cell_type": "markdown",
   "metadata": {
    "id": "0ttA5UxjZioN"
   },
   "source": [
    "## Prerequisites\n",
    "\n",
    "Before we get started with using API's in python we need to know a little more first."
   ]
  },
  {
   "cell_type": "markdown",
   "metadata": {
    "id": "opLHMZ57ZioP"
   },
   "source": [
    "### APIs : What and why\n",
    "    \n",
    "An API (Application Programming interface) is a way for two different applications to communicate. Whilst the term applies to any two programs we are using it to refer to the API of a web service that provides data.\n",
    "\n",
    "To retrieve data from an API, a request to a remote web server is made.\n",
    "\n",
    "For example, if you want to build an application which plots stock prices, you would use the API of something like google finance to request the current stock prices.\n",
    "\n",
    "APIs are useful where:\n",
    "* Data is changing quickly, e.g. stock prices\n",
    "* The whole dataset is not required, e.g. the tweets of one user\n",
    "* Repeated computation is involved, e.g. Spotify API that tells you the genre of a piece of music\n",
    "\n",
    "#### REST\n",
    "\n",
    "Most API's you come across will be RESTful, i.e. they provide a REST (REpresentational State Transfer) interface.\n",
    "\n",
    "REST uses standard HTTP commands which means that getting data from an API is similar to accessing a webpage. \n",
    "\n",
    "For example, When you type `www.duckduckgo.com` in your browser, your browser is asking the `www.duckduckgo.com` server for a webpage by making a `GET` HTTP (Hypertext Transfer Protocol) request. Making a `GET` request to a RESTful API instead retrieves data (rather than a webpage).\n",
    "\n",
    "Similarly, while your browser uses `POST` to submit the contents of a form, REST APIs use `POST` to update data.\n",
    "\n",
    "REST APIs also uses other HTTP commmands such as `PUT` - for creating data - and `DELETE` - for removing data.\n",
    "\n",
    "HTTP is a text-based protocol (the response is always text) and could return a response in any format - this is typically found in the API documentation - though data is more often than not returned in JSON format.\n",
    "\n",
    "As they are used to retrieve data `GET` requests are the most commonly used type of request, therefore we will restrict ourselves to `GET` in this tutorial.\n",
    "\n",
    "#### JSON\n",
    "\n",
    "JSON (JavaScript Object Notation) is a format for sending data, that is meant to be human readable and easy to parse (It was derived from JavaScript but is language-independent).\n",
    "\n",
    "It uses attribute-value pairs (e.g. python dictionaries `{\"name\": \"Pizza\", \"foodRanking\": 1}`) and array data-types (e.g. python lists `[1, 2, 3]`)\n",
    "\n",
    "Example JSON representation :\n",
    "```\n",
    "{\n",
    "  \"firstName\": \"Donald\",\n",
    "  \"lastName\": \"Trump\",\n",
    "  \"age\": 73,\n",
    "  \"isAlive\": true,\n",
    "  \"color\": \"orange\",\n",
    "  \"addresses\": [\n",
    "      {\n",
    "          \"streetAddress\": \"1600 Pennsylvania Avenue NW\",\n",
    "          \"city\": \"Washington, D.C.\",\n",
    "          \"state\": \"null\",\n",
    "          \"postalCode\": \"20500\",\n",
    "          \"country\": \"US\"\n",
    "      },\n",
    "      {\n",
    "          \"streetAddress\": \"721 Fifth Avenue\",\n",
    "          \"city\": \"NYC\",\n",
    "          \"state\": \"NY\",\n",
    "          \"postalCode\": \"10022\",\n",
    "          \"country\": \"US\"\n",
    "      }\n",
    "  ],\n",
    "}\n",
    "```\n",
    "\n",
    "\n",
    "#### Status codes\n",
    "\n",
    "So we've sent off some mystery `GET` request but how do we know the request was successful?\n",
    "\n",
    "Servers issue numeric [status codes](https://developer.mozilla.org/en-US/docs/Web/HTTP/Status) in response to HTTP requests that indicate whether a request has been successfully completed.\n",
    "\n",
    "Some common ones relating to `GET` requests are:\n",
    "* `200` - Success\n",
    "* `300` - The API is redirecting to a different endpoint\n",
    "* `400` - Bad request\n",
    "* `401` - Not authenticated\n",
    "* `403` - Forbidden\n",
    "* `404` - Not found\n",
    "* `429` - Too many requests"
   ]
  },
  {
   "cell_type": "markdown",
   "metadata": {
    "id": "3OXVpzQiZipF"
   },
   "source": [
    "## Example API: luchtmeetnet\n",
    "\n",
    "Let's dive in by looking at an API that can be of use to us, the [luchtmeetnet](https://api-docs.luchtmeetnet.nl/).\n",
    "\n",
    "The documentation linked gives a very useful summary of the structure of the requests:\n",
    "<!-- (![](https://github.com/nestauk/im-tutorials/blob/3-ysi-tutorial/notebooks/APIs/figures/eurostat_api.png?raw=1)) !-->\n",
    "![](https://github.com/Timmarh/intro-apis/blob/main/imgs/api_url.png?raw=1)\n",
    "\n",
    "The request consists of 2 parts. The first part is the url to the API itself. We will call this the base url, this url will stay the same for each request to this API. We can expand on this base url with a specification of what exactly we want from the api. This second part changes depending on what exactly we want from the API and how we want it. How exactly we have to specify this varies per API and can generally (if the API is set up well) be found in the [documentation](https://api-docs.luchtmeetnet.nl/) of the api. In our case it is."
   ]
  },
  {
   "cell_type": "markdown",
   "metadata": {
    "id": "5ynQczaFZipI"
   },
   "source": [
    "We'll learn by example how to use Python to get the data for a REST GET request on this dataset.\n",
    "\n",
    "We will use the Python library `requests` - https://github.com/psf/requests."
   ]
  },
  {
   "cell_type": "code",
   "execution_count": null,
   "metadata": {
    "id": "zpvrp7vaZipJ",
    "outputId": "c23e83ce-f86e-4f32-b21d-4ab14fa879c1"
   },
   "outputs": [],
   "source": [
    "import requests\n",
    "import pprint\n",
    "\n",
    "base_url = 'https://api.luchtmeetnet.nl/open_api/'\n",
    "\n",
    "response = requests.get(base_url + 'stations?order_by=&organisation_id=&page=')\n",
    "\n",
    "pp = pprint.PrettyPrinter(indent=1)\n",
    "pp.pprint(response.json())"
   ]
  },
  {
   "cell_type": "code",
   "execution_count": null,
   "outputs": [],
   "source": [
    "station = 'NL49557'\n",
    "response = requests.get(base_url + f'stations/{station}')\n",
    "pp.pprint(response.json())"
   ],
   "metadata": {
    "collapsed": false
   }
  },
  {
   "cell_type": "code",
   "execution_count": null,
   "outputs": [],
   "source": [
    "formula = 'C6H6'\n",
    "response = requests.get(base_url + f'stations/{station}/measurements?formula={formula}')\n",
    "pp.pprint(response.json())\n"
   ],
   "metadata": {
    "collapsed": false
   }
  },
  {
   "cell_type": "markdown",
   "source": [
    "## Convert the response to a dataframe.\n",
    "\n",
    "There are many ways to convert an API response, or another json, to a pandas dataframe.\n",
    "Here we will use the `json_normalize` fucntion, which comes in the pandas package.\n",
    "For some other options, see this [website](https://sparkbyexamples.com/pandas/pandas-convert-json-to-dataframe/)"
   ],
   "metadata": {
    "collapsed": false
   }
  },
  {
   "cell_type": "code",
   "execution_count": null,
   "outputs": [],
   "source": [
    "import pandas as pd\n",
    "\n",
    "response_data = response.json()['data']\n",
    "# pp.pprint(response_data)\n",
    "print(response_data[0].keys())\n",
    "\n",
    "\n",
    "response_df = pd.json_normalize(response_data)\n",
    "response_df\n",
    "\n",
    "\n",
    "response_df.value.plot(kind='bar')  # Make a bar plot\n"
   ],
   "metadata": {
    "collapsed": false
   }
  },
  {
   "cell_type": "markdown",
   "source": [
    "## CBS\n",
    "\n",
    "Another example"
   ],
   "metadata": {
    "collapsed": false
   }
  },
  {
   "cell_type": "code",
   "execution_count": null,
   "outputs": [],
   "source": [
    "\n",
    "import requests  # Import the requests library\n",
    "import pandas as pd # Import pandas for later\n",
    "import geopandas as gpd\n",
    "import warnings\n",
    "warnings.filterwarnings(action='once') ## This line makes sure you see warnings only once\n",
    "\n",
    "# Downloaden van eerste 100 rijen uit de tabel\n",
    "\n",
    "base_url = \"https://beta-odata4.cbs.nl/\"\n",
    "url = base_url + f\"CBS/83765NED/Observations?$top=100\"\n",
    "print(url)\n",
    "\n",
    "response = requests.get(url)  # Make a GET request to the URL\n",
    "\n",
    "# Print status code (and associated text)\n",
    "print(f\"Request returned {response.status_code} : '{response.reason}'\")"
   ],
   "metadata": {
    "collapsed": false
   }
  },
  {
   "cell_type": "code",
   "execution_count": null,
   "outputs": [],
   "source": [
    "print(response.text)"
   ],
   "metadata": {
    "collapsed": false
   }
  },
  {
   "cell_type": "code",
   "execution_count": null,
   "outputs": [],
   "source": [
    "\n",
    "# Print data returned (parsing as JSON)\n",
    "payload = response.json()  # Parse `response.text` into JSON\n",
    "\n",
    "import pprint\n",
    "pp = pprint.PrettyPrinter(indent=1)\n",
    "pp.pprint(payload)\n",
    "# NOTE: Could use print(response.json()) but this wouldn't be formatted nicely"
   ],
   "metadata": {
    "collapsed": false
   }
  },
  {
   "cell_type": "markdown",
   "metadata": {
    "id": "9C-GT7DSZipK"
   },
   "source": [
    "---\n",
    "\n",
    "**Tip:** it's easy to forget what attributes a variable like `response` has - was it `status_code` or `status`?\n",
    "Use the function `dir` to list the contents of a variable.\n",
    "\n",
    "``` python\n",
    "dir(response)\n",
    "```\n",
    "\n",
    "If you're in a jupyter notebook you can also type \"response.\" and then press `TAB` and an autocomplete bar will pop up.\n",
    "\n",
    "---"
   ]
  },
  {
   "cell_type": "markdown",
   "metadata": {
    "id": "x3h6BQ1-ZipL"
   },
   "source": [
    "**SUCCESS!** But what's the structure of our data?"
   ]
  },
  {
   "cell_type": "code",
   "execution_count": null,
   "metadata": {
    "id": "aolPFJ3rZipM",
    "outputId": "0013575f-f131-45ab-8e52-e2f41cfce62e"
   },
   "outputs": [],
   "source": [
    "payload['value']  # The values returned aren't very informative!"
   ]
  },
  {
   "cell_type": "markdown",
   "source": [
    "### The data is returned in some kind of structure. Let's unpack it."
   ],
   "metadata": {
    "collapsed": false
   }
  },
  {
   "cell_type": "code",
   "execution_count": null,
   "outputs": [],
   "source": [
    "payload = payload['value']\n",
    "payload"
   ],
   "metadata": {
    "collapsed": false
   }
  },
  {
   "cell_type": "markdown",
   "metadata": {
    "id": "bjLVf2i5ZipR"
   },
   "source": [
    "## Data Structure\n",
    "The payload is now a list of 2 dictionaries. You could see them as two rows of data.\n",
    "Let's save these 'rows' in a `pd.DataFrame`.\n"
   ]
  },
  {
   "cell_type": "markdown",
   "metadata": {
    "id": "FgqYG46AZipT"
   },
   "source": []
  },
  {
   "cell_type": "code",
   "execution_count": null,
   "metadata": {
    "id": "YyWTDyZtZipT",
    "outputId": "6d660cfe-162c-4d4a-a131-3acf2dfa380e"
   },
   "outputs": [],
   "source": [
    "df = pd.DataFrame(payload)\n",
    "df"
   ]
  },
  {
   "cell_type": "markdown",
   "metadata": {
    "id": "JOpjhon6ZipU"
   },
   "source": [
    "---\n",
    "\n",
    "We can calculate the means (across years) for each country and each `na_item` using `.groupby(...)` on a DataFrame.\n",
    "\n",
    "`groupby` simply groups a dataframe over the indexes/columns that are passed to it, on which we can then apply an aggregation function such as `.mean()`"
   ]
  },
  {
   "cell_type": "code",
   "execution_count": null,
   "metadata": {
    "id": "tHzzPbUsZipV",
    "outputId": "a7f60387-0f80-4630-b405-eb5f95a01de8"
   },
   "outputs": [],
   "source": [
    "df_means = (df.groupby(['WijkenEnBuurten']).count())\n",
    "df_means"
   ]
  },
  {
   "cell_type": "markdown",
   "metadata": {
    "id": "iH2H8LaGZipX"
   },
   "source": [
    "---"
   ]
  },
  {
   "cell_type": "markdown",
   "metadata": {
    "id": "tsJv9KELZipb"
   },
   "source": [
    "We can also chain our commands together rather than storing the intermediate values.\n",
    "This makes it easier to read the flow of operations but removes the ability to inspect intermediate results."
   ]
  },
  {
   "cell_type": "code",
   "execution_count": null,
   "metadata": {
    "id": "8QBeGUF7Zipb"
   },
   "outputs": [],
   "source": [
    "# Look at the documentation for the plot function below and see what types of plot you can make\n",
    "pd.DataFrame.plot?\n",
    "\n"
   ]
  },
  {
   "cell_type": "markdown",
   "source": [
    "The following code was copied and adapted from the CBS github. See repository [here](https://github.com/statistiekcbs/CBS-Open-Data-v4)\n",
    "\n",
    "In this example we will join municipal boundaries on number of births.\n",
    "\n",
    "\n"
   ],
   "metadata": {
    "collapsed": false
   }
  },
  {
   "cell_type": "code",
   "execution_count": null,
   "outputs": [],
   "source": [
    "import pandas as pd\n",
    "import geopandas as gpd\n",
    "import requests\n",
    "\n",
    "# De geodata wordt via de (wfs) API van het Nationaal Georegister van PDOK opgehaald.\n",
    "# Een overzicht van beschikbare data staat op https://www.pdok.nl/datasets.\n",
    "pdok_url = \"https://service.pdok.nl/cbs/gebiedsindelingen/2023/wfs/v1_0?SERVICE=WFS&REQUEST=GetFeature&VERSION=2.0.0&TYPENAMES=gebiedsindelingen:gemeente_gegeneraliseerd&STARTINDEX=0&COUNT=10&outputFormat=json&SRSNAME=urn:ogc:def:crs:EPSG::28992\"\n",
    "\n",
    "gemeentegrenzen = gpd.read_file(pdok_url)\n",
    "gemeentegrenzen"
   ],
   "metadata": {
    "collapsed": false
   }
  },
  {
   "cell_type": "markdown",
   "source": [
    "The first time I tried I got some kind of weird error about ssl.\n",
    "After googling I found [this stackoverflow question](https://stackoverflow.com/questions/50236117/scraping-ssl-certificate-verify-failed-error-for-http-en-wikipedia-org)\n",
    "\n",
    "As suggested, running the code below (once) resolved it.\n",
    "\n",
    "```python\n",
    "import ssl\n",
    "ssl._create_default_https_context = ssl._create_unverified_context\n",
    "```"
   ],
   "metadata": {
    "collapsed": false
   }
  },
  {
   "cell_type": "markdown",
   "source": [
    "## Filtering\n",
    "The odata api uses some filtering, you can see this after the `?$filter` argument. Some more info on this filtering techique you can find [here](https://avinetworks.com/docs/latest/api-guide/logs.html).\n",
    "\n",
    "In this case it filters on where the `Measure` attribute equals (eq) `'M000173_2'` AND the `WijkenEnBuurten` attribute starts with `'GM'`."
   ],
   "metadata": {
    "collapsed": false
   }
  },
  {
   "cell_type": "code",
   "execution_count": null,
   "outputs": [],
   "source": [
    "# Zoek op welke codes bij geboortecijfers horen\n",
    "table_url = \"https://odata4.cbs.nl/CBS/83765NED/Observations?$filter=Measure%20eq 'M000173_2' and startswith(WijkenEnBuurten,'GM')\"\n",
    "\n",
    "response = requests.get(table_url)\n",
    "print(f\"Request returned {response.status_code} : '{response.reason}'\")\n",
    "births_df = pd.json_normalize(response.json()['value'])\n",
    "\n",
    "births_df"
   ],
   "metadata": {
    "collapsed": false
   }
  },
  {
   "cell_type": "code",
   "execution_count": null,
   "outputs": [],
   "source": [
    "# Remove any trailing or leading spaces from the WijkenEnBuurten attribute\n",
    "births_df['WijkenEnBuurten'] = births_df['WijkenEnBuurten'].str.strip()\n",
    "\n",
    "# value is a confusing name for a attribute. It specifies the births per municipality. Lets rename it to relative_births\n",
    "births_df = births_df.rename({'Value': 'relative_births'}, axis='columns')\n",
    "\n",
    "# Both the gemeentegrenzen and the  births dataframe have code for the municipality.\n",
    "# We can use this code to merge (join) these two.\n",
    "gemeentegrenzen = pd.merge(gemeentegrenzen, births_df, left_on =\"statcode\", right_on =\"WijkenEnBuurten\")\n",
    "\n",
    "gemeentegrenzen\n"
   ],
   "metadata": {
    "collapsed": false
   }
  },
  {
   "cell_type": "code",
   "execution_count": null,
   "outputs": [],
   "source": [
    "p = gemeentegrenzen.plot(column='relative_births_x', figsize = (10,8), aspect = 1)\n",
    "p.axis('off')\n",
    "p.set_title(\"Levend geborenen per 1000 inwoners\")"
   ],
   "metadata": {
    "collapsed": false
   }
  },
  {
   "cell_type": "markdown",
   "metadata": {
    "id": "Y8IPf-hpZipc"
   },
   "source": [
    "### Real-world considerations for Requests\n",
    "\n",
    "Things do not always go so nicely, particularly when using API's at scale.\n",
    "\n",
    "We'll quickly cover some other common considerations when using API's, and outline how they can be solved.\n",
    "\n",
    "#### Retries\n",
    "\n",
    "Sometimes you can do everything perfectly, and send off a request but something on the web-server (or elsewhere) can go wrong and give a bad status code.\n",
    "We don't want to silently ignore these errors or let them crash our program by raising an exception.\n",
    "\n",
    "The first port of call is to retry the request again.\n",
    "\n",
    "---\n",
    "\n",
    "A hacky way to do this would be (**don't do this**):\n",
    "\n",
    "``` python\n",
    "import time\n",
    "import requests\n",
    "\n",
    "def get(url):\n",
    "    try:\n",
    "        r = requests.get(url)\n",
    "        r.raise_for_status()  # raise an error on a bad status\n",
    "    except:\n",
    "        time.sleep(1)  # sleep for a bit in case that helps\n",
    "        return get(url)  # try again\n",
    "```\n",
    "\n",
    "---\n",
    "\n",
    "A better and easier way to do this is to use the [tenacity](https://github.com/jd/tenacity) library:\n",
    "\n",
    "``` python\n",
    "import requests\n",
    "from tenacity import (retry, stop_after_attempt, wait_fixed,\n",
    "                      retry_if_exception_type)\n",
    "\n",
    "@retry(stop=stop_after_attempt(3), wait=wait_fixed(0.1),\n",
    "      retry=retry_if_exception_type(requests.HTTPError))\n",
    "def get(url):\n",
    "    try:\n",
    "        r = requests.get(url)\n",
    "        r.raise_for_status()  # raise an error on a bad status\n",
    "        return r\n",
    "    except requests.HTTPError:\n",
    "        print(r.status_code, r.reason)\n",
    "        raise\n",
    "```\n",
    "\n",
    "It uses a python decorator (the `@` symbol) to wrap our function with another function `retry` that will retry if we raise an error.\n",
    "\n",
    "We can tell it how many times to stop trying after, how long to wait between each retry, what error to retry on etc.\n",
    "\n",
    "#### Authentication\n",
    "\n",
    "Not all API's are open for immediate use. For example, some require you pay for access (e.g. the google maps API) and some require you to register for access first.\n",
    "\n",
    "When you get access to a \"closed\" API, you will typically get an API key - a long string of letters and numbers - which is unique to you which you need to send along with any GET request you make to the API.\n",
    "This lets the API know who you are and decide how to deal with your request.\n",
    "\n",
    "Several different types of authentication exists (read the specific API docs) but the most common way is:\n",
    "``` python\n",
    "api_key = 'asodifhafglkkhj'\n",
    "r = requests.get(url, auth=(api_key, ''))\n",
    "```\n",
    "\n",
    "#### Rate limits\n",
    "\n",
    "API's can be costly to host and typically limit the number of requests that can be made (either by an IP or API key).\n",
    "If you exceed this limit you'll get a `429` status code for any extra requests you make (and may be blocked if you continue making them).\n",
    "\n",
    "It is important to therefore respect any rate limits given in an API's documentation (annoyingly some are very vague).\n",
    "The simplest way to do this is to limit how often the number of times our function that makes the request can be called within some time limit using the [ratelim](https://pypi.org/project/ratelim/) library - again using decorators."
   ]
  },
  {
   "cell_type": "markdown",
   "metadata": {
    "id": "ZXyw13JxZipj"
   },
   "source": [
    "Using `ratelim.patient` is kinder to the API you are using as you lower the risk of overwhelming the API and getting a batch of responses with bad statuses."
   ]
  },
  {
   "cell_type": "code",
   "execution_count": null,
   "metadata": {
    "id": "Y9l1kBenZipl"
   },
   "outputs": [],
   "source": [
    "## Template\n",
    "\n",
    "# Make the request\n",
    "import requests\n",
    "\n",
    "url = ...\n",
    "\n",
    "response = requests.get(url)\n",
    "response.raise_for_status()  # Gives an error if not successful\n",
    "\n",
    "# Parse into JSON\n",
    "payload = ...\n",
    "\n",
    "# Define the index from `payload['dimension']`\n",
    "index = ...\n",
    "\n",
    "# Get data values\n",
    "values = ...\n",
    "\n",
    "# Read into dataframe, manipulate and plot\n",
    "(pd.DataFrame(values, index=index)\n",
    "    # Make dataframe wider (~1 line(s))\n",
    "    # Get totals (1 line)\n",
    "    # Plot (1 line)\n",
    ")"
   ]
  },
  {
   "cell_type": "markdown",
   "metadata": {
    "id": "b1vYmRcOZipl"
   },
   "source": [
    "## Resources"
   ]
  },
  {
   "cell_type": "markdown",
   "metadata": {
    "id": "49156wzKZipm"
   },
   "source": [
    "### Assorted API snippets"
   ]
  },
  {
   "cell_type": "code",
   "execution_count": null,
   "metadata": {
    "id": "Fquf52mIZipm"
   },
   "outputs": [],
   "source": [
    "## COMPANIES HOUSE (UK registrar of companies)\n",
    "# Register for an api key here: https://developer.companieshouse.gov.uk/developer/signin\n",
    "\n",
    "api_key = 'put your api key here'\n",
    "url = 'https://api.companieshouse.gov.uk/search?q=consultio consultius'\n",
    "response = requests.get(url, auth=(api_key, ''))\n",
    "response.raise_for_status()\n",
    "\n",
    "response.json()['items'][0]  # get the first item"
   ]
  },
  {
   "cell_type": "raw",
   "metadata": {
    "id": "E1W3L7UkZipn"
   },
   "source": [
    "# Example output\n",
    "{'title': 'CONSULTIO CONSULTIUS CONSULTING  LIMITED',\n",
    " 'snippet': '',\n",
    " 'address': {'country': 'United Kingdom',\n",
    "  'region': 'Uk',\n",
    "  'address_line_1': 'Gibbons Close',\n",
    "  'postal_code': 'GU47 9BB',\n",
    "  'address_line_2': 'Sandhurst',\n",
    "  'premises': '3 ',\n",
    "  'locality': 'Berkshire'},\n",
    " 'date_of_cessation': '2016-11-22',\n",
    " 'date_of_creation': '2016-03-29',\n",
    " 'kind': 'searchresults#company',\n",
    " 'matches': {'title': [1, 9, 11, 20], 'snippet': []},\n",
    " 'description': '10088276 - Dissolved on 22 November 2016',\n",
    " 'company_type': 'ltd',\n",
    " 'description_identifier': ['dissolved-on'],\n",
    " 'company_number': '10088276',\n",
    " 'company_status': 'dissolved',\n",
    " 'links': {'self': '/company/10088276'},\n",
    " 'address_snippet': '3  Gibbons Close, Sandhurst, Berkshire, Uk, United Kingdom, GU47 9BB'}"
   ]
  },
  {
   "cell_type": "code",
   "execution_count": null,
   "metadata": {
    "id": "6B7ycxr8Zipn",
    "outputId": "3fe16c09-5388-40e7-c27e-0250ee8ffe55"
   },
   "outputs": [],
   "source": [
    "## REDDIT - https://www.reddit.com/dev/api/#GET_subreddits_search\n",
    "# Let's find some subreddits to learn python with!\n",
    "# https://www.reddit.com/dev/api/#GET_subreddits_search\n",
    "\n",
    "url = 'https://www.reddit.com/subreddits/search.json?q=\"learn python\"&limit=5'\n",
    "response = requests.get(url, headers={'User-agent': 'your bot 0.1'})\n",
    "response.raise_for_status()\n",
    "\n",
    "[result['data']['display_name_prefixed']\n",
    " for result in response.json()['data']['children']]"
   ]
  },
  {
   "cell_type": "markdown",
   "metadata": {
    "id": "jFbWtGvvZipo"
   },
   "source": [
    "### List of API's\n",
    "\n",
    "Massive list [**here**](https://github.com/public-apis/public-apis)\n"
   ]
  },
  {
   "cell_type": "markdown",
   "metadata": {
    "id": "sLZrvq-OZipo"
   },
   "source": [
    "### API wrapper libraries\n",
    "\n",
    "Massive list [**here**](https://github.com/realpython/list-of-python-api-wrappers).\n",
    "\n",
    "For example, geo-code location data with [`geopy`](https://github.com/geopy/geopy) :"
   ]
  },
  {
   "cell_type": "code",
   "execution_count": null,
   "metadata": {
    "id": "Ikh2LR5SZipp",
    "outputId": "40db8e47-c764-4566-e2f6-3c28c9d25589"
   },
   "outputs": [],
   "source": [
    "from geopy.geocoders import Nominatim\n",
    "geolocator = Nominatim(user_agent=\"ysi_tutorial\")\n",
    "\n",
    "print(geolocator.geocode(\"Leuvenlaan 4\"))  # From address\n",
    "print(geolocator.reverse(\"52.086779,5.1674726\"))  # From co-ordinates"
   ]
  },
  {
   "cell_type": "markdown",
   "metadata": {
    "id": "Wr-avTuIZipr"
   },
   "source": [
    "### More detailed tutorials\n",
    "\n",
    "* Python - https://www.reddit.com/r/learnpython/wiki/index\n",
    "\n",
    "  This wiki gives a lot of different resources for people both new to programming, or just new to python.\n",
    "* Pandas - https://pandas.pydata.org/pandas-docs/stable/getting_started/tutorials.html\n",
    "    \n",
    "* Requests/API's\n",
    "    * https://realpython.com/python-requests/\n",
    "    * https://www.dataquest.io/blog/python-api-tutorial/"
   ]
  }
 ],
 "metadata": {
  "hide_input": false,
  "kernelspec": {
   "display_name": "Python 3",
   "language": "python",
   "name": "python3"
  },
  "language_info": {
   "codemirror_mode": {
    "name": "ipython",
    "version": 3
   },
   "file_extension": ".py",
   "mimetype": "text/x-python",
   "name": "python",
   "nbconvert_exporter": "python",
   "pygments_lexer": "ipython3",
   "version": "3.7.3"
  },
  "toc": {
   "base_numbering": 1,
   "nav_menu": {},
   "number_sections": true,
   "sideBar": true,
   "skip_h1_title": false,
   "title_cell": "Table of Contents",
   "title_sidebar": "Contents",
   "toc_cell": false,
   "toc_position": {},
   "toc_section_display": true,
   "toc_window_display": false
  },
  "varInspector": {
   "cols": {
    "lenName": 16,
    "lenType": 16,
    "lenVar": 40
   },
   "kernels_config": {
    "python": {
     "delete_cmd_postfix": "",
     "delete_cmd_prefix": "del ",
     "library": "var_list.py",
     "varRefreshCmd": "print(var_dic_list())"
    },
    "r": {
     "delete_cmd_postfix": ") ",
     "delete_cmd_prefix": "rm(",
     "library": "var_list.r",
     "varRefreshCmd": "cat(var_dic_list()) "
    }
   },
   "types_to_exclude": [
    "module",
    "function",
    "builtin_function_or_method",
    "instance",
    "_Feature"
   ],
   "window_display": false
  },
  "colab": {
   "provenance": []
  }
 },
 "nbformat": 4,
 "nbformat_minor": 0
}
